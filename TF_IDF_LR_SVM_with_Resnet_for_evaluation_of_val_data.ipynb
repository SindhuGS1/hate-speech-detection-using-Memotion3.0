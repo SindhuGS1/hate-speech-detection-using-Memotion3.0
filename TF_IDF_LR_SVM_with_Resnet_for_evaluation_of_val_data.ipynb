{
  "cells": [
    {
      "cell_type": "code",
      "execution_count": null,
      "metadata": {
        "colab": {
          "base_uri": "https://localhost:8080/"
        },
        "id": "ojb_9kcFb4aj",
        "outputId": "268721f1-1228-450f-bfb7-5da5043fd10a"
      },
      "outputs": [
        {
          "output_type": "stream",
          "name": "stdout",
          "text": [
            "Mounted at /content/drive\n"
          ]
        }
      ],
      "source": [
        "from google.colab import drive\n",
        "drive.mount('/content/drive')"
      ]
    },
    {
      "cell_type": "code",
      "execution_count": null,
      "metadata": {
        "id": "kpbAji05cJ_1"
      },
      "outputs": [],
      "source": [
        "path = \"/content/drive/MyDrive/Memotion3/\""
      ]
    },
    {
      "cell_type": "markdown",
      "metadata": {
        "id": "7TFNuQ0CMkQb"
      },
      "source": []
    },
    {
      "cell_type": "code",
      "execution_count": null,
      "metadata": {
        "id": "QwGWpVjod1KS"
      },
      "outputs": [],
      "source": [
        "from sklearn.datasets import load_files\n",
        "import pandas as pd\n",
        "import seaborn as sns\n",
        "import matplotlib.pyplot as plt\n",
        "\n",
        "from sklearn.feature_extraction.text import CountVectorizer\n",
        "from sklearn.feature_extraction.text import TfidfVectorizer\n",
        "from sklearn.linear_model import LogisticRegression\n",
        "from sklearn.naive_bayes import MultinomialNB\n",
        "from sklearn.neighbors import KNeighborsClassifier\n",
        "from sklearn.svm import SVC\n",
        "from sklearn.tree import DecisionTreeClassifier\n",
        "from sklearn.metrics import classification_report\n",
        "from sklearn.metrics import accuracy_score\n",
        "from sklearn.model_selection import cross_val_score\n",
        "from sklearn.model_selection import KFold\n",
        "from sklearn.model_selection import GridSearchCV\n",
        "from sklearn.ensemble import AdaBoostClassifier\n",
        "from sklearn.ensemble import RandomForestClassifier\n",
        "from matplotlib import pyplot as plt\n",
        "from sklearn.preprocessing import StandardScaler\n",
        "import torch\n",
        "from torchvision import models, transforms\n",
        "from PIL import Image\n",
        "import numpy as np\n"
      ]
    },
    {
      "cell_type": "code",
      "execution_count": null,
      "metadata": {
        "id": "3Cgu8n8VMn4V"
      },
      "outputs": [],
      "source": [
        "train_data = pd.read_csv(path+'train.csv')"
      ]
    },
    {
      "cell_type": "code",
      "source": [
        "train_data"
      ],
      "metadata": {
        "colab": {
          "base_uri": "https://localhost:8080/",
          "height": 423
        },
        "id": "OOaV8pNdVMT8",
        "outputId": "76dfb5b3-0686-4fba-dc60-f69670d8f76e"
      },
      "execution_count": null,
      "outputs": [
        {
          "output_type": "execute_result",
          "data": {
            "text/plain": [
              "      Unnamed: 0                                          image_url  \\\n",
              "0              0  https://encrypted-tbn0.gstatic.com/images?q=tb...   \n",
              "1              1  https://encrypted-tbn0.gstatic.com/images?q=tb...   \n",
              "2              2  https://encrypted-tbn0.gstatic.com/images?q=tb...   \n",
              "3              3  https://preview.redd.it/iwcz3o2niix61.jpg?widt...   \n",
              "4              4  https://encrypted-tbn0.gstatic.com/images?q=tb...   \n",
              "...          ...                                                ...   \n",
              "6995        6995  https://preview.redd.it/3c7iiijlg9d61.jpg?widt...   \n",
              "6996        6996  https://encrypted-tbn0.gstatic.com/images?q=tb...   \n",
              "6997        6997  https://encrypted-tbn0.gstatic.com/images?q=tb...   \n",
              "6998        6998  https://encrypted-tbn0.gstatic.com/images?q=tb...   \n",
              "6999        6999                https://i.redd.it/zy0sa8zk9zu51.png   \n",
              "\n",
              "          humour        sarcastic          offensive      motivational  \\\n",
              "0     very_funny  twisted_meaning      not_offensive  not_motivational   \n",
              "1     very_funny  twisted_meaning             slight  not_motivational   \n",
              "2          funny          general      not_offensive  not_motivational   \n",
              "3     very_funny  twisted_meaning      not_offensive  not_motivational   \n",
              "4      not_funny    not_sarcastic     very_offensive  not_motivational   \n",
              "...          ...              ...                ...               ...   \n",
              "6995   hilarious          general             slight  not_motivational   \n",
              "6996       funny     very_twisted  hateful_offensive  not_motivational   \n",
              "6997   hilarious    not_sarcastic      not_offensive  not_motivational   \n",
              "6998   hilarious          general     very_offensive      motivational   \n",
              "6999   hilarious  twisted_meaning             slight      motivational   \n",
              "\n",
              "       overall                                                ocr  \n",
              "0      neutral  Relationship status.\\nSingle\\nMarried\\nIt's co...  \n",
              "1      neutral  Bernie or REAGAN?\\nBe informed. Compare them o...  \n",
              "2     positive  I HEAR SOMETHING\\nBetter run a mile\\nOMG RAJ?\\...  \n",
              "3     positive  Redditors Visiting IG memepages\\n*dies from cr...  \n",
              "4     negative  Samajh nahi aaya Par sun ke acabo,\\nBUDGET SPE...  \n",
              "...        ...                                                ...  \n",
              "6995  negative  $14 y/o nibbi*\\n*16 y/o nibba*\\n*20 y/o single...  \n",
              "6996  negative  I DON'T HAVE A PROBLEM WITH\\nIMMIGRATION\\nIF W...  \n",
              "6997  positive  Como umbalin\\nHey Alia,\\nWhat is the\\nOpposite...  \n",
              "6998  negative  baby kya kr rhe ho?\\ntumhara favorite football...  \n",
              "6999  positive  specific religion calls itself religion\\nof pe...  \n",
              "\n",
              "[7000 rows x 8 columns]"
            ],
            "text/html": [
              "\n",
              "  <div id=\"df-cde5e9e4-a513-4884-baf5-f54139e35e77\" class=\"colab-df-container\">\n",
              "    <div>\n",
              "<style scoped>\n",
              "    .dataframe tbody tr th:only-of-type {\n",
              "        vertical-align: middle;\n",
              "    }\n",
              "\n",
              "    .dataframe tbody tr th {\n",
              "        vertical-align: top;\n",
              "    }\n",
              "\n",
              "    .dataframe thead th {\n",
              "        text-align: right;\n",
              "    }\n",
              "</style>\n",
              "<table border=\"1\" class=\"dataframe\">\n",
              "  <thead>\n",
              "    <tr style=\"text-align: right;\">\n",
              "      <th></th>\n",
              "      <th>Unnamed: 0</th>\n",
              "      <th>image_url</th>\n",
              "      <th>humour</th>\n",
              "      <th>sarcastic</th>\n",
              "      <th>offensive</th>\n",
              "      <th>motivational</th>\n",
              "      <th>overall</th>\n",
              "      <th>ocr</th>\n",
              "    </tr>\n",
              "  </thead>\n",
              "  <tbody>\n",
              "    <tr>\n",
              "      <th>0</th>\n",
              "      <td>0</td>\n",
              "      <td>https://encrypted-tbn0.gstatic.com/images?q=tb...</td>\n",
              "      <td>very_funny</td>\n",
              "      <td>twisted_meaning</td>\n",
              "      <td>not_offensive</td>\n",
              "      <td>not_motivational</td>\n",
              "      <td>neutral</td>\n",
              "      <td>Relationship status.\\nSingle\\nMarried\\nIt's co...</td>\n",
              "    </tr>\n",
              "    <tr>\n",
              "      <th>1</th>\n",
              "      <td>1</td>\n",
              "      <td>https://encrypted-tbn0.gstatic.com/images?q=tb...</td>\n",
              "      <td>very_funny</td>\n",
              "      <td>twisted_meaning</td>\n",
              "      <td>slight</td>\n",
              "      <td>not_motivational</td>\n",
              "      <td>neutral</td>\n",
              "      <td>Bernie or REAGAN?\\nBe informed. Compare them o...</td>\n",
              "    </tr>\n",
              "    <tr>\n",
              "      <th>2</th>\n",
              "      <td>2</td>\n",
              "      <td>https://encrypted-tbn0.gstatic.com/images?q=tb...</td>\n",
              "      <td>funny</td>\n",
              "      <td>general</td>\n",
              "      <td>not_offensive</td>\n",
              "      <td>not_motivational</td>\n",
              "      <td>positive</td>\n",
              "      <td>I HEAR SOMETHING\\nBetter run a mile\\nOMG RAJ?\\...</td>\n",
              "    </tr>\n",
              "    <tr>\n",
              "      <th>3</th>\n",
              "      <td>3</td>\n",
              "      <td>https://preview.redd.it/iwcz3o2niix61.jpg?widt...</td>\n",
              "      <td>very_funny</td>\n",
              "      <td>twisted_meaning</td>\n",
              "      <td>not_offensive</td>\n",
              "      <td>not_motivational</td>\n",
              "      <td>positive</td>\n",
              "      <td>Redditors Visiting IG memepages\\n*dies from cr...</td>\n",
              "    </tr>\n",
              "    <tr>\n",
              "      <th>4</th>\n",
              "      <td>4</td>\n",
              "      <td>https://encrypted-tbn0.gstatic.com/images?q=tb...</td>\n",
              "      <td>not_funny</td>\n",
              "      <td>not_sarcastic</td>\n",
              "      <td>very_offensive</td>\n",
              "      <td>not_motivational</td>\n",
              "      <td>negative</td>\n",
              "      <td>Samajh nahi aaya Par sun ke acabo,\\nBUDGET SPE...</td>\n",
              "    </tr>\n",
              "    <tr>\n",
              "      <th>...</th>\n",
              "      <td>...</td>\n",
              "      <td>...</td>\n",
              "      <td>...</td>\n",
              "      <td>...</td>\n",
              "      <td>...</td>\n",
              "      <td>...</td>\n",
              "      <td>...</td>\n",
              "      <td>...</td>\n",
              "    </tr>\n",
              "    <tr>\n",
              "      <th>6995</th>\n",
              "      <td>6995</td>\n",
              "      <td>https://preview.redd.it/3c7iiijlg9d61.jpg?widt...</td>\n",
              "      <td>hilarious</td>\n",
              "      <td>general</td>\n",
              "      <td>slight</td>\n",
              "      <td>not_motivational</td>\n",
              "      <td>negative</td>\n",
              "      <td>$14 y/o nibbi*\\n*16 y/o nibba*\\n*20 y/o single...</td>\n",
              "    </tr>\n",
              "    <tr>\n",
              "      <th>6996</th>\n",
              "      <td>6996</td>\n",
              "      <td>https://encrypted-tbn0.gstatic.com/images?q=tb...</td>\n",
              "      <td>funny</td>\n",
              "      <td>very_twisted</td>\n",
              "      <td>hateful_offensive</td>\n",
              "      <td>not_motivational</td>\n",
              "      <td>negative</td>\n",
              "      <td>I DON'T HAVE A PROBLEM WITH\\nIMMIGRATION\\nIF W...</td>\n",
              "    </tr>\n",
              "    <tr>\n",
              "      <th>6997</th>\n",
              "      <td>6997</td>\n",
              "      <td>https://encrypted-tbn0.gstatic.com/images?q=tb...</td>\n",
              "      <td>hilarious</td>\n",
              "      <td>not_sarcastic</td>\n",
              "      <td>not_offensive</td>\n",
              "      <td>not_motivational</td>\n",
              "      <td>positive</td>\n",
              "      <td>Como umbalin\\nHey Alia,\\nWhat is the\\nOpposite...</td>\n",
              "    </tr>\n",
              "    <tr>\n",
              "      <th>6998</th>\n",
              "      <td>6998</td>\n",
              "      <td>https://encrypted-tbn0.gstatic.com/images?q=tb...</td>\n",
              "      <td>hilarious</td>\n",
              "      <td>general</td>\n",
              "      <td>very_offensive</td>\n",
              "      <td>motivational</td>\n",
              "      <td>negative</td>\n",
              "      <td>baby kya kr rhe ho?\\ntumhara favorite football...</td>\n",
              "    </tr>\n",
              "    <tr>\n",
              "      <th>6999</th>\n",
              "      <td>6999</td>\n",
              "      <td>https://i.redd.it/zy0sa8zk9zu51.png</td>\n",
              "      <td>hilarious</td>\n",
              "      <td>twisted_meaning</td>\n",
              "      <td>slight</td>\n",
              "      <td>motivational</td>\n",
              "      <td>positive</td>\n",
              "      <td>specific religion calls itself religion\\nof pe...</td>\n",
              "    </tr>\n",
              "  </tbody>\n",
              "</table>\n",
              "<p>7000 rows × 8 columns</p>\n",
              "</div>\n",
              "    <div class=\"colab-df-buttons\">\n",
              "\n",
              "  <div class=\"colab-df-container\">\n",
              "    <button class=\"colab-df-convert\" onclick=\"convertToInteractive('df-cde5e9e4-a513-4884-baf5-f54139e35e77')\"\n",
              "            title=\"Convert this dataframe to an interactive table.\"\n",
              "            style=\"display:none;\">\n",
              "\n",
              "  <svg xmlns=\"http://www.w3.org/2000/svg\" height=\"24px\" viewBox=\"0 -960 960 960\">\n",
              "    <path d=\"M120-120v-720h720v720H120Zm60-500h600v-160H180v160Zm220 220h160v-160H400v160Zm0 220h160v-160H400v160ZM180-400h160v-160H180v160Zm440 0h160v-160H620v160ZM180-180h160v-160H180v160Zm440 0h160v-160H620v160Z\"/>\n",
              "  </svg>\n",
              "    </button>\n",
              "\n",
              "  <style>\n",
              "    .colab-df-container {\n",
              "      display:flex;\n",
              "      gap: 12px;\n",
              "    }\n",
              "\n",
              "    .colab-df-convert {\n",
              "      background-color: #E8F0FE;\n",
              "      border: none;\n",
              "      border-radius: 50%;\n",
              "      cursor: pointer;\n",
              "      display: none;\n",
              "      fill: #1967D2;\n",
              "      height: 32px;\n",
              "      padding: 0 0 0 0;\n",
              "      width: 32px;\n",
              "    }\n",
              "\n",
              "    .colab-df-convert:hover {\n",
              "      background-color: #E2EBFA;\n",
              "      box-shadow: 0px 1px 2px rgba(60, 64, 67, 0.3), 0px 1px 3px 1px rgba(60, 64, 67, 0.15);\n",
              "      fill: #174EA6;\n",
              "    }\n",
              "\n",
              "    .colab-df-buttons div {\n",
              "      margin-bottom: 4px;\n",
              "    }\n",
              "\n",
              "    [theme=dark] .colab-df-convert {\n",
              "      background-color: #3B4455;\n",
              "      fill: #D2E3FC;\n",
              "    }\n",
              "\n",
              "    [theme=dark] .colab-df-convert:hover {\n",
              "      background-color: #434B5C;\n",
              "      box-shadow: 0px 1px 3px 1px rgba(0, 0, 0, 0.15);\n",
              "      filter: drop-shadow(0px 1px 2px rgba(0, 0, 0, 0.3));\n",
              "      fill: #FFFFFF;\n",
              "    }\n",
              "  </style>\n",
              "\n",
              "    <script>\n",
              "      const buttonEl =\n",
              "        document.querySelector('#df-cde5e9e4-a513-4884-baf5-f54139e35e77 button.colab-df-convert');\n",
              "      buttonEl.style.display =\n",
              "        google.colab.kernel.accessAllowed ? 'block' : 'none';\n",
              "\n",
              "      async function convertToInteractive(key) {\n",
              "        const element = document.querySelector('#df-cde5e9e4-a513-4884-baf5-f54139e35e77');\n",
              "        const dataTable =\n",
              "          await google.colab.kernel.invokeFunction('convertToInteractive',\n",
              "                                                    [key], {});\n",
              "        if (!dataTable) return;\n",
              "\n",
              "        const docLinkHtml = 'Like what you see? Visit the ' +\n",
              "          '<a target=\"_blank\" href=https://colab.research.google.com/notebooks/data_table.ipynb>data table notebook</a>'\n",
              "          + ' to learn more about interactive tables.';\n",
              "        element.innerHTML = '';\n",
              "        dataTable['output_type'] = 'display_data';\n",
              "        await google.colab.output.renderOutput(dataTable, element);\n",
              "        const docLink = document.createElement('div');\n",
              "        docLink.innerHTML = docLinkHtml;\n",
              "        element.appendChild(docLink);\n",
              "      }\n",
              "    </script>\n",
              "  </div>\n",
              "\n",
              "\n",
              "    <div id=\"df-fbe8fe85-bcfb-4fce-b8ee-d117eaff68ee\">\n",
              "      <button class=\"colab-df-quickchart\" onclick=\"quickchart('df-fbe8fe85-bcfb-4fce-b8ee-d117eaff68ee')\"\n",
              "                title=\"Suggest charts\"\n",
              "                style=\"display:none;\">\n",
              "\n",
              "<svg xmlns=\"http://www.w3.org/2000/svg\" height=\"24px\"viewBox=\"0 0 24 24\"\n",
              "     width=\"24px\">\n",
              "    <g>\n",
              "        <path d=\"M19 3H5c-1.1 0-2 .9-2 2v14c0 1.1.9 2 2 2h14c1.1 0 2-.9 2-2V5c0-1.1-.9-2-2-2zM9 17H7v-7h2v7zm4 0h-2V7h2v10zm4 0h-2v-4h2v4z\"/>\n",
              "    </g>\n",
              "</svg>\n",
              "      </button>\n",
              "\n",
              "<style>\n",
              "  .colab-df-quickchart {\n",
              "      --bg-color: #E8F0FE;\n",
              "      --fill-color: #1967D2;\n",
              "      --hover-bg-color: #E2EBFA;\n",
              "      --hover-fill-color: #174EA6;\n",
              "      --disabled-fill-color: #AAA;\n",
              "      --disabled-bg-color: #DDD;\n",
              "  }\n",
              "\n",
              "  [theme=dark] .colab-df-quickchart {\n",
              "      --bg-color: #3B4455;\n",
              "      --fill-color: #D2E3FC;\n",
              "      --hover-bg-color: #434B5C;\n",
              "      --hover-fill-color: #FFFFFF;\n",
              "      --disabled-bg-color: #3B4455;\n",
              "      --disabled-fill-color: #666;\n",
              "  }\n",
              "\n",
              "  .colab-df-quickchart {\n",
              "    background-color: var(--bg-color);\n",
              "    border: none;\n",
              "    border-radius: 50%;\n",
              "    cursor: pointer;\n",
              "    display: none;\n",
              "    fill: var(--fill-color);\n",
              "    height: 32px;\n",
              "    padding: 0;\n",
              "    width: 32px;\n",
              "  }\n",
              "\n",
              "  .colab-df-quickchart:hover {\n",
              "    background-color: var(--hover-bg-color);\n",
              "    box-shadow: 0 1px 2px rgba(60, 64, 67, 0.3), 0 1px 3px 1px rgba(60, 64, 67, 0.15);\n",
              "    fill: var(--button-hover-fill-color);\n",
              "  }\n",
              "\n",
              "  .colab-df-quickchart-complete:disabled,\n",
              "  .colab-df-quickchart-complete:disabled:hover {\n",
              "    background-color: var(--disabled-bg-color);\n",
              "    fill: var(--disabled-fill-color);\n",
              "    box-shadow: none;\n",
              "  }\n",
              "\n",
              "  .colab-df-spinner {\n",
              "    border: 2px solid var(--fill-color);\n",
              "    border-color: transparent;\n",
              "    border-bottom-color: var(--fill-color);\n",
              "    animation:\n",
              "      spin 1s steps(1) infinite;\n",
              "  }\n",
              "\n",
              "  @keyframes spin {\n",
              "    0% {\n",
              "      border-color: transparent;\n",
              "      border-bottom-color: var(--fill-color);\n",
              "      border-left-color: var(--fill-color);\n",
              "    }\n",
              "    20% {\n",
              "      border-color: transparent;\n",
              "      border-left-color: var(--fill-color);\n",
              "      border-top-color: var(--fill-color);\n",
              "    }\n",
              "    30% {\n",
              "      border-color: transparent;\n",
              "      border-left-color: var(--fill-color);\n",
              "      border-top-color: var(--fill-color);\n",
              "      border-right-color: var(--fill-color);\n",
              "    }\n",
              "    40% {\n",
              "      border-color: transparent;\n",
              "      border-right-color: var(--fill-color);\n",
              "      border-top-color: var(--fill-color);\n",
              "    }\n",
              "    60% {\n",
              "      border-color: transparent;\n",
              "      border-right-color: var(--fill-color);\n",
              "    }\n",
              "    80% {\n",
              "      border-color: transparent;\n",
              "      border-right-color: var(--fill-color);\n",
              "      border-bottom-color: var(--fill-color);\n",
              "    }\n",
              "    90% {\n",
              "      border-color: transparent;\n",
              "      border-bottom-color: var(--fill-color);\n",
              "    }\n",
              "  }\n",
              "</style>\n",
              "\n",
              "      <script>\n",
              "        async function quickchart(key) {\n",
              "          const quickchartButtonEl =\n",
              "            document.querySelector('#' + key + ' button');\n",
              "          quickchartButtonEl.disabled = true;  // To prevent multiple clicks.\n",
              "          quickchartButtonEl.classList.add('colab-df-spinner');\n",
              "          try {\n",
              "            const charts = await google.colab.kernel.invokeFunction(\n",
              "                'suggestCharts', [key], {});\n",
              "          } catch (error) {\n",
              "            console.error('Error during call to suggestCharts:', error);\n",
              "          }\n",
              "          quickchartButtonEl.classList.remove('colab-df-spinner');\n",
              "          quickchartButtonEl.classList.add('colab-df-quickchart-complete');\n",
              "        }\n",
              "        (() => {\n",
              "          let quickchartButtonEl =\n",
              "            document.querySelector('#df-fbe8fe85-bcfb-4fce-b8ee-d117eaff68ee button');\n",
              "          quickchartButtonEl.style.display =\n",
              "            google.colab.kernel.accessAllowed ? 'block' : 'none';\n",
              "        })();\n",
              "      </script>\n",
              "    </div>\n",
              "\n",
              "  <div id=\"id_4af9bfb1-ab4c-4753-9394-51badba7b5a5\">\n",
              "    <style>\n",
              "      .colab-df-generate {\n",
              "        background-color: #E8F0FE;\n",
              "        border: none;\n",
              "        border-radius: 50%;\n",
              "        cursor: pointer;\n",
              "        display: none;\n",
              "        fill: #1967D2;\n",
              "        height: 32px;\n",
              "        padding: 0 0 0 0;\n",
              "        width: 32px;\n",
              "      }\n",
              "\n",
              "      .colab-df-generate:hover {\n",
              "        background-color: #E2EBFA;\n",
              "        box-shadow: 0px 1px 2px rgba(60, 64, 67, 0.3), 0px 1px 3px 1px rgba(60, 64, 67, 0.15);\n",
              "        fill: #174EA6;\n",
              "      }\n",
              "\n",
              "      [theme=dark] .colab-df-generate {\n",
              "        background-color: #3B4455;\n",
              "        fill: #D2E3FC;\n",
              "      }\n",
              "\n",
              "      [theme=dark] .colab-df-generate:hover {\n",
              "        background-color: #434B5C;\n",
              "        box-shadow: 0px 1px 3px 1px rgba(0, 0, 0, 0.15);\n",
              "        filter: drop-shadow(0px 1px 2px rgba(0, 0, 0, 0.3));\n",
              "        fill: #FFFFFF;\n",
              "      }\n",
              "    </style>\n",
              "    <button class=\"colab-df-generate\" onclick=\"generateWithVariable('train_data')\"\n",
              "            title=\"Generate code using this dataframe.\"\n",
              "            style=\"display:none;\">\n",
              "\n",
              "  <svg xmlns=\"http://www.w3.org/2000/svg\" height=\"24px\"viewBox=\"0 0 24 24\"\n",
              "       width=\"24px\">\n",
              "    <path d=\"M7,19H8.4L18.45,9,17,7.55,7,17.6ZM5,21V16.75L18.45,3.32a2,2,0,0,1,2.83,0l1.4,1.43a1.91,1.91,0,0,1,.58,1.4,1.91,1.91,0,0,1-.58,1.4L9.25,21ZM18.45,9,17,7.55Zm-12,3A5.31,5.31,0,0,0,4.9,8.1,5.31,5.31,0,0,0,1,6.5,5.31,5.31,0,0,0,4.9,4.9,5.31,5.31,0,0,0,6.5,1,5.31,5.31,0,0,0,8.1,4.9,5.31,5.31,0,0,0,12,6.5,5.46,5.46,0,0,0,6.5,12Z\"/>\n",
              "  </svg>\n",
              "    </button>\n",
              "    <script>\n",
              "      (() => {\n",
              "      const buttonEl =\n",
              "        document.querySelector('#id_4af9bfb1-ab4c-4753-9394-51badba7b5a5 button.colab-df-generate');\n",
              "      buttonEl.style.display =\n",
              "        google.colab.kernel.accessAllowed ? 'block' : 'none';\n",
              "\n",
              "      buttonEl.onclick = () => {\n",
              "        google.colab.notebook.generateWithVariable('train_data');\n",
              "      }\n",
              "      })();\n",
              "    </script>\n",
              "  </div>\n",
              "\n",
              "    </div>\n",
              "  </div>\n"
            ],
            "application/vnd.google.colaboratory.intrinsic+json": {
              "type": "dataframe",
              "variable_name": "train_data",
              "summary": "{\n  \"name\": \"train_data\",\n  \"rows\": 7000,\n  \"fields\": [\n    {\n      \"column\": \"Unnamed: 0\",\n      \"properties\": {\n        \"dtype\": \"number\",\n        \"std\": 2020,\n        \"min\": 0,\n        \"max\": 6999,\n        \"num_unique_values\": 7000,\n        \"samples\": [\n          6500,\n          2944,\n          2024\n        ],\n        \"semantic_type\": \"\",\n        \"description\": \"\"\n      }\n    },\n    {\n      \"column\": \"image_url\",\n      \"properties\": {\n        \"dtype\": \"string\",\n        \"num_unique_values\": 7000,\n        \"samples\": [\n          \"https://preview.redd.it/v1efucmn3uc61.jpg?width=640&crop=smart&auto=webp&s=520d5a7ad8451e0af16d02686fe7a379f7d6a338\",\n          \"https://encrypted-tbn0.gstatic.com/images?q=tbn:ANd9GcShhroFEIh6V-lpdbgvviuOAAMCgKSKCmyerQ&usqp=CAU\",\n          \"https://encrypted-tbn0.gstatic.com/images?q=tbn:ANd9GcSHieHYs3PupXSfRdZeZvV4CQv1RGzNqJTxPg&usqp=CAU\"\n        ],\n        \"semantic_type\": \"\",\n        \"description\": \"\"\n      }\n    },\n    {\n      \"column\": \"humour\",\n      \"properties\": {\n        \"dtype\": \"category\",\n        \"num_unique_values\": 4,\n        \"samples\": [\n          \"funny\",\n          \"hilarious\",\n          \"very_funny\"\n        ],\n        \"semantic_type\": \"\",\n        \"description\": \"\"\n      }\n    },\n    {\n      \"column\": \"sarcastic\",\n      \"properties\": {\n        \"dtype\": \"category\",\n        \"num_unique_values\": 4,\n        \"samples\": [\n          \"general\",\n          \"very_twisted\",\n          \"twisted_meaning\"\n        ],\n        \"semantic_type\": \"\",\n        \"description\": \"\"\n      }\n    },\n    {\n      \"column\": \"offensive\",\n      \"properties\": {\n        \"dtype\": \"category\",\n        \"num_unique_values\": 4,\n        \"samples\": [\n          \"slight\",\n          \"hateful_offensive\",\n          \"not_offensive\"\n        ],\n        \"semantic_type\": \"\",\n        \"description\": \"\"\n      }\n    },\n    {\n      \"column\": \"motivational\",\n      \"properties\": {\n        \"dtype\": \"category\",\n        \"num_unique_values\": 2,\n        \"samples\": [\n          \"motivational\",\n          \"not_motivational\"\n        ],\n        \"semantic_type\": \"\",\n        \"description\": \"\"\n      }\n    },\n    {\n      \"column\": \"overall\",\n      \"properties\": {\n        \"dtype\": \"category\",\n        \"num_unique_values\": 5,\n        \"samples\": [\n          \"positive\",\n          \"very_positive\"\n        ],\n        \"semantic_type\": \"\",\n        \"description\": \"\"\n      }\n    },\n    {\n      \"column\": \"ocr\",\n      \"properties\": {\n        \"dtype\": \"string\",\n        \"num_unique_values\": 6939,\n        \"samples\": [\n          \"*Math Exam*\\nMy friend: 3/50\\nMe: 5/50\",\n          \"Be kind to others. You just never know\\nwhat someone is going through.\\nI'm okay\\nHORNY\\nHORNY\\nHORNY\\nHORNY\"\n        ],\n        \"semantic_type\": \"\",\n        \"description\": \"\"\n      }\n    }\n  ]\n}"
            }
          },
          "metadata": {},
          "execution_count": 5
        }
      ]
    },
    {
      "cell_type": "code",
      "source": [
        "missing_counts = train_data.isnull().sum()\n",
        "missing_counts"
      ],
      "metadata": {
        "colab": {
          "base_uri": "https://localhost:8080/",
          "height": 335
        },
        "id": "tZcCuI_3nlsB",
        "outputId": "64325ba3-ed07-4fd6-bd49-69404dd9ca08"
      },
      "execution_count": null,
      "outputs": [
        {
          "output_type": "execute_result",
          "data": {
            "text/plain": [
              "Unnamed: 0      0\n",
              "image_url       0\n",
              "humour          0\n",
              "sarcastic       0\n",
              "offensive       0\n",
              "motivational    0\n",
              "overall         0\n",
              "ocr             0\n",
              "dtype: int64"
            ],
            "text/html": [
              "<div>\n",
              "<style scoped>\n",
              "    .dataframe tbody tr th:only-of-type {\n",
              "        vertical-align: middle;\n",
              "    }\n",
              "\n",
              "    .dataframe tbody tr th {\n",
              "        vertical-align: top;\n",
              "    }\n",
              "\n",
              "    .dataframe thead th {\n",
              "        text-align: right;\n",
              "    }\n",
              "</style>\n",
              "<table border=\"1\" class=\"dataframe\">\n",
              "  <thead>\n",
              "    <tr style=\"text-align: right;\">\n",
              "      <th></th>\n",
              "      <th>0</th>\n",
              "    </tr>\n",
              "  </thead>\n",
              "  <tbody>\n",
              "    <tr>\n",
              "      <th>Unnamed: 0</th>\n",
              "      <td>0</td>\n",
              "    </tr>\n",
              "    <tr>\n",
              "      <th>image_url</th>\n",
              "      <td>0</td>\n",
              "    </tr>\n",
              "    <tr>\n",
              "      <th>humour</th>\n",
              "      <td>0</td>\n",
              "    </tr>\n",
              "    <tr>\n",
              "      <th>sarcastic</th>\n",
              "      <td>0</td>\n",
              "    </tr>\n",
              "    <tr>\n",
              "      <th>offensive</th>\n",
              "      <td>0</td>\n",
              "    </tr>\n",
              "    <tr>\n",
              "      <th>motivational</th>\n",
              "      <td>0</td>\n",
              "    </tr>\n",
              "    <tr>\n",
              "      <th>overall</th>\n",
              "      <td>0</td>\n",
              "    </tr>\n",
              "    <tr>\n",
              "      <th>ocr</th>\n",
              "      <td>0</td>\n",
              "    </tr>\n",
              "  </tbody>\n",
              "</table>\n",
              "</div><br><label><b>dtype:</b> int64</label>"
            ]
          },
          "metadata": {},
          "execution_count": 6
        }
      ]
    },
    {
      "cell_type": "code",
      "source": [
        "train_data.rename(columns={'Unnamed: 0': 'id'}, inplace=True)\n",
        "train_data.columns"
      ],
      "metadata": {
        "colab": {
          "base_uri": "https://localhost:8080/"
        },
        "id": "o0uQZOAzDWF6",
        "outputId": "6dbdc258-007b-404a-c61d-3d53775ed3c1"
      },
      "execution_count": null,
      "outputs": [
        {
          "output_type": "execute_result",
          "data": {
            "text/plain": [
              "Index(['id', 'image_url', 'humour', 'sarcastic', 'offensive', 'motivational',\n",
              "       'overall', 'ocr'],\n",
              "      dtype='object')"
            ]
          },
          "metadata": {},
          "execution_count": 7
        }
      ]
    },
    {
      "cell_type": "markdown",
      "source": [
        "## Code to check if the image index and its respective ocr text is aligned and not being invalid."
      ],
      "metadata": {
        "id": "MtIA2xPypU3w"
      }
    },
    {
      "cell_type": "code",
      "source": [
        "import os\n",
        "from PIL import Image\n",
        "\n",
        "image_folder = '/content/drive/MyDrive/Memotion3/trainImages'\n",
        "\n",
        "# Example row access\n",
        "for idx, row in train_data.iterrows():\n",
        "    image_name = f\"{row['id']}.jpg\"\n",
        "    #image_name = row['id']  # e.g., 'meme_0001.jpg'\n",
        "    image_path = os.path.join(image_folder, str(image_name))\n",
        "    #image_path = os.path.join(image_folder, image_name)\n",
        "\n",
        "    # Check if image file exists\n",
        "    if not os.path.exists(image_path):\n",
        "        print(f\" Missing: {image_path}\")\n",
        "    else:\n",
        "        # Load image (if needed)\n",
        "        img = Image.open(image_path)\n",
        "\n",
        "        # Optional: Check OCR and filename\n",
        "        print(f\" Image: {image_name} | OCR: {row['ocr'][:50]}...\")\n"
      ],
      "metadata": {
        "colab": {
          "base_uri": "https://localhost:8080/",
          "height": 1000
        },
        "id": "AT0wKjEhDqaS",
        "outputId": "cdd35536-51d2-4a90-aa2e-3909de8323d2"
      },
      "execution_count": null,
      "outputs": [
        {
          "output_type": "stream",
          "name": "stdout",
          "text": [
            " Image: 0.jpg | OCR: Relationship status.\n",
            "Single\n",
            "Married\n",
            "It's complicat...\n",
            " Image: 1.jpg | OCR: Bernie or REAGAN?\n",
            "Be informed. Compare them on the...\n",
            " Image: 2.jpg | OCR: I HEAR SOMETHING\n",
            "Better run a mile\n",
            "OMG RAJ?\n",
            "I got ...\n",
            " Image: 3.jpg | OCR: Redditors Visiting IG memepages\n",
            "*dies from cringe*...\n",
            " Image: 4.jpg | OCR: Samajh nahi aaya Par sun ke acabo,\n",
            "BUDGET SPEECH K...\n",
            " Image: 5.jpg | OCR: Apun hi bhagwaan hai...\n",
            " Image: 6.jpg | OCR: Everyone: *angry about youtube updates\n",
            "Me as an in...\n",
            " Image: 7.jpg | OCR: IMMIGRANTS!!\n",
            "BURN EM ALL AND THERE\n",
            "GAU\n",
            "BOATS\n",
            "memeg...\n",
            " Image: 8.jpg | OCR: My Teacher - While\n",
            "checking my answer\n",
            "sheet\n",
            "Me*\n",
            "Te...\n",
            " Image: 9.jpg | OCR: ✓\n",
            "Tweet\n",
            "Not an IlTian\n",
            "@Not_an_IITian\n",
            "@ShaadiDotCom...\n",
            " Image: 10.jpg | OCR: urganabedanaxtpras\n",
            "STATES\n",
            "Kamala Harris\n",
            "@KamalaHar...\n",
            " Image: 11.jpg | OCR: vany\n",
            "IMPERIAL COLLEGE\n",
            "94\n",
            "THOUG\n",
            "10110\n",
            "Lockdown kab ...\n",
            " Image: 12.jpg | OCR: If you hate America\n",
            "to much\n",
            "then you can just\n",
            "leav...\n",
            " Image: 13.jpg | OCR: Nupur J Sharma\n",
            "@UnSubtleDesi\n",
            "Roses are red\n",
            "Violets...\n",
            " Image: 14.jpg | OCR: JAPAN. VS\n",
            "Meanwhile in India\n",
            "Brecke\n",
            "AMERICA\n",
            "Chhota...\n",
            " Image: 15.jpg | OCR: BATHROOM ME KYA GIRAYA THA KATTAPA?\n",
            "SHAMPOO GIRAYA...\n",
            " Image: 16.jpg | OCR: Meeting let's botin\n",
            "ek dum se maqt badal diye.\n",
            "jaz...\n",
            " Image: 17.jpg | OCR: AISA KO VOTE KAR RHE HO\n",
            "TOH ZINDA HO TUM\n",
            "MEME CREA...\n",
            " Image: 18.jpg | OCR: Aisi Koi Jagah Nahi\n",
            "Jahan Me Gaya Nahi\n",
            "Bhai Kabhi ...\n",
            " Image: 19.jpg | OCR: Met mees\n",
            "dash\n",
            "dewan s\n",
            "When everyone is talking abo...\n",
            " Image: 20.jpg | OCR: Maybe we should contact the\n",
            "humans now\n",
            "Kangana Ran...\n",
            " Image: 21.jpg | OCR: Any channel with technical or\n",
            "gaming in title afte...\n",
            " Image: 22.jpg | OCR: Csk to this years ipl\n",
            "trophy...\n",
            " Image: 23.jpg | OCR: Indians Today: Muslims aren't Indians\n",
            "they are for...\n",
            " Image: 24.jpg | OCR: my friend helping me\n",
            "to fill exam form\n",
            "after deadl...\n",
            " Image: 25.jpg | OCR: REPUBLICANS REAGAN AND H.W. BUSH\n",
            "BOTH PASSED EXECU...\n",
            " Image: 26.jpg | OCR: LOVE HURTS THE MOST...!!\n",
            "KABHI PAAD MARTE HUE.\n",
            "TAT...\n",
            " Image: 27.jpg | OCR: 10% of arguments with Indian Parents\n",
            "are due to di...\n",
            " Image: 28.jpg | OCR: Indians: Modiji Corona se kaise fight Karna hai\n",
            "*M...\n",
            " Image: 29.jpg | OCR: Girls meeting their boyfriends\n",
            "after lockdown\n",
            "Terk...\n",
            " Image: 30.jpg | OCR: ME SHADI KI COFFEE\n",
            "YOU ARE AWFULLY BRAVE...\n",
            " Image: 31.jpg | OCR: new text After Filing An FIR\n",
            "Against Binod*\n",
            "SINOD\n",
            "...\n",
            " Image: 32.jpg | OCR: (HEY India WHY\n",
            "DO YOU ALWAYS\n",
            "WEAR THAT MASK?\n",
            "Fasci...\n",
            " Image: 33.jpg | OCR: SETTING PRIORITIES\n",
            "And all the Work-From-Home-Pare...\n",
            " Image: 34.jpg | OCR: TOI\n",
            "wmein car\n",
            "(Acur gyehr ram poal\n",
            "Our other...\n",
            " Image: 35.jpg | OCR: Harry Potter can't go back to Hogwarts.\n",
            "But, why?\n",
            "...\n",
            " Image: 36.jpg | OCR: Rashtriya\n",
            "Schutzstaffel\n",
            "eroding our\n",
            "Society\n",
            "\"Apoli...\n",
            " Image: 37.jpg | OCR: Allerhang\n",
            "Mujhe exam nahi dena hai...\n",
            " Image: 38.jpg | OCR: Sapan Verma Ⓒ\n",
            "@sapany\n",
            "Follow\n",
            "When you want to foll...\n",
            " Image: 39.jpg | OCR: Everyone making meme's on Binod\n",
            "Binod be like:-\n",
            "Ye...\n",
            " Image: 40.jpg | OCR: WHO IS Main hoon BINOD\n",
            "BINOD\n",
            "??\n",
            "BinodiNepali Hai\n",
            "ग...\n",
            " Image: 41.jpg | OCR: \"UPSC preparation mei bahut padhna\n",
            "padta hai, bahu...\n",
            " Image: 42.jpg | OCR: *Me: Yaar mei pehli baar daaru pee raha hu\n",
            "mere pe...\n",
            " Image: 43.jpg | OCR: Discovering something that doesn't exist\n",
            "People\n",
            "ma...\n",
            " Image: 44.jpg | OCR: BETA DON'T BE A\n",
            "NERD\n",
            "BUT STUDY 24 HOURS A\n",
            "DAY\n",
            "Desi...\n",
            " Image: 45.jpg | OCR: Students-exams honge ya ni koi bta do\n",
            "UGC #NoMoWUG...\n",
            " Image: 46.jpg | OCR: Charging cable found in man's bladder,\n",
            "doctor says...\n",
            " Image: 47.jpg | OCR: Everywhere I go I see his name\n",
            "Amar\n",
            "f\n",
            "#\n",
            "Binod and ...\n",
            " Image: 48.jpg | OCR: KARWALI BEZZATI ?...\n",
            " Image: 49.jpg | OCR: The EU\n",
            "PIXAR\n",
            "Problem with\n",
            "Inmigration\n",
            "Rols in Fran...\n",
            " Image: 50.jpg | OCR: CHEERS TO THE TEACHERS WHO CAN\n",
            "MAKE ANY SUBJECT\n",
            "SO...\n",
            " Image: 51.jpg | OCR: Me when shopkeeper says original nahi\n",
            "hai... Photo...\n",
            " Image: 52.jpg | OCR: You might be old, but are you this old\n",
            "Ores...\n",
            " Image: 53.jpg | OCR: Tamilian on his way...\n",
            "To claim his cultural\n",
            "super...\n",
            " Image: 54.jpg | OCR: when you get a 100% on a\n",
            "online test because you c...\n",
            " Image: 55.jpg | OCR: Our shit can exist in all 3\n",
            "forms of matter\n",
            "made w...\n",
            " Image: 56.jpg | OCR: VMC polls manifesto: Cong\n",
            "promises 'date destinati...\n",
            " Image: 57.jpg | OCR: When someone in the house returns\n",
            "from the grocery...\n",
            " Image: 58.jpg | OCR: These 4 organizations\n",
            "will hate you for having\n",
            "a d...\n",
            " Image: 59.jpg | OCR: BREXIT\n",
            "BREAKING\n",
            "POINT\n",
            "B/C FORCED IMMIGRATION CAUSE...\n",
            " Image: 60.jpg | OCR: When someone asks what your\n",
            "method is for homescho...\n",
            " Image: 61.jpg | OCR: JALDI JALDI PUBG BAN KAR DETA HU\n",
            "@meme.sayyy\n",
            "FIRR ...\n",
            " Image: 62.jpg | OCR: So you see, that's\n",
            "where the trouble began.\n",
            "That s...\n",
            " Image: 63.jpg | OCR: When you're giving tips to a candidate\n",
            "who is appe...\n",
            " Image: 64.jpg | OCR: Boris Johnson has grounded the UK until further\n",
            "no...\n",
            " Image: 65.jpg | OCR: 50\n",
            "Yo Yo Funny Singh @mornhumor 14h\n",
            "We need new ba...\n",
            " Image: 66.jpg | OCR: average horny guy\n",
            "1\n",
            "off endhub\n",
            "from Bhopal...\n",
            "HE\n",
            "4...\n",
            " Image: 67.jpg | OCR: From, \"hi daddy\" to \" your ex-wife\n",
            "calls me daddy ...\n",
            " Image: 68.jpg | OCR: AFTER IPL SUSPENDED\n",
            "CREATORS WHO WERE\n",
            "PROMTING FAN...\n",
            " Image: 69.jpg | OCR: Don't laugh Denver\n",
            "we will have the whole world in...\n",
            " Image: 70.jpg | OCR: \"YEH MAI KAR LETA HOON, TAB TAK AAP\n",
            "DREAM11 PAR JA...\n",
            " Image: 71.jpg | OCR: 750\n",
            "Tax Evasion\n",
            "Affluent neighborhood in a\n",
            "develop...\n",
            " Image: 72.jpg | OCR: HEALTHCARE\n",
            "WAVE #1 WAVE #2,\n",
            "CHARYA...\n",
            " Image: 73.jpg | OCR: Other religions: You'll reach heaven once you die\n",
            "...\n",
            " Image: 74.jpg | OCR: Sign at Canadian Border\n",
            "CANADA-IMMIGRATION\n",
            "WARNING...\n",
            " Image: 75.jpg | OCR: VapoRub...\n",
            " Image: 76.jpg | OCR: #IndvsAfg\n",
            "Indians to shami right now\n",
            "TU BAHUT MAST...\n",
            " Image: 77.jpg | OCR: When your wifi subscription\n",
            "Expires on 30th of eve...\n",
            " Image: 78.jpg | OCR: BITCHES BE SAYING YOU\n",
            "ARE NOT MY TYPE AND BE\n",
            "FOLLO...\n",
            " Image: 79.jpg | OCR: 85\n",
            "Pornhub's library\n",
            "Internet People\n",
            "Piper Perri's...\n",
            " Image: 80.jpg | OCR: UPSC to aspirants of UP-Bihar\n",
            "UPSC\n",
            "MEME\n",
            "Kaise tujh...\n",
            " Image: 81.jpg | OCR: *Ramadhir\n",
            "Sartlar Khan se spiye aafis mein milne\n",
            "j...\n",
            " Image: 82.jpg | OCR: SPL\n",
            "Vivo X6\n",
            "Hero\n",
            "Hiralal\n",
            "CRET CRED CRE []\n",
            "DVIVO VN...\n",
            " Image: 83.jpg | OCR: THE\n",
            "CORONAVIRUS\n",
            "hade with Al credin.com\n",
            "ME\n",
            "M\n",
            "CONC\n",
            "...\n",
            " Image: 84.jpg | OCR: 2016\n",
            "Barbarian easteners migrants are our futurell...\n",
            " Image: 85.jpg | OCR: itachi uchiha vs Allia bhatt\n",
            "Tumhe pata hai Oxygen...\n",
            " Image: 86.jpg | OCR: Troll Bollywood Memes\n",
            "WHEN YOU REALIZE SALMAN\n",
            "TH\n",
            "K...\n",
            " Image: 87.jpg | OCR: Average veggie\n",
            "burgur fan\n",
            "Average vada\n",
            "pav enthusi...\n",
            " Image: 88.jpg | OCR: Laughing Coleers\n",
            "WHEN YOU'RE A DOCTOR AND\n",
            "YOUR CRU...\n",
            " Image: 89.jpg | OCR: सोचिए, अच्छे दिन किसे कहेंगे?\n",
            "प्याज 2014\n",
            "₹8 प्रति ...\n",
            " Image: 90.jpg | OCR: Predaje\n",
            "USvsindia\n",
            "Do you have money?\n",
            "Yes.\n",
            "Idhar ze...\n",
            " Image: 91.jpg | OCR: Pakchikpak Raja Babu\n",
            "@HaramiParindey\n",
            "Me \"gets up b...\n",
            " Image: 92.jpg | OCR: Chris Gayle\n",
            "40 (28)\n",
            "D Hooda\n",
            "64 (28)\n",
            "KE-Rahul\n",
            "91 (5...\n",
            " Image: 93.jpg | OCR: Anurag Verma\n",
            "kitAnurag\n",
            "Speiling bee:\n",
            "Jury: Your wo...\n",
            " Image: 94.jpg | OCR: POVERTY LEAVING US WHEN I ASKED\n",
            "MY FATHER \"KAMA KY...\n",
            " Image: 95.jpg | OCR: AS YOU CAN SEE\n",
            "I'M A PROFESSIONAL\n",
            "I'm gonna preten...\n",
            " Image: 96.jpg | OCR: CUMEMESH\n",
            "Lo maan liya humne hai pyaar nahi tumko\n",
            "M...\n",
            " Image: 97.jpg | OCR: A\n",
            "Doctor who operated Kim Jong Un\n",
            "You are a good m...\n",
            " Image: 98.jpg | OCR: NO ONE IS\n",
            "W STOLEN LAMP\n",
            "VOA...\n",
            " Image: 99.jpg | OCR: 600 Pages Ki Book Ko Kitny Dino\n",
            "Mei Parha Ja Skta ...\n",
            " Image: 100.jpg | OCR: Kisiki sympathy nahi\n",
            "milti iss disability me...\n",
            " Image: 101.jpg | OCR: RVCJ\n",
            "www.XVCA.COM\n",
            "JAISE KAPIL SHARMA\n",
            "CHANDU KI LET...\n",
            " Image: 102.jpg | OCR: Ek Aunty thi deewani si..\n",
            "Rasode mein kon tha..Bas...\n",
            " Image: 103.jpg | OCR: Simran Tiwari007 @Simrantiwari007-Aug 9\n",
            "#Binod aft...\n",
            " Image: 104.jpg | OCR: AGAR MEIN AAP KA FARM BILL\n",
            "Ka\n",
            "PAY KAR DU TOH??\n",
            "Ⓒda...\n",
            " Image: 105.jpg | OCR: THE FIRST ILLEGAL IMMIGRANTS\n",
            "NO GREEN CARDS?\n",
            "NO VI...\n",
            " Image: 106.jpg | OCR: Bhendi?\n",
            "Oumemeshhh\n",
            "Haan B uslims ko toh\n",
            "bhen bhi d...\n",
            " Image: 107.jpg | OCR: Rofl Gandhi\n",
            "Gandhi\n",
            "Follow\n",
            "me when experts discuss ...\n",
            " Image: 108.jpg | OCR: Biden picks a strong\n",
            "woman as his running mate\n",
            "Mot...\n",
            " Image: 109.jpg | OCR: THE\n",
            "Sir Ek Scheme Hai\n",
            "zonyəsiyelin\n",
            "Agadu? Seriousl...\n",
            " Image: 110.jpg | OCR: Imagine being named after dignity\n",
            "but not having i...\n",
            " Image: 111.jpg | OCR: Me cheating in online semester\n",
            "Ye wrong nahi hai y...\n",
            " Image: 112.jpg | OCR: Kaun Hai Ye Aayushi?\n",
            "Kyu Bewafa Hai Vo?\n",
            "HARDO...\n",
            " Image: 113.jpg | OCR: What can\n",
            "we do to\n",
            "stop living\n",
            "in fear?\n",
            "Godi Media\n",
            "...\n",
            " Image: 114.jpg | OCR: DONT YOU WORRY CHILD\n",
            "SEE HEAVEN'S GOT A PLAN FOR Y...\n",
            " Image: 115.jpg | OCR: My dad died\n",
            "Cool. Wanna get married?...\n",
            " Image: 116.jpg | OCR: Twittasm\n",
            "@twittesm\n",
            "These are Heart touching words\n",
            "...\n",
            " Image: 117.jpg | OCR: Bill Baptist\n",
            "Th-t\n",
            "***\n",
            "JOE\n",
            "\"The phrase I posted doe...\n",
            " Image: 118.jpg | OCR: takykarun\n",
            "When your bff starts tagging someone els...\n",
            " Image: 119.jpg | OCR: imgflip.com\n",
            "Bernie\n",
            "I am once again asking\n",
            "Tu hai k...\n",
            " Image: 120.jpg | OCR: 6\n",
            "BATCH\n",
            "Baccha kabil bano, kabil...\n",
            "Kamyabi to sal...\n",
            " Image: 121.jpg | OCR: I'M NOT AGAINST IMMIGRATION\n",
            "ELLIS ISLAND\n",
            "I'm again...\n",
            " Image: 122.jpg | OCR: HATT PAGAL..AISA\n",
            "KUCH BHI NAHIN HAI.\n",
            "YAAR VEERU. M...\n",
            " Image: 123.jpg | OCR: amyy\n",
            "me purposely calling immigration on\n",
            "myself be...\n",
            " Image: 124.jpg | OCR: There have been such gems amongst us who\n",
            "have chan...\n",
            " Image: 125.jpg | OCR: VICTORIA\n",
            "COPACA\n",
            "REST OF\n",
            "AUSTRALIA...\n",
            " Image: 126.jpg | OCR: His supporter is\n",
            "Intellectual.\n",
            "His supporter is\n",
            "Ve...\n",
            " Image: 127.jpg | OCR: I DONT KNOW WHO\n",
            "YOU ARE\n",
            "AB KI BAAR\n",
            "MODI SARKAAR\n",
            "bu...\n",
            " Image: 128.jpg | OCR: when\n",
            "Mom\n",
            "scolds\n",
            "When u realise Mumbai\n",
            "Police was c...\n",
            " Image: 129.jpg | OCR: 20\n",
            "All Akber\n",
            "Who cares about Covfefe when the enti...\n",
            " Image: 130.jpg | OCR: WITHOUT\n",
            "IMMIGRATION\n",
            "TRUMP\n",
            "WOULD HAVE\n",
            "NO WIVES...\n",
            " Image: 131.jpg | OCR: yar 3 tockowns 125,000 de\n",
            "hate tha...\n",
            " Image: 132.jpg | OCR: When no one's singing channa\n",
            "mereya at your weddin...\n",
            " Image: 133.jpg | OCR: *me reading a hentai manga*\n",
            "my brain:\n",
            "arey seedha ...\n",
            " Image: 134.jpg | OCR: @uvwxy\n",
            "should i study or just leave it up to Allah...\n",
            " Image: 135.jpg | OCR: Aavi\n",
            "@poisonaavi\n",
            "Ah yes, Madam Vice President\n",
            "Drag...\n",
            " Image: 136.jpg | OCR: CONGRATULATIONS,\n",
            "KAMALA HARRIS!\n",
            "ON MAKING HISTORY ...\n",
            " Image: 137.jpg | OCR: when you convert your dalit friend\n",
            "back to the rel...\n",
            " Image: 138.jpg | OCR: The Cyber Blog India\n",
            "WHALED (F OMR\n",
            "The Great India...\n",
            " Image: 139.jpg | OCR: BOLLYWOOD'S REACTION TO\n",
            "ONION PRICE HIKE\n",
            "NAHI..\n",
            "YE...\n",
            " Image: 140.jpg | OCR: insta desil\n",
            "THESE TWO WERE THE MOST LOVED\n",
            "SOUTH IN...\n",
            " Image: 141.jpg | OCR: Britain: *names Chicken Tikka Masala\n",
            "as one of its...\n",
            " Image: 142.jpg | OCR: 236\n",
            "LIVE NEWS VICE PRESIDENTIAL DEBATE\n",
            "COVID-19 VP...\n",
            " Image: 143.jpg | OCR: Kapil sharma: Hello welcome to\n",
            "kapil sharma show\n",
            "S...\n",
            " Image: 144.jpg | OCR: When the newspaper fellow\n",
            "doesn't arrive on his re...\n",
            " Image: 145.jpg | OCR: Behti Hawa Sa Tha Wo\n",
            "Udti Patang Sa Tha Wo\n",
            "Kahan G...\n",
            " Image: 146.jpg | OCR: ATRADE OFFER!\n",
            "i receive:\n",
            "you receive:\n",
            "Improved\n",
            "bla...\n",
            " Image: 147.jpg | OCR: Dost Goa Ka Plan Cancel\n",
            "Kare To Dhuk Hota Hai\n",
            "My R...\n",
            " Image: 148.jpg | OCR: m.com\n",
            "NETFLIX?\n",
            "COMPLETED IT MATE\n",
            "17...\n",
            " Image: 149.jpg | OCR: UMARFOREVER2.0\n",
            "AGRAM\n",
            "photo bhejni hai, konsi bheju...\n",
            " Image: 150.jpg | OCR: *My jio speed on 4G\n",
            "sim being 20-30 kbps\n",
            "jio\n",
            "users...\n",
            " Image: 151.jpg | OCR: WHEN YOU ASK GOL GAPPE WALE\n",
            "BHAIYA FOR EXTRA PAPDI...\n",
            " Image: 152.jpg | OCR: *Memers\n",
            "Binod who have no\n",
            "idea why he is\n",
            "trending?...\n",
            " Image: 153.jpg | OCR: Police\n",
            "memic\n",
            "*Binod\n",
            "*Bablu...\n",
            " Image: 154.jpg | OCR: mg com\n",
            "Kamala Harris is\n",
            "secretly the Joker\n",
            "CHANGE ...\n",
            " Image: 155.jpg | OCR: RVCJ KE ADMIN NE ADMIT\n",
            "IT WALI POST DAAL DI\n",
            "CHAL A...\n",
            " Image: 156.jpg | OCR: \"There was a little girl from California that beca...\n",
            " Image: 157.jpg | OCR: MY GREAT GRANDPARENTS DIDN'T\n",
            "TRAVEL ALL THE WAY AC...\n",
            " Image: 158.jpg | OCR: Bade dino baad book\n",
            "Kholi toh pata chala\n",
            "Yeh nhi a...\n",
            " Image: 159.jpg | OCR: BHAI SAHAB\n",
            "AAPKE PAAS PATLI PIN WAALA\n",
            "CHARGER HAI ...\n",
            " Image: 160.jpg | OCR: When you hear Queen Elizabeth is\n",
            "single again...\n",
            " Image: 161.jpg | OCR: I wanted to dress my nephew as a\n",
            "zombie, but he en...\n",
            " Image: 162.jpg | OCR: Health\n",
            "Home India News\n",
            "INDIA\n",
            "India\n",
            "World\n",
            "Firstpost...\n"
          ]
        },
        {
          "output_type": "error",
          "ename": "KeyboardInterrupt",
          "evalue": "",
          "traceback": [
            "\u001b[0;31m---------------------------------------------------------------------------\u001b[0m",
            "\u001b[0;31mKeyboardInterrupt\u001b[0m                         Traceback (most recent call last)",
            "\u001b[0;32m/tmp/ipython-input-3621048346.py\u001b[0m in \u001b[0;36m<cell line: 0>\u001b[0;34m()\u001b[0m\n\u001b[1;32m     16\u001b[0m     \u001b[0;32melse\u001b[0m\u001b[0;34m:\u001b[0m\u001b[0;34m\u001b[0m\u001b[0;34m\u001b[0m\u001b[0m\n\u001b[1;32m     17\u001b[0m         \u001b[0;31m# Load image (if needed)\u001b[0m\u001b[0;34m\u001b[0m\u001b[0;34m\u001b[0m\u001b[0m\n\u001b[0;32m---> 18\u001b[0;31m         \u001b[0mimg\u001b[0m \u001b[0;34m=\u001b[0m \u001b[0mImage\u001b[0m\u001b[0;34m.\u001b[0m\u001b[0mopen\u001b[0m\u001b[0;34m(\u001b[0m\u001b[0mimage_path\u001b[0m\u001b[0;34m)\u001b[0m\u001b[0;34m\u001b[0m\u001b[0;34m\u001b[0m\u001b[0m\n\u001b[0m\u001b[1;32m     19\u001b[0m \u001b[0;34m\u001b[0m\u001b[0m\n\u001b[1;32m     20\u001b[0m         \u001b[0;31m# Optional: Check OCR and filename\u001b[0m\u001b[0;34m\u001b[0m\u001b[0;34m\u001b[0m\u001b[0m\n",
            "\u001b[0;32m/usr/local/lib/python3.12/dist-packages/PIL/Image.py\u001b[0m in \u001b[0;36mopen\u001b[0;34m(fp, mode, formats)\u001b[0m\n\u001b[1;32m   3522\u001b[0m         \u001b[0mexclusive_fp\u001b[0m \u001b[0;34m=\u001b[0m \u001b[0;32mTrue\u001b[0m\u001b[0;34m\u001b[0m\u001b[0;34m\u001b[0m\u001b[0m\n\u001b[1;32m   3523\u001b[0m \u001b[0;34m\u001b[0m\u001b[0m\n\u001b[0;32m-> 3524\u001b[0;31m     \u001b[0mprefix\u001b[0m \u001b[0;34m=\u001b[0m \u001b[0mfp\u001b[0m\u001b[0;34m.\u001b[0m\u001b[0mread\u001b[0m\u001b[0;34m(\u001b[0m\u001b[0;36m16\u001b[0m\u001b[0;34m)\u001b[0m\u001b[0;34m\u001b[0m\u001b[0;34m\u001b[0m\u001b[0m\n\u001b[0m\u001b[1;32m   3525\u001b[0m \u001b[0;34m\u001b[0m\u001b[0m\n\u001b[1;32m   3526\u001b[0m     \u001b[0mpreinit\u001b[0m\u001b[0;34m(\u001b[0m\u001b[0;34m)\u001b[0m\u001b[0;34m\u001b[0m\u001b[0;34m\u001b[0m\u001b[0m\n",
            "\u001b[0;31mKeyboardInterrupt\u001b[0m: "
          ]
        }
      ]
    },
    {
      "cell_type": "code",
      "source": [
        "import pandas as pd\n",
        "\n",
        "# IMPORTANT: Make sure your 'path' variable is correctly defined\n",
        "path = \"/content/drive/MyDrive/Memotion3/\" # Adjust this path as needed\n",
        "\n",
        "# Reload val.csv with tab as the separator\n",
        "val_data = pd.read_csv(path + 'val.csv', sep='\\t', on_bad_lines='skip')\n",
        "\n",
        "# Drop 'Unnamed: 0' if it exists (though less likely with tab sep)\n",
        "#if 'Unnamed: 0' in val_data.columns:\n",
        "val_data = val_data.rename(columns={'Unnamed: 0': 'id'})\n",
        "\n",
        "# Print the columns again to verify they are loaded correctly\n",
        "print(\"New columns in val_data after reloading:\")\n",
        "val_data.columns"
      ],
      "metadata": {
        "colab": {
          "base_uri": "https://localhost:8080/"
        },
        "id": "ltYXUUglOrrM",
        "outputId": "3793ef09-04ac-4ad2-b240-ee7769039d66"
      },
      "execution_count": null,
      "outputs": [
        {
          "output_type": "stream",
          "name": "stdout",
          "text": [
            "New columns in val_data after reloading:\n"
          ]
        },
        {
          "output_type": "execute_result",
          "data": {
            "text/plain": [
              "Index(['id', 'image_url', 'humour', 'sarcastic', 'offensive', 'motivational',\n",
              "       'overall', 'ocr'],\n",
              "      dtype='object')"
            ]
          },
          "metadata": {},
          "execution_count": 10
        }
      ]
    },
    {
      "cell_type": "markdown",
      "source": [
        "## Checking the validation images with the respective ocr text if valid"
      ],
      "metadata": {
        "id": "FqsbF3EOp0Bl"
      }
    },
    {
      "cell_type": "code",
      "source": [
        "import os\n",
        "from PIL import Image\n",
        "\n",
        "image_folder = '/content/drive/MyDrive/Memotion3/valImages'\n",
        "\n",
        "# Example row access\n",
        "for idx, row in val_data.iterrows():\n",
        "    image_name = f\"{row['id']}.jpg\"\n",
        "    #image_name = row['id']  # e.g., 'meme_0001.jpg'\n",
        "    image_path = os.path.join(image_folder, str(image_name))\n",
        "    #image_path = os.path.join(image_folder, image_name)\n",
        "\n",
        "    # Check if image file exists\n",
        "    if not os.path.exists(image_path):\n",
        "        print(f\" Missing: {image_path}\")\n",
        "    else:\n",
        "        # Load image (if needed)\n",
        "        img = Image.open(image_path)\n",
        "\n",
        "        # Optional: Check OCR and filename\n",
        "        print(f\" Image: {image_name} | OCR: {row['ocr'][:50]}...\")\n"
      ],
      "metadata": {
        "colab": {
          "base_uri": "https://localhost:8080/",
          "height": 1000
        },
        "id": "Wr6FBnWSKQUP",
        "outputId": "5186f4d9-a60d-461f-b1ef-2be661e4ff2e"
      },
      "execution_count": null,
      "outputs": [
        {
          "output_type": "stream",
          "name": "stdout",
          "text": [
            " Image: 0.jpg | OCR: RVCJ\n",
            "www.EVCI.COM\n",
            "Tum paas aaye yun muskuraye\n",
            "BETA...\n",
            " Image: 1.jpg | OCR: rukjao Maqbeol,\n",
            "babuji ko tum nalt muaracay-\n",
            "hum m...\n",
            " Image: 2.jpg | OCR: champak appreciating Jetha\n",
            "for following lockdown\n",
            "...\n",
            " Image: 3.jpg | OCR: Noor Malik@ItsNoor 22h\n",
            "When you realize k\n",
            "Na car h...\n",
            " Image: 4.jpg | OCR: noop\n",
            "αποταθεωρία\n",
            "Nehe: ita gis having 5 boyfhends ...\n",
            " Image: 5.jpg | OCR: OMINES\n",
            "Entertainment\n",
            "Meri kundali mein ek khoon li...\n",
            " Image: 6.jpg | OCR: Quick Animal Facts:\n",
            "Most buffalo do not\n",
            "actually h...\n",
            " Image: 7.jpg | OCR: Me: Starts downloading new game\n",
            "on console\n",
            "*One ot...\n",
            " Image: 8.jpg | OCR: Sir Yuzvendra (parody)\n",
            "@SirYuzvendra\n",
            "The audience ...\n",
            " Image: 9.jpg | OCR: the w\n",
            "@sid262662\n",
            "Family watching KBC*\n",
            "Amitabh Bach...\n",
            " Image: 10.jpg | OCR: no one:\n",
            "the Kardashians:...\n",
            " Image: 11.jpg | OCR: I put my opposition\n",
            "leader in gulag for 4\n",
            "years an...\n",
            " Image: 12.jpg | OCR: I'M NOT AFRAID...\n",
            " Image: 13.jpg | OCR: The Indian EXPRESS\n",
            "MAT JAO CHOD KE HAME\n",
            "#NoModiNo ...\n",
            " Image: 14.jpg | OCR: Ghosts sit around the campfire\n",
            "and tell\n",
            "RAJINIKANT...\n",
            " Image: 15.jpg | OCR: IPL AND MIRZAPUR 2\n",
            "SOCIAL MEDIA ATTENTION\n",
            "SCAM 199...\n",
            " Image: 16.jpg | OCR: Rofl Gandhi\n",
            "@RofiGandhi\n",
            "suno, by road chalte hain,...\n",
            " Image: 17.jpg | OCR: SALMAN KHAN SENTENCED\n",
            "TO 5 YEARS IN PRISON\n",
            "HUMOR\n",
            "N...\n",
            " Image: 18.jpg | OCR: SCOOPWHOOP.COM\n",
            "AL\n",
            "AIN\n",
            "IDIGA\n",
            "The whole point of war...\n",
            " Image: 19.jpg | OCR: Could you turn off your cellphone\n",
            "@joonie_our_lend...\n",
            " Image: 20.jpg | OCR: Because......\n",
            "THE\n",
            "NEWYST\n",
            "All of us want tea or cof...\n",
            " Image: 21.jpg | OCR:  ...\n",
            " Image: 22.jpg | OCR: ARVIND KEJRIVAL IS SO HONEST\n",
            "THAT...\n",
            "HE FOLLOW TRA...\n",
            " Image: 23.jpg | OCR: HE LOST ALL THE\n",
            "RESPECT IN JUST 5 DAYS\n",
            "SOBAIL\n",
            "mene...\n",
            " Image: 24.jpg | OCR: THE CRUSHING\n",
            "DESPAIR OF EVERYTHING\n",
            "FROM THE PAST Y...\n",
            " Image: 25.jpg | OCR: MY MIND TO ME EVERY TIME\n",
            "I MEET A CUTE BABY OR DOG...\n",
            " Image: 26.jpg | OCR: Why it is\n",
            "pronounced Bri ish?\n",
            "1\n",
            "Cuz they drank the...\n",
            " Image: 27.jpg | OCR: 0...\n",
            " Image: 28.jpg | OCR: #NikhilChinapa to #Neha Dhupia\n",
            "Say No to #fakefemi...\n",
            " Image: 29.jpg | OCR: Not sure if\n",
            "the bowler is Ashok Dinda\n",
            "or Lagaan's ...\n",
            " Image: 30.jpg | OCR: Bus Train Aur\n",
            "Ladki\n",
            "Ek Jaati Hai\n",
            "Doosri Aati hal.....\n",
            " Image: 31.jpg | OCR: facebook.com/KopUMA facebook.com/RoMemes\n",
            "Kapil.. M...\n",
            " Image: 32.jpg | OCR: Petrol Price Hits Century\n",
            "Today..!\n",
            "Petrol ke dam k...\n",
            " Image: 33.jpg | OCR: Mouj: Pheran lagith ha neerzi\n",
            "Me: Na, mea che na t...\n",
            " Image: 34.jpg | OCR: Every Bihari father to his son.....\n",
            "@PrimeVideoIN ...\n",
            " Image: 35.jpg | OCR: HOD: 75% attendance is\n",
            "mandatory\n",
            "Nai to suspend kr...\n",
            " Image: 36.jpg | OCR: Everybody is a gangsta.\n",
            "Until the real gangsta\n",
            "ent...\n",
            " Image: 37.jpg | OCR: pandit tell his secret to shweta\n",
            "and thinking, shw...\n",
            " Image: 38.jpg | OCR: WHEN THE PERSON AGAINST WHOM YOU PREPARED SPEECH\n",
            "A...\n",
            " Image: 39.jpg | OCR: LE HARAAMI\n",
            "FRIENDS ON HOLI: HALKA SA TIKA LAGAUNGA...\n",
            " Image: 40.jpg | OCR: BLACK HEROES\n",
            "HISTORY\n",
            "HUSTLE\n",
            "Thurgood Marshall was ...\n",
            " Image: 41.jpg | OCR: The eye\n",
            "Meet tiktok star Faisu\n",
            "Her video got 945k ...\n",
            " Image: 42.jpg | OCR: 000\n",
            "XXXX\n",
            "Humari life mein kuch log\n",
            "Aise hote hai\n",
            "J...\n",
            " Image: 43.jpg | OCR: During Modi Ji's speech\n",
            "No. of people-\n",
            "paying atte...\n",
            " Image: 44.jpg | OCR: Bollywood Gand\n",
            "When a website asks you to read Ter...\n"
          ]
        },
        {
          "output_type": "error",
          "ename": "KeyboardInterrupt",
          "evalue": "",
          "traceback": [
            "\u001b[0;31m---------------------------------------------------------------------------\u001b[0m",
            "\u001b[0;31mKeyboardInterrupt\u001b[0m                         Traceback (most recent call last)",
            "\u001b[0;32m/tmp/ipython-input-3318380234.py\u001b[0m in \u001b[0;36m<cell line: 0>\u001b[0;34m()\u001b[0m\n\u001b[1;32m     16\u001b[0m     \u001b[0;32melse\u001b[0m\u001b[0;34m:\u001b[0m\u001b[0;34m\u001b[0m\u001b[0;34m\u001b[0m\u001b[0m\n\u001b[1;32m     17\u001b[0m         \u001b[0;31m# Load image (if needed)\u001b[0m\u001b[0;34m\u001b[0m\u001b[0;34m\u001b[0m\u001b[0m\n\u001b[0;32m---> 18\u001b[0;31m         \u001b[0mimg\u001b[0m \u001b[0;34m=\u001b[0m \u001b[0mImage\u001b[0m\u001b[0;34m.\u001b[0m\u001b[0mopen\u001b[0m\u001b[0;34m(\u001b[0m\u001b[0mimage_path\u001b[0m\u001b[0;34m)\u001b[0m\u001b[0;34m\u001b[0m\u001b[0;34m\u001b[0m\u001b[0m\n\u001b[0m\u001b[1;32m     19\u001b[0m \u001b[0;34m\u001b[0m\u001b[0m\n\u001b[1;32m     20\u001b[0m         \u001b[0;31m# Optional: Check OCR and filename\u001b[0m\u001b[0;34m\u001b[0m\u001b[0;34m\u001b[0m\u001b[0m\n",
            "\u001b[0;32m/usr/local/lib/python3.12/dist-packages/PIL/Image.py\u001b[0m in \u001b[0;36mopen\u001b[0;34m(fp, mode, formats)\u001b[0m\n\u001b[1;32m   3522\u001b[0m         \u001b[0mexclusive_fp\u001b[0m \u001b[0;34m=\u001b[0m \u001b[0;32mTrue\u001b[0m\u001b[0;34m\u001b[0m\u001b[0;34m\u001b[0m\u001b[0m\n\u001b[1;32m   3523\u001b[0m \u001b[0;34m\u001b[0m\u001b[0m\n\u001b[0;32m-> 3524\u001b[0;31m     \u001b[0mprefix\u001b[0m \u001b[0;34m=\u001b[0m \u001b[0mfp\u001b[0m\u001b[0;34m.\u001b[0m\u001b[0mread\u001b[0m\u001b[0;34m(\u001b[0m\u001b[0;36m16\u001b[0m\u001b[0;34m)\u001b[0m\u001b[0;34m\u001b[0m\u001b[0;34m\u001b[0m\u001b[0m\n\u001b[0m\u001b[1;32m   3525\u001b[0m \u001b[0;34m\u001b[0m\u001b[0m\n\u001b[1;32m   3526\u001b[0m     \u001b[0mpreinit\u001b[0m\u001b[0;34m(\u001b[0m\u001b[0;34m)\u001b[0m\u001b[0;34m\u001b[0m\u001b[0;34m\u001b[0m\u001b[0m\n",
            "\u001b[0;31mKeyboardInterrupt\u001b[0m: "
          ]
        }
      ]
    },
    {
      "cell_type": "code",
      "source": [
        "import pandas as pd\n",
        "\n",
        "# IMPORTANT: Make sure your 'path' variable is correctly defined\n",
        "path = \"/content/drive/MyDrive/Memotion3/\" # Adjust this path as needed\n",
        "\n",
        "# Reload val.csv with tab as the separator\n",
        "test_data = pd.read_csv(path+'test.csv')\n",
        "test_data.head()"
      ],
      "metadata": {
        "colab": {
          "base_uri": "https://localhost:8080/",
          "height": 206
        },
        "id": "tqIDwBGNOr5P",
        "outputId": "1a1fff49-168e-4e56-f78b-a0a9a25e3d28"
      },
      "execution_count": null,
      "outputs": [
        {
          "output_type": "execute_result",
          "data": {
            "text/plain": [
              "   Unnamed: 0                                          image_url  \\\n",
              "0           0  https://encrypted-tbn0.gstatic.com/images?q=tb...   \n",
              "1           1  https://encrypted-tbn0.gstatic.com/images?q=tb...   \n",
              "2           2  https://encrypted-tbn0.gstatic.com/images?q=tb...   \n",
              "3           3  https://encrypted-tbn0.gstatic.com/images?q=tb...   \n",
              "4           4  https://encrypted-tbn0.gstatic.com/images?q=tb...   \n",
              "\n",
              "                                                 ocr  \n",
              "0  #Lockdown4\\nmakatteun\\nbura lagega but there n...  \n",
              "1  पोस्ट करने वाले\\n@alayarwt\\nCOBAROK\\nHUME KOI ...  \n",
              "2  Girlfriend\\nFacebook\\nMe\\nPubg\\nMemes\\nInsta\\n...  \n",
              "3  TELL THEM THEY CAN OPEN P\\nMERS ARENALDEN\\nE\\n...  \n",
              "4  What about my Media attention\\npapa?\\nAa gaye ...  "
            ],
            "text/html": [
              "\n",
              "  <div id=\"df-9a33b18e-1053-45e9-a8d9-35bedcf4820a\" class=\"colab-df-container\">\n",
              "    <div>\n",
              "<style scoped>\n",
              "    .dataframe tbody tr th:only-of-type {\n",
              "        vertical-align: middle;\n",
              "    }\n",
              "\n",
              "    .dataframe tbody tr th {\n",
              "        vertical-align: top;\n",
              "    }\n",
              "\n",
              "    .dataframe thead th {\n",
              "        text-align: right;\n",
              "    }\n",
              "</style>\n",
              "<table border=\"1\" class=\"dataframe\">\n",
              "  <thead>\n",
              "    <tr style=\"text-align: right;\">\n",
              "      <th></th>\n",
              "      <th>Unnamed: 0</th>\n",
              "      <th>image_url</th>\n",
              "      <th>ocr</th>\n",
              "    </tr>\n",
              "  </thead>\n",
              "  <tbody>\n",
              "    <tr>\n",
              "      <th>0</th>\n",
              "      <td>0</td>\n",
              "      <td>https://encrypted-tbn0.gstatic.com/images?q=tb...</td>\n",
              "      <td>#Lockdown4\\nmakatteun\\nbura lagega but there n...</td>\n",
              "    </tr>\n",
              "    <tr>\n",
              "      <th>1</th>\n",
              "      <td>1</td>\n",
              "      <td>https://encrypted-tbn0.gstatic.com/images?q=tb...</td>\n",
              "      <td>पोस्ट करने वाले\\n@alayarwt\\nCOBAROK\\nHUME KOI ...</td>\n",
              "    </tr>\n",
              "    <tr>\n",
              "      <th>2</th>\n",
              "      <td>2</td>\n",
              "      <td>https://encrypted-tbn0.gstatic.com/images?q=tb...</td>\n",
              "      <td>Girlfriend\\nFacebook\\nMe\\nPubg\\nMemes\\nInsta\\n...</td>\n",
              "    </tr>\n",
              "    <tr>\n",
              "      <th>3</th>\n",
              "      <td>3</td>\n",
              "      <td>https://encrypted-tbn0.gstatic.com/images?q=tb...</td>\n",
              "      <td>TELL THEM THEY CAN OPEN P\\nMERS ARENALDEN\\nE\\n...</td>\n",
              "    </tr>\n",
              "    <tr>\n",
              "      <th>4</th>\n",
              "      <td>4</td>\n",
              "      <td>https://encrypted-tbn0.gstatic.com/images?q=tb...</td>\n",
              "      <td>What about my Media attention\\npapa?\\nAa gaye ...</td>\n",
              "    </tr>\n",
              "  </tbody>\n",
              "</table>\n",
              "</div>\n",
              "    <div class=\"colab-df-buttons\">\n",
              "\n",
              "  <div class=\"colab-df-container\">\n",
              "    <button class=\"colab-df-convert\" onclick=\"convertToInteractive('df-9a33b18e-1053-45e9-a8d9-35bedcf4820a')\"\n",
              "            title=\"Convert this dataframe to an interactive table.\"\n",
              "            style=\"display:none;\">\n",
              "\n",
              "  <svg xmlns=\"http://www.w3.org/2000/svg\" height=\"24px\" viewBox=\"0 -960 960 960\">\n",
              "    <path d=\"M120-120v-720h720v720H120Zm60-500h600v-160H180v160Zm220 220h160v-160H400v160Zm0 220h160v-160H400v160ZM180-400h160v-160H180v160Zm440 0h160v-160H620v160ZM180-180h160v-160H180v160Zm440 0h160v-160H620v160Z\"/>\n",
              "  </svg>\n",
              "    </button>\n",
              "\n",
              "  <style>\n",
              "    .colab-df-container {\n",
              "      display:flex;\n",
              "      gap: 12px;\n",
              "    }\n",
              "\n",
              "    .colab-df-convert {\n",
              "      background-color: #E8F0FE;\n",
              "      border: none;\n",
              "      border-radius: 50%;\n",
              "      cursor: pointer;\n",
              "      display: none;\n",
              "      fill: #1967D2;\n",
              "      height: 32px;\n",
              "      padding: 0 0 0 0;\n",
              "      width: 32px;\n",
              "    }\n",
              "\n",
              "    .colab-df-convert:hover {\n",
              "      background-color: #E2EBFA;\n",
              "      box-shadow: 0px 1px 2px rgba(60, 64, 67, 0.3), 0px 1px 3px 1px rgba(60, 64, 67, 0.15);\n",
              "      fill: #174EA6;\n",
              "    }\n",
              "\n",
              "    .colab-df-buttons div {\n",
              "      margin-bottom: 4px;\n",
              "    }\n",
              "\n",
              "    [theme=dark] .colab-df-convert {\n",
              "      background-color: #3B4455;\n",
              "      fill: #D2E3FC;\n",
              "    }\n",
              "\n",
              "    [theme=dark] .colab-df-convert:hover {\n",
              "      background-color: #434B5C;\n",
              "      box-shadow: 0px 1px 3px 1px rgba(0, 0, 0, 0.15);\n",
              "      filter: drop-shadow(0px 1px 2px rgba(0, 0, 0, 0.3));\n",
              "      fill: #FFFFFF;\n",
              "    }\n",
              "  </style>\n",
              "\n",
              "    <script>\n",
              "      const buttonEl =\n",
              "        document.querySelector('#df-9a33b18e-1053-45e9-a8d9-35bedcf4820a button.colab-df-convert');\n",
              "      buttonEl.style.display =\n",
              "        google.colab.kernel.accessAllowed ? 'block' : 'none';\n",
              "\n",
              "      async function convertToInteractive(key) {\n",
              "        const element = document.querySelector('#df-9a33b18e-1053-45e9-a8d9-35bedcf4820a');\n",
              "        const dataTable =\n",
              "          await google.colab.kernel.invokeFunction('convertToInteractive',\n",
              "                                                    [key], {});\n",
              "        if (!dataTable) return;\n",
              "\n",
              "        const docLinkHtml = 'Like what you see? Visit the ' +\n",
              "          '<a target=\"_blank\" href=https://colab.research.google.com/notebooks/data_table.ipynb>data table notebook</a>'\n",
              "          + ' to learn more about interactive tables.';\n",
              "        element.innerHTML = '';\n",
              "        dataTable['output_type'] = 'display_data';\n",
              "        await google.colab.output.renderOutput(dataTable, element);\n",
              "        const docLink = document.createElement('div');\n",
              "        docLink.innerHTML = docLinkHtml;\n",
              "        element.appendChild(docLink);\n",
              "      }\n",
              "    </script>\n",
              "  </div>\n",
              "\n",
              "\n",
              "    <div id=\"df-bc682a4d-3ffb-4818-9935-5e8390f6c487\">\n",
              "      <button class=\"colab-df-quickchart\" onclick=\"quickchart('df-bc682a4d-3ffb-4818-9935-5e8390f6c487')\"\n",
              "                title=\"Suggest charts\"\n",
              "                style=\"display:none;\">\n",
              "\n",
              "<svg xmlns=\"http://www.w3.org/2000/svg\" height=\"24px\"viewBox=\"0 0 24 24\"\n",
              "     width=\"24px\">\n",
              "    <g>\n",
              "        <path d=\"M19 3H5c-1.1 0-2 .9-2 2v14c0 1.1.9 2 2 2h14c1.1 0 2-.9 2-2V5c0-1.1-.9-2-2-2zM9 17H7v-7h2v7zm4 0h-2V7h2v10zm4 0h-2v-4h2v4z\"/>\n",
              "    </g>\n",
              "</svg>\n",
              "      </button>\n",
              "\n",
              "<style>\n",
              "  .colab-df-quickchart {\n",
              "      --bg-color: #E8F0FE;\n",
              "      --fill-color: #1967D2;\n",
              "      --hover-bg-color: #E2EBFA;\n",
              "      --hover-fill-color: #174EA6;\n",
              "      --disabled-fill-color: #AAA;\n",
              "      --disabled-bg-color: #DDD;\n",
              "  }\n",
              "\n",
              "  [theme=dark] .colab-df-quickchart {\n",
              "      --bg-color: #3B4455;\n",
              "      --fill-color: #D2E3FC;\n",
              "      --hover-bg-color: #434B5C;\n",
              "      --hover-fill-color: #FFFFFF;\n",
              "      --disabled-bg-color: #3B4455;\n",
              "      --disabled-fill-color: #666;\n",
              "  }\n",
              "\n",
              "  .colab-df-quickchart {\n",
              "    background-color: var(--bg-color);\n",
              "    border: none;\n",
              "    border-radius: 50%;\n",
              "    cursor: pointer;\n",
              "    display: none;\n",
              "    fill: var(--fill-color);\n",
              "    height: 32px;\n",
              "    padding: 0;\n",
              "    width: 32px;\n",
              "  }\n",
              "\n",
              "  .colab-df-quickchart:hover {\n",
              "    background-color: var(--hover-bg-color);\n",
              "    box-shadow: 0 1px 2px rgba(60, 64, 67, 0.3), 0 1px 3px 1px rgba(60, 64, 67, 0.15);\n",
              "    fill: var(--button-hover-fill-color);\n",
              "  }\n",
              "\n",
              "  .colab-df-quickchart-complete:disabled,\n",
              "  .colab-df-quickchart-complete:disabled:hover {\n",
              "    background-color: var(--disabled-bg-color);\n",
              "    fill: var(--disabled-fill-color);\n",
              "    box-shadow: none;\n",
              "  }\n",
              "\n",
              "  .colab-df-spinner {\n",
              "    border: 2px solid var(--fill-color);\n",
              "    border-color: transparent;\n",
              "    border-bottom-color: var(--fill-color);\n",
              "    animation:\n",
              "      spin 1s steps(1) infinite;\n",
              "  }\n",
              "\n",
              "  @keyframes spin {\n",
              "    0% {\n",
              "      border-color: transparent;\n",
              "      border-bottom-color: var(--fill-color);\n",
              "      border-left-color: var(--fill-color);\n",
              "    }\n",
              "    20% {\n",
              "      border-color: transparent;\n",
              "      border-left-color: var(--fill-color);\n",
              "      border-top-color: var(--fill-color);\n",
              "    }\n",
              "    30% {\n",
              "      border-color: transparent;\n",
              "      border-left-color: var(--fill-color);\n",
              "      border-top-color: var(--fill-color);\n",
              "      border-right-color: var(--fill-color);\n",
              "    }\n",
              "    40% {\n",
              "      border-color: transparent;\n",
              "      border-right-color: var(--fill-color);\n",
              "      border-top-color: var(--fill-color);\n",
              "    }\n",
              "    60% {\n",
              "      border-color: transparent;\n",
              "      border-right-color: var(--fill-color);\n",
              "    }\n",
              "    80% {\n",
              "      border-color: transparent;\n",
              "      border-right-color: var(--fill-color);\n",
              "      border-bottom-color: var(--fill-color);\n",
              "    }\n",
              "    90% {\n",
              "      border-color: transparent;\n",
              "      border-bottom-color: var(--fill-color);\n",
              "    }\n",
              "  }\n",
              "</style>\n",
              "\n",
              "      <script>\n",
              "        async function quickchart(key) {\n",
              "          const quickchartButtonEl =\n",
              "            document.querySelector('#' + key + ' button');\n",
              "          quickchartButtonEl.disabled = true;  // To prevent multiple clicks.\n",
              "          quickchartButtonEl.classList.add('colab-df-spinner');\n",
              "          try {\n",
              "            const charts = await google.colab.kernel.invokeFunction(\n",
              "                'suggestCharts', [key], {});\n",
              "          } catch (error) {\n",
              "            console.error('Error during call to suggestCharts:', error);\n",
              "          }\n",
              "          quickchartButtonEl.classList.remove('colab-df-spinner');\n",
              "          quickchartButtonEl.classList.add('colab-df-quickchart-complete');\n",
              "        }\n",
              "        (() => {\n",
              "          let quickchartButtonEl =\n",
              "            document.querySelector('#df-bc682a4d-3ffb-4818-9935-5e8390f6c487 button');\n",
              "          quickchartButtonEl.style.display =\n",
              "            google.colab.kernel.accessAllowed ? 'block' : 'none';\n",
              "        })();\n",
              "      </script>\n",
              "    </div>\n",
              "\n",
              "    </div>\n",
              "  </div>\n"
            ],
            "application/vnd.google.colaboratory.intrinsic+json": {
              "type": "dataframe",
              "variable_name": "test_data",
              "summary": "{\n  \"name\": \"test_data\",\n  \"rows\": 1500,\n  \"fields\": [\n    {\n      \"column\": \"Unnamed: 0\",\n      \"properties\": {\n        \"dtype\": \"number\",\n        \"std\": 433,\n        \"min\": 0,\n        \"max\": 1499,\n        \"num_unique_values\": 1500,\n        \"samples\": [\n          1116,\n          1368,\n          422\n        ],\n        \"semantic_type\": \"\",\n        \"description\": \"\"\n      }\n    },\n    {\n      \"column\": \"image_url\",\n      \"properties\": {\n        \"dtype\": \"string\",\n        \"num_unique_values\": 1500,\n        \"samples\": [\n          \"https://encrypted-tbn0.gstatic.com/images?q=tbn:ANd9GcSG6X9jfCDWGi0xD0b638i9GwBIAUPC4ue9Ow&usqp=CAU\",\n          \"https://encrypted-tbn0.gstatic.com/images?q=tbn:ANd9GcRpGRGHOSf8eIDkLj59fRyRppOdeeluFOi8vg&usqp=CAU\",\n          \"https://encrypted-tbn0.gstatic.com/images?q=tbn:ANd9GcQ1Nwe8-eKvSJJ1OO51xcD98SW0TkjEmquNWA&usqp=CAU\"\n        ],\n        \"semantic_type\": \"\",\n        \"description\": \"\"\n      }\n    },\n    {\n      \"column\": \"ocr\",\n      \"properties\": {\n        \"dtype\": \"string\",\n        \"num_unique_values\": 1480,\n        \"samples\": [\n          \"SO YOU HAVE TO ISOLATE WITH\\nYOUR FAMILY. WHAT COULD GO WRONG????\\np.com\",\n          \"ROADIES PRESENT AND ACCOUNTED\\nNR FOR, SIR!\",\n          \"Kabhi ye wala Stunt kiye ho ?\\nDaily\\nWake up\\nClass\\nLunch\\nRest\\n-\\n7\\nL\\nStudy\\nTea break-\\n-\\nSchedule\\n5.am\\n6 am to 1:30 pm.\\n2pm.\\n2pm to 2:45pm.\\n-\\n2:45pm to 5:15pm.\\n5:15 pm to 5:30pm.\\nStudy\\n5:30pm to 7:30 pm.\\nFamily time - Calling - 15 min - 7:45pm.\\nStudy (Revision) - 7:45pm to 8:30pm. - 45 min.\\nDinner\\n8:30pm to 9:00 pm,\\nFollow it any how\\n7.5 hours\\nRest\\n9:00 pm to 9:30 pm.\\nStudy (Revision) - 9:30 pm to 11:45pm.\\n2.5 hourt.\\n2 hours\\n- 2 hr. 15 min\"\n        ],\n        \"semantic_type\": \"\",\n        \"description\": \"\"\n      }\n    }\n  ]\n}"
            }
          },
          "metadata": {},
          "execution_count": 8
        }
      ]
    },
    {
      "cell_type": "code",
      "source": [
        "test_data.rename(columns={\"Unnamed: 0\": \"id\"}, inplace=True)\n",
        "test_data.columns"
      ],
      "metadata": {
        "colab": {
          "base_uri": "https://localhost:8080/"
        },
        "id": "tx3nBOTQLcNr",
        "outputId": "dd11ea52-ad2a-4274-8323-b75764bf21bc"
      },
      "execution_count": null,
      "outputs": [
        {
          "output_type": "execute_result",
          "data": {
            "text/plain": [
              "Index(['id', 'image_url', 'ocr'], dtype='object')"
            ]
          },
          "metadata": {},
          "execution_count": 9
        }
      ]
    },
    {
      "cell_type": "markdown",
      "source": [
        "## Lading ResNet50 model for image feature extraction."
      ],
      "metadata": {
        "id": "hJV_9B2MqR6Z"
      }
    },
    {
      "cell_type": "code",
      "source": [
        "from torchvision import models, transforms\n",
        "from PIL import Image\n",
        "import numpy as np\n",
        "\n",
        "resnet = models.resnet50(pretrained=True)\n",
        "resnet = torch.nn.Sequential(*list(resnet.children())[:-1])  # Remove classifier layer\n",
        "resnet.eval()\n",
        "\n",
        "transform = transforms.Compose([\n",
        "    transforms.Resize((224, 224)),\n",
        "    transforms.ToTensor(),\n",
        "    transforms.Normalize(mean=[0.485, 0.456, 0.406],  # Standard ImageNet mean\n",
        "                         std=[0.229, 0.224, 0.225])   # Standard ImageNet std\n",
        "])\n",
        "\n",
        "def extract_image_features(image_path):\n",
        "    try:\n",
        "        image = Image.open(image_path).convert(\"RGB\")\n",
        "        image = transform(image).unsqueeze(0)\n",
        "        with torch.no_grad():\n",
        "            features = resnet(image).squeeze().numpy()\n",
        "        return features  # shape: [2048]\n",
        "    except:\n",
        "        return np.zeros(2048)\n"
      ],
      "metadata": {
        "colab": {
          "base_uri": "https://localhost:8080/"
        },
        "id": "Q5e82QZUKYVw",
        "outputId": "dcececa0-f7c5-44fa-b8f5-faa9b13145a8"
      },
      "execution_count": null,
      "outputs": [
        {
          "output_type": "stream",
          "name": "stderr",
          "text": [
            "/usr/local/lib/python3.11/dist-packages/torchvision/models/_utils.py:208: UserWarning: The parameter 'pretrained' is deprecated since 0.13 and may be removed in the future, please use 'weights' instead.\n",
            "  warnings.warn(\n",
            "/usr/local/lib/python3.11/dist-packages/torchvision/models/_utils.py:223: UserWarning: Arguments other than a weight enum or `None` for 'weights' are deprecated since 0.13 and may be removed in the future. The current behavior is equivalent to passing `weights=ResNet50_Weights.IMAGENET1K_V1`. You can also use `weights=ResNet50_Weights.DEFAULT` to get the most up-to-date weights.\n",
            "  warnings.warn(msg)\n",
            "Downloading: \"https://download.pytorch.org/models/resnet50-0676ba61.pth\" to /root/.cache/torch/hub/checkpoints/resnet50-0676ba61.pth\n",
            "100%|██████████| 97.8M/97.8M [00:00<00:00, 140MB/s]\n"
          ]
        }
      ]
    },
    {
      "cell_type": "code",
      "source": [
        "import os\n",
        "\n",
        "train_image_root = \"/content/drive/MyDrive/Memotion3/trainImages\"\n",
        "available_files = os.listdir(train_image_root)\n",
        "\n",
        "# Optional: Filter only .jpg or .png files\n",
        "train_image_filenames = [f for f in available_files if f.lower().endswith(('.jpg', '.jpeg', '.png'))]\n",
        "print(\"Total images found:\", len(train_image_filenames))\n"
      ],
      "metadata": {
        "colab": {
          "base_uri": "https://localhost:8080/"
        },
        "id": "OjJuWqlYbuLC",
        "outputId": "e0bb25d2-3393-416b-aeaa-f078ee6de147"
      },
      "execution_count": null,
      "outputs": [
        {
          "output_type": "stream",
          "name": "stdout",
          "text": [
            "Total images found: 7000\n"
          ]
        }
      ]
    },
    {
      "cell_type": "code",
      "source": [
        "train_image_paths = [os.path.join(train_image_root, fname) for fname in train_image_filenames]"
      ],
      "metadata": {
        "id": "j2FN2kZZerMb"
      },
      "execution_count": null,
      "outputs": []
    },
    {
      "cell_type": "code",
      "source": [
        "valid_paths = [p for p in train_image_paths if os.path.exists(p)]\n",
        "print(\" Valid image paths:\", len(valid_paths))\n",
        "print(\" Missing image paths:\", len(train_image_paths) - len(valid_paths))\n"
      ],
      "metadata": {
        "colab": {
          "base_uri": "https://localhost:8080/"
        },
        "id": "ST-gebadt2tL",
        "outputId": "3ab643cc-b133-4a5a-a157-13443829e269"
      },
      "execution_count": null,
      "outputs": [
        {
          "output_type": "stream",
          "name": "stdout",
          "text": [
            " Valid image paths: 7000\n",
            " Missing image paths: 0\n"
          ]
        }
      ]
    },
    {
      "cell_type": "code",
      "source": [
        "import os\n",
        "\n",
        "val_image_root = \"/content/drive/MyDrive/Memotion3/valImages\"\n",
        "available_files = os.listdir(val_image_root)\n",
        "\n",
        "# Optional: Filter only .jpg or .png files\n",
        "val_image_filenames = [f for f in available_files if f.lower().endswith(('.jpg', '.jpeg', '.png'))]\n",
        "print(\"Total images found:\", len(val_image_filenames))"
      ],
      "metadata": {
        "colab": {
          "base_uri": "https://localhost:8080/"
        },
        "id": "i6pgWE0IzTPg",
        "outputId": "d4385c2c-44c3-47e3-ad9e-e01a4df838db"
      },
      "execution_count": null,
      "outputs": [
        {
          "output_type": "stream",
          "name": "stdout",
          "text": [
            "Total images found: 1500\n"
          ]
        }
      ]
    },
    {
      "cell_type": "code",
      "source": [
        "val_image_paths = [os.path.join(val_image_root, fname) for fname in val_image_filenames]"
      ],
      "metadata": {
        "id": "hLSWlFCRzTdL"
      },
      "execution_count": null,
      "outputs": []
    },
    {
      "cell_type": "code",
      "source": [
        "import os\n",
        "\n",
        "test_image_root = \"/content/drive/MyDrive/Memotion3/testImages\"\n",
        "available_files = os.listdir(test_image_root)\n",
        "\n",
        "# Optional: Filter only .jpg or .png files\n",
        "test_image_filenames = [f for f in available_files if f.lower().endswith(('.jpg', '.jpeg', '.png'))]\n",
        "print(\"Total images found:\", len(test_image_filenames))\n"
      ],
      "metadata": {
        "colab": {
          "base_uri": "https://localhost:8080/"
        },
        "id": "SVcMPZ5_zT4C",
        "outputId": "f166a6bd-a7bd-4fdc-8a10-66926faa991f"
      },
      "execution_count": null,
      "outputs": [
        {
          "output_type": "stream",
          "name": "stdout",
          "text": [
            "Total images found: 1500\n"
          ]
        }
      ]
    },
    {
      "cell_type": "code",
      "source": [
        "test_image_paths = [os.path.join(test_image_root, fname) for fname in test_image_filenames]"
      ],
      "metadata": {
        "id": "0-EsEWVyzUIb"
      },
      "execution_count": null,
      "outputs": []
    },
    {
      "cell_type": "markdown",
      "source": [
        "## Extract train, test and validation image features"
      ],
      "metadata": {
        "id": "kGsjnpdyql4D"
      }
    },
    {
      "cell_type": "code",
      "source": [
        "import numpy as np\n",
        "from tqdm import tqdm\n",
        "\n",
        "# Load images and extract features\n",
        "train_image_features = np.vstack([\n",
        "    extract_image_features(p) for p in tqdm(train_image_paths)\n",
        "])\n",
        "#/content/drive/MyDrive/Memotion3\n",
        "np.save(\"/content/drive/MyDrive/Memotion3/ResNETimage/train_image_features.npy\", train_image_features)"
      ],
      "metadata": {
        "colab": {
          "base_uri": "https://localhost:8080/",
          "height": 211
        },
        "id": "tZG0OV1et3Bd",
        "outputId": "626b0df3-af6f-44c4-ca8b-16a788111bc5"
      },
      "execution_count": null,
      "outputs": [
        {
          "output_type": "stream",
          "name": "stderr",
          "text": [
            "100%|██████████| 7000/7000 [1:11:49<00:00,  1.62it/s]\n"
          ]
        },
        {
          "output_type": "error",
          "ename": "NameError",
          "evalue": "name 'content' is not defined",
          "traceback": [
            "\u001b[0;31m---------------------------------------------------------------------------\u001b[0m",
            "\u001b[0;31mNameError\u001b[0m                                 Traceback (most recent call last)",
            "\u001b[0;32m/tmp/ipython-input-19-2102470357.py\u001b[0m in \u001b[0;36m<cell line: 0>\u001b[0;34m()\u001b[0m\n\u001b[1;32m      6\u001b[0m     \u001b[0mextract_image_features\u001b[0m\u001b[0;34m(\u001b[0m\u001b[0mp\u001b[0m\u001b[0;34m)\u001b[0m \u001b[0;32mfor\u001b[0m \u001b[0mp\u001b[0m \u001b[0;32min\u001b[0m \u001b[0mtqdm\u001b[0m\u001b[0;34m(\u001b[0m\u001b[0mtrain_image_paths\u001b[0m\u001b[0;34m)\u001b[0m\u001b[0;34m\u001b[0m\u001b[0;34m\u001b[0m\u001b[0m\n\u001b[1;32m      7\u001b[0m ])\n\u001b[0;32m----> 8\u001b[0;31m \u001b[0mcontent\u001b[0m\u001b[0;34m/\u001b[0m\u001b[0mdrive\u001b[0m\u001b[0;34m/\u001b[0m\u001b[0mMyDrive\u001b[0m\u001b[0;34m/\u001b[0m\u001b[0mMemotion3\u001b[0m\u001b[0;34m(\u001b[0m\u001b[0;34m)\u001b[0m\u001b[0;34m\u001b[0m\u001b[0;34m\u001b[0m\u001b[0m\n\u001b[0m\u001b[1;32m      9\u001b[0m \u001b[0mnp\u001b[0m\u001b[0;34m.\u001b[0m\u001b[0msave\u001b[0m\u001b[0;34m(\u001b[0m\u001b[0;34m\"/content/drive/MyDrive/Memotion3/ResNETimage/train_image_features.npy\"\u001b[0m\u001b[0;34m,\u001b[0m \u001b[0mtrain_image_features\u001b[0m\u001b[0;34m)\u001b[0m\u001b[0;34m\u001b[0m\u001b[0;34m\u001b[0m\u001b[0m\n",
            "\u001b[0;31mNameError\u001b[0m: name 'content' is not defined"
          ]
        }
      ]
    },
    {
      "cell_type": "code",
      "source": [
        "import numpy as np\n",
        "from tqdm import tqdm\n",
        "\n",
        "# Load images and extract features\n",
        "val_image_features = np.vstack([\n",
        "    extract_image_features(p) for p in tqdm(val_image_paths)\n",
        "])\n",
        "\n",
        "np.save(\"/content/drive/MyDrive/Memotion3/ResNETimage/val_image_features.npy\", val_image_features)\n"
      ],
      "metadata": {
        "colab": {
          "base_uri": "https://localhost:8080/"
        },
        "id": "dEtj_dC-yxrR",
        "outputId": "fb4fb622-69cc-4747-905a-869da0b55806"
      },
      "execution_count": null,
      "outputs": [
        {
          "output_type": "stream",
          "name": "stderr",
          "text": [
            "100%|██████████| 1500/1500 [15:32<00:00,  1.61it/s]\n"
          ]
        }
      ]
    },
    {
      "cell_type": "code",
      "source": [
        "import numpy as np\n",
        "from tqdm import tqdm\n",
        "\n",
        "# Load images and extract features\n",
        "test_image_features = np.vstack([\n",
        "    extract_image_features(p) for p in tqdm(test_image_paths)\n",
        "])\n",
        "\n",
        "np.save(\"/content/drive/MyDrive/Memotion3/ResNETimage/test_image_features.npy\", test_image_features)\n"
      ],
      "metadata": {
        "colab": {
          "base_uri": "https://localhost:8080/"
        },
        "id": "z4Z0NIK9yx7r",
        "outputId": "188bb1ac-ae21-4638-e011-12181fa8f6a3"
      },
      "execution_count": null,
      "outputs": [
        {
          "output_type": "stream",
          "name": "stderr",
          "text": [
            "100%|██████████| 1500/1500 [15:51<00:00,  1.58it/s]\n"
          ]
        }
      ]
    },
    {
      "cell_type": "code",
      "source": [
        "import numpy as np\n",
        "\n",
        "train_image_features = np.load(\"/content/drive/MyDrive/Memotion3/ResNETimage/train_image_features.npy\")\n",
        "val_image_features = np.load(\"/content/drive/MyDrive/Memotion3/ResNETimage/val_image_features.npy\")\n",
        "test_image_features = np.load(\"/content/drive/MyDrive/Memotion3/ResNETimage/test_image_features.npy\")"
      ],
      "metadata": {
        "id": "t62EVQZbja4l"
      },
      "execution_count": null,
      "outputs": []
    },
    {
      "cell_type": "code",
      "source": [
        "!pip install emoji\n"
      ],
      "metadata": {
        "colab": {
          "base_uri": "https://localhost:8080/"
        },
        "id": "LnFfnphljFuU",
        "outputId": "a5522d85-c88b-4c85-89b8-95af3392dedb"
      },
      "execution_count": null,
      "outputs": [
        {
          "output_type": "stream",
          "name": "stdout",
          "text": [
            "Collecting emoji\n",
            "  Downloading emoji-2.14.1-py3-none-any.whl.metadata (5.7 kB)\n",
            "Downloading emoji-2.14.1-py3-none-any.whl (590 kB)\n",
            "\u001b[?25l   \u001b[90m━━━━━━━━━━━━━━━━━━━━━━━━━━━━━━━━━━━━━━━━\u001b[0m \u001b[32m0.0/590.6 kB\u001b[0m \u001b[31m?\u001b[0m eta \u001b[36m-:--:--\u001b[0m\r\u001b[2K   \u001b[91m━━━━━━\u001b[0m\u001b[91m╸\u001b[0m\u001b[90m━━━━━━━━━━━━━━━━━━━━━━━━━━━━━━━━━\u001b[0m \u001b[32m102.4/590.6 kB\u001b[0m \u001b[31m3.6 MB/s\u001b[0m eta \u001b[36m0:00:01\u001b[0m\r\u001b[2K   \u001b[91m━━━━━━━━━━━━━━━━━━━━━━━━━━━━━━━━━━━━━━━\u001b[0m\u001b[91m╸\u001b[0m \u001b[32m583.7/590.6 kB\u001b[0m \u001b[31m9.0 MB/s\u001b[0m eta \u001b[36m0:00:01\u001b[0m\r\u001b[2K   \u001b[90m━━━━━━━━━━━━━━━━━━━━━━━━━━━━━━━━━━━━━━━━\u001b[0m \u001b[32m590.6/590.6 kB\u001b[0m \u001b[31m7.4 MB/s\u001b[0m eta \u001b[36m0:00:00\u001b[0m\n",
            "\u001b[?25hInstalling collected packages: emoji\n",
            "Successfully installed emoji-2.14.1\n"
          ]
        }
      ]
    },
    {
      "cell_type": "markdown",
      "source": [
        "## Cleaning OCR text"
      ],
      "metadata": {
        "id": "SbRaqHLyqtgw"
      }
    },
    {
      "cell_type": "code",
      "source": [
        "import re\n",
        "import string\n",
        "import emoji\n",
        "from sklearn.feature_extraction.text import ENGLISH_STOP_WORDS\n",
        "stop_words = ENGLISH_STOP_WORDS\n",
        "\n",
        "def clean_ocr_text(text):\n",
        "    if not isinstance(text, str):\n",
        "        return \"\"\n",
        "\n",
        "    # Lowercase\n",
        "    text = text.lower()\n",
        "\n",
        "    # Remove emojis\n",
        "    text = emoji.replace_emoji(text, replace='')\n",
        "\n",
        "    # Remove URLs and HTML\n",
        "    text = re.sub(r\"http\\S+|www\\S+|<.*?>\", \"\", text)\n",
        "\n",
        "    # Normalize elongated words (soooo → soo)\n",
        "    text = re.sub(r'(.)\\1{2,}', r'\\1\\1', text)\n",
        "\n",
        "    # Remove punctuation and digits\n",
        "    text = text.translate(str.maketrans('', '', string.punctuation + string.digits))\n",
        "\n",
        "    # Tokenize and remove stopwords\n",
        "    tokens = text.split()\n",
        "    tokens = [t for t in tokens if t not in stop_words and len(t) > 2]\n",
        "\n",
        "    return ' '.join(tokens)\n"
      ],
      "metadata": {
        "id": "uOVqG5xsg2_J"
      },
      "execution_count": null,
      "outputs": []
    },
    {
      "cell_type": "code",
      "source": [
        "# This is the correct resource for word_tokenize\n",
        "\n",
        "train_data[\"cleaned_ocr\"] = train_data[\"ocr\"].apply(clean_ocr_text)\n",
        "val_data[\"cleaned_ocr\"]   = val_data[\"ocr\"].apply(clean_ocr_text)\n",
        "test_data[\"cleaned_ocr\"]  = test_data[\"ocr\"].apply(clean_ocr_text)\n"
      ],
      "metadata": {
        "id": "XZ4CXD7TjHN5"
      },
      "execution_count": null,
      "outputs": []
    },
    {
      "cell_type": "markdown",
      "source": [
        "### Using TF-IDF on text to convert ocr to numeric features, where max_features=2000 - Limits vocab size, ngram_range=(1, 3)- Captures token patterns, max_df=0.9- Downweights overly common terms, min_df=3 - Ensures meaningful frequency. Then TF-IDF is scaled on StandardScaler and PCA is applied on the scaled text features to reduce dimensionality. Next the img features are also normalised and pca is applied over the image as well to reduce the dimensionality.\n"
      ],
      "metadata": {
        "id": "dz6lyF5Qq0s4"
      }
    },
    {
      "cell_type": "code",
      "source": [
        "import numpy as np\n",
        "from sklearn.feature_extraction.text import TfidfVectorizer\n",
        "from sklearn.preprocessing import StandardScaler\n",
        "from sklearn.decomposition import PCA\n",
        "\n",
        "# Step 1: TF-IDF Extraction\n",
        "vectorizer = TfidfVectorizer(\n",
        "    max_features=2000,\n",
        "    stop_words='english',\n",
        "    ngram_range=(1, 3),\n",
        "    max_df=0.9,\n",
        "    min_df=3,\n",
        "    sublinear_tf=True\n",
        ")\n",
        "X_text_train = vectorizer.fit_transform(train_data[\"cleaned_ocr\"]).toarray()\n",
        "X_text_val   = vectorizer.transform(val_data[\"cleaned_ocr\"]).toarray()\n",
        "X_text_test  = vectorizer.transform(test_data[\"cleaned_ocr\"]).toarray()\n",
        "\n",
        "# Step 2: Scale TF-IDF features\n",
        "text_scaler = StandardScaler()\n",
        "X_text_train_scaled = text_scaler.fit_transform(X_text_train)\n",
        "X_text_val_scaled   = text_scaler.transform(X_text_val)\n",
        "X_text_test_scaled  = text_scaler.transform(X_text_test)\n",
        "\n",
        "# Step 3: Apply PCA on scaled text features\n",
        "text_pca = PCA(n_components=100, random_state=42)  # Tune to 100 or 150\n",
        "X_text_train_pca = text_pca.fit_transform(X_text_train_scaled)\n",
        "X_text_val_pca   = text_pca.transform(X_text_val_scaled)\n",
        "X_text_test_pca  = text_pca.transform(X_text_test_scaled)\n",
        "\n",
        "# Step 4: Normalize image features\n",
        "image_scaler = StandardScaler()\n",
        "train_image_scaled = image_scaler.fit_transform(train_image_features)\n",
        "val_image_scaled   = image_scaler.transform(val_image_features)\n",
        "test_image_scaled  = image_scaler.transform(test_image_features)\n",
        "\n",
        "# Step 5: PCA on image features\n",
        "image_pca = PCA(n_components=256, random_state=42)\n",
        "train_image_pca = image_pca.fit_transform(train_image_scaled)\n",
        "val_image_pca   = image_pca.transform(val_image_scaled)\n",
        "test_image_pca  = image_pca.transform(test_image_scaled)\n",
        "\n",
        "# Step 6: Early Fusion\n",
        "#alpha = 0.6  # Try different alpha values later\n",
        "\n",
        "#X_train_combined = np.hstack([\n",
        "#    alpha * X_text_train_pca,\n",
        "#    (1 - alpha) * train_image_pca\n",
        "#])\n",
        "#X_val_combined = np.hstack([\n",
        "#    alpha * X_text_val_pca,\n",
        "#    (1 - alpha) * val_image_pca\n",
        "#])\n",
        "#X_test_combined = np.hstack([\n",
        "#    alpha * X_text_test_pca,\n",
        "#    (1 - alpha) * test_image_pca\n",
        "#])\n"
      ],
      "metadata": {
        "id": "pZrr5MvSXzS0"
      },
      "execution_count": null,
      "outputs": []
    },
    {
      "cell_type": "code",
      "source": [
        "print(\"X_train_combined shape:\", X_train_combined.shape)\n",
        "print(\"X_val_combined shape:  \", X_val_combined.shape)\n",
        "print(\"X_test_combined shape: \", X_test_combined.shape)\n"
      ],
      "metadata": {
        "colab": {
          "base_uri": "https://localhost:8080/"
        },
        "id": "jYZyQjygnmeO",
        "outputId": "a9309a6e-4632-497b-c49e-790ab334eba9"
      },
      "execution_count": null,
      "outputs": [
        {
          "output_type": "stream",
          "name": "stdout",
          "text": [
            "X_train_combined shape: (7000, 356)\n",
            "X_val_combined shape:   (1500, 356)\n",
            "X_test_combined shape:  (1500, 356)\n"
          ]
        }
      ]
    },
    {
      "cell_type": "code",
      "execution_count": null,
      "metadata": {
        "id": "e-dAocWdmIsy"
      },
      "outputs": [],
      "source": [
        "import numpy as np"
      ]
    },
    {
      "cell_type": "markdown",
      "source": [
        "## Extraction of  hate labels on train and validation data."
      ],
      "metadata": {
        "id": "2W7CjktotAWU"
      }
    },
    {
      "cell_type": "code",
      "source": [
        "def label_hateful(row):\n",
        "    return int(\n",
        "        row['offensive'] in ['slight', 'very_offensive', 'hateful_offensive'] or\n",
        "        (row['sarcastic'] in ['twisted_meaning', 'very_twisted'] and row['humour'] == 'not_funny')\n",
        "    )\n",
        "\n",
        "train_data['label'] = train_data.apply(label_hateful, axis=1)\n",
        "train_data.head()\n"
      ],
      "metadata": {
        "colab": {
          "base_uri": "https://localhost:8080/",
          "height": 538
        },
        "id": "kjNuhqH-dfX2",
        "outputId": "f0c64952-cd51-4a2d-b168-04103c04eae9"
      },
      "execution_count": null,
      "outputs": [
        {
          "output_type": "execute_result",
          "data": {
            "text/plain": [
              "   id                                          image_url      humour  \\\n",
              "0   0  https://encrypted-tbn0.gstatic.com/images?q=tb...  very_funny   \n",
              "1   1  https://encrypted-tbn0.gstatic.com/images?q=tb...  very_funny   \n",
              "2   2  https://encrypted-tbn0.gstatic.com/images?q=tb...       funny   \n",
              "3   3  https://preview.redd.it/iwcz3o2niix61.jpg?widt...  very_funny   \n",
              "4   4  https://encrypted-tbn0.gstatic.com/images?q=tb...   not_funny   \n",
              "\n",
              "         sarcastic       offensive      motivational   overall  \\\n",
              "0  twisted_meaning   not_offensive  not_motivational   neutral   \n",
              "1  twisted_meaning          slight  not_motivational   neutral   \n",
              "2          general   not_offensive  not_motivational  positive   \n",
              "3  twisted_meaning   not_offensive  not_motivational  positive   \n",
              "4    not_sarcastic  very_offensive  not_motivational  negative   \n",
              "\n",
              "                                                 ocr  \\\n",
              "0  Relationship status.\\nSingle\\nMarried\\nIt's co...   \n",
              "1  Bernie or REAGAN?\\nBe informed. Compare them o...   \n",
              "2  I HEAR SOMETHING\\nBetter run a mile\\nOMG RAJ?\\...   \n",
              "3  Redditors Visiting IG memepages\\n*dies from cr...   \n",
              "4  Samajh nahi aaya Par sun ke acabo,\\nBUDGET SPE...   \n",
              "\n",
              "                                         cleaned_ocr  label  \n",
              "0  relationship status single married complicated...      0  \n",
              "1  bernie reagan informed compare issues matter i...      1  \n",
              "2  hear better run mile omg raj got master plan b...      0  \n",
              "3   redditors visiting memepages dies cringe mematic      0  \n",
              "4  samajh nahi aaya par sun acabo budget speech k...      1  "
            ],
            "text/html": [
              "\n",
              "  <div id=\"df-79d7db30-14b6-4163-802d-30997093a052\" class=\"colab-df-container\">\n",
              "    <div>\n",
              "<style scoped>\n",
              "    .dataframe tbody tr th:only-of-type {\n",
              "        vertical-align: middle;\n",
              "    }\n",
              "\n",
              "    .dataframe tbody tr th {\n",
              "        vertical-align: top;\n",
              "    }\n",
              "\n",
              "    .dataframe thead th {\n",
              "        text-align: right;\n",
              "    }\n",
              "</style>\n",
              "<table border=\"1\" class=\"dataframe\">\n",
              "  <thead>\n",
              "    <tr style=\"text-align: right;\">\n",
              "      <th></th>\n",
              "      <th>id</th>\n",
              "      <th>image_url</th>\n",
              "      <th>humour</th>\n",
              "      <th>sarcastic</th>\n",
              "      <th>offensive</th>\n",
              "      <th>motivational</th>\n",
              "      <th>overall</th>\n",
              "      <th>ocr</th>\n",
              "      <th>cleaned_ocr</th>\n",
              "      <th>label</th>\n",
              "    </tr>\n",
              "  </thead>\n",
              "  <tbody>\n",
              "    <tr>\n",
              "      <th>0</th>\n",
              "      <td>0</td>\n",
              "      <td>https://encrypted-tbn0.gstatic.com/images?q=tb...</td>\n",
              "      <td>very_funny</td>\n",
              "      <td>twisted_meaning</td>\n",
              "      <td>not_offensive</td>\n",
              "      <td>not_motivational</td>\n",
              "      <td>neutral</td>\n",
              "      <td>Relationship status.\\nSingle\\nMarried\\nIt's co...</td>\n",
              "      <td>relationship status single married complicated...</td>\n",
              "      <td>0</td>\n",
              "    </tr>\n",
              "    <tr>\n",
              "      <th>1</th>\n",
              "      <td>1</td>\n",
              "      <td>https://encrypted-tbn0.gstatic.com/images?q=tb...</td>\n",
              "      <td>very_funny</td>\n",
              "      <td>twisted_meaning</td>\n",
              "      <td>slight</td>\n",
              "      <td>not_motivational</td>\n",
              "      <td>neutral</td>\n",
              "      <td>Bernie or REAGAN?\\nBe informed. Compare them o...</td>\n",
              "      <td>bernie reagan informed compare issues matter i...</td>\n",
              "      <td>1</td>\n",
              "    </tr>\n",
              "    <tr>\n",
              "      <th>2</th>\n",
              "      <td>2</td>\n",
              "      <td>https://encrypted-tbn0.gstatic.com/images?q=tb...</td>\n",
              "      <td>funny</td>\n",
              "      <td>general</td>\n",
              "      <td>not_offensive</td>\n",
              "      <td>not_motivational</td>\n",
              "      <td>positive</td>\n",
              "      <td>I HEAR SOMETHING\\nBetter run a mile\\nOMG RAJ?\\...</td>\n",
              "      <td>hear better run mile omg raj got master plan b...</td>\n",
              "      <td>0</td>\n",
              "    </tr>\n",
              "    <tr>\n",
              "      <th>3</th>\n",
              "      <td>3</td>\n",
              "      <td>https://preview.redd.it/iwcz3o2niix61.jpg?widt...</td>\n",
              "      <td>very_funny</td>\n",
              "      <td>twisted_meaning</td>\n",
              "      <td>not_offensive</td>\n",
              "      <td>not_motivational</td>\n",
              "      <td>positive</td>\n",
              "      <td>Redditors Visiting IG memepages\\n*dies from cr...</td>\n",
              "      <td>redditors visiting memepages dies cringe mematic</td>\n",
              "      <td>0</td>\n",
              "    </tr>\n",
              "    <tr>\n",
              "      <th>4</th>\n",
              "      <td>4</td>\n",
              "      <td>https://encrypted-tbn0.gstatic.com/images?q=tb...</td>\n",
              "      <td>not_funny</td>\n",
              "      <td>not_sarcastic</td>\n",
              "      <td>very_offensive</td>\n",
              "      <td>not_motivational</td>\n",
              "      <td>negative</td>\n",
              "      <td>Samajh nahi aaya Par sun ke acabo,\\nBUDGET SPE...</td>\n",
              "      <td>samajh nahi aaya par sun acabo budget speech k...</td>\n",
              "      <td>1</td>\n",
              "    </tr>\n",
              "  </tbody>\n",
              "</table>\n",
              "</div>\n",
              "    <div class=\"colab-df-buttons\">\n",
              "\n",
              "  <div class=\"colab-df-container\">\n",
              "    <button class=\"colab-df-convert\" onclick=\"convertToInteractive('df-79d7db30-14b6-4163-802d-30997093a052')\"\n",
              "            title=\"Convert this dataframe to an interactive table.\"\n",
              "            style=\"display:none;\">\n",
              "\n",
              "  <svg xmlns=\"http://www.w3.org/2000/svg\" height=\"24px\" viewBox=\"0 -960 960 960\">\n",
              "    <path d=\"M120-120v-720h720v720H120Zm60-500h600v-160H180v160Zm220 220h160v-160H400v160Zm0 220h160v-160H400v160ZM180-400h160v-160H180v160Zm440 0h160v-160H620v160ZM180-180h160v-160H180v160Zm440 0h160v-160H620v160Z\"/>\n",
              "  </svg>\n",
              "    </button>\n",
              "\n",
              "  <style>\n",
              "    .colab-df-container {\n",
              "      display:flex;\n",
              "      gap: 12px;\n",
              "    }\n",
              "\n",
              "    .colab-df-convert {\n",
              "      background-color: #E8F0FE;\n",
              "      border: none;\n",
              "      border-radius: 50%;\n",
              "      cursor: pointer;\n",
              "      display: none;\n",
              "      fill: #1967D2;\n",
              "      height: 32px;\n",
              "      padding: 0 0 0 0;\n",
              "      width: 32px;\n",
              "    }\n",
              "\n",
              "    .colab-df-convert:hover {\n",
              "      background-color: #E2EBFA;\n",
              "      box-shadow: 0px 1px 2px rgba(60, 64, 67, 0.3), 0px 1px 3px 1px rgba(60, 64, 67, 0.15);\n",
              "      fill: #174EA6;\n",
              "    }\n",
              "\n",
              "    .colab-df-buttons div {\n",
              "      margin-bottom: 4px;\n",
              "    }\n",
              "\n",
              "    [theme=dark] .colab-df-convert {\n",
              "      background-color: #3B4455;\n",
              "      fill: #D2E3FC;\n",
              "    }\n",
              "\n",
              "    [theme=dark] .colab-df-convert:hover {\n",
              "      background-color: #434B5C;\n",
              "      box-shadow: 0px 1px 3px 1px rgba(0, 0, 0, 0.15);\n",
              "      filter: drop-shadow(0px 1px 2px rgba(0, 0, 0, 0.3));\n",
              "      fill: #FFFFFF;\n",
              "    }\n",
              "  </style>\n",
              "\n",
              "    <script>\n",
              "      const buttonEl =\n",
              "        document.querySelector('#df-79d7db30-14b6-4163-802d-30997093a052 button.colab-df-convert');\n",
              "      buttonEl.style.display =\n",
              "        google.colab.kernel.accessAllowed ? 'block' : 'none';\n",
              "\n",
              "      async function convertToInteractive(key) {\n",
              "        const element = document.querySelector('#df-79d7db30-14b6-4163-802d-30997093a052');\n",
              "        const dataTable =\n",
              "          await google.colab.kernel.invokeFunction('convertToInteractive',\n",
              "                                                    [key], {});\n",
              "        if (!dataTable) return;\n",
              "\n",
              "        const docLinkHtml = 'Like what you see? Visit the ' +\n",
              "          '<a target=\"_blank\" href=https://colab.research.google.com/notebooks/data_table.ipynb>data table notebook</a>'\n",
              "          + ' to learn more about interactive tables.';\n",
              "        element.innerHTML = '';\n",
              "        dataTable['output_type'] = 'display_data';\n",
              "        await google.colab.output.renderOutput(dataTable, element);\n",
              "        const docLink = document.createElement('div');\n",
              "        docLink.innerHTML = docLinkHtml;\n",
              "        element.appendChild(docLink);\n",
              "      }\n",
              "    </script>\n",
              "  </div>\n",
              "\n",
              "\n",
              "    <div id=\"df-890de5b7-ab08-4f6f-b55a-4e861110c6b8\">\n",
              "      <button class=\"colab-df-quickchart\" onclick=\"quickchart('df-890de5b7-ab08-4f6f-b55a-4e861110c6b8')\"\n",
              "                title=\"Suggest charts\"\n",
              "                style=\"display:none;\">\n",
              "\n",
              "<svg xmlns=\"http://www.w3.org/2000/svg\" height=\"24px\"viewBox=\"0 0 24 24\"\n",
              "     width=\"24px\">\n",
              "    <g>\n",
              "        <path d=\"M19 3H5c-1.1 0-2 .9-2 2v14c0 1.1.9 2 2 2h14c1.1 0 2-.9 2-2V5c0-1.1-.9-2-2-2zM9 17H7v-7h2v7zm4 0h-2V7h2v10zm4 0h-2v-4h2v4z\"/>\n",
              "    </g>\n",
              "</svg>\n",
              "      </button>\n",
              "\n",
              "<style>\n",
              "  .colab-df-quickchart {\n",
              "      --bg-color: #E8F0FE;\n",
              "      --fill-color: #1967D2;\n",
              "      --hover-bg-color: #E2EBFA;\n",
              "      --hover-fill-color: #174EA6;\n",
              "      --disabled-fill-color: #AAA;\n",
              "      --disabled-bg-color: #DDD;\n",
              "  }\n",
              "\n",
              "  [theme=dark] .colab-df-quickchart {\n",
              "      --bg-color: #3B4455;\n",
              "      --fill-color: #D2E3FC;\n",
              "      --hover-bg-color: #434B5C;\n",
              "      --hover-fill-color: #FFFFFF;\n",
              "      --disabled-bg-color: #3B4455;\n",
              "      --disabled-fill-color: #666;\n",
              "  }\n",
              "\n",
              "  .colab-df-quickchart {\n",
              "    background-color: var(--bg-color);\n",
              "    border: none;\n",
              "    border-radius: 50%;\n",
              "    cursor: pointer;\n",
              "    display: none;\n",
              "    fill: var(--fill-color);\n",
              "    height: 32px;\n",
              "    padding: 0;\n",
              "    width: 32px;\n",
              "  }\n",
              "\n",
              "  .colab-df-quickchart:hover {\n",
              "    background-color: var(--hover-bg-color);\n",
              "    box-shadow: 0 1px 2px rgba(60, 64, 67, 0.3), 0 1px 3px 1px rgba(60, 64, 67, 0.15);\n",
              "    fill: var(--button-hover-fill-color);\n",
              "  }\n",
              "\n",
              "  .colab-df-quickchart-complete:disabled,\n",
              "  .colab-df-quickchart-complete:disabled:hover {\n",
              "    background-color: var(--disabled-bg-color);\n",
              "    fill: var(--disabled-fill-color);\n",
              "    box-shadow: none;\n",
              "  }\n",
              "\n",
              "  .colab-df-spinner {\n",
              "    border: 2px solid var(--fill-color);\n",
              "    border-color: transparent;\n",
              "    border-bottom-color: var(--fill-color);\n",
              "    animation:\n",
              "      spin 1s steps(1) infinite;\n",
              "  }\n",
              "\n",
              "  @keyframes spin {\n",
              "    0% {\n",
              "      border-color: transparent;\n",
              "      border-bottom-color: var(--fill-color);\n",
              "      border-left-color: var(--fill-color);\n",
              "    }\n",
              "    20% {\n",
              "      border-color: transparent;\n",
              "      border-left-color: var(--fill-color);\n",
              "      border-top-color: var(--fill-color);\n",
              "    }\n",
              "    30% {\n",
              "      border-color: transparent;\n",
              "      border-left-color: var(--fill-color);\n",
              "      border-top-color: var(--fill-color);\n",
              "      border-right-color: var(--fill-color);\n",
              "    }\n",
              "    40% {\n",
              "      border-color: transparent;\n",
              "      border-right-color: var(--fill-color);\n",
              "      border-top-color: var(--fill-color);\n",
              "    }\n",
              "    60% {\n",
              "      border-color: transparent;\n",
              "      border-right-color: var(--fill-color);\n",
              "    }\n",
              "    80% {\n",
              "      border-color: transparent;\n",
              "      border-right-color: var(--fill-color);\n",
              "      border-bottom-color: var(--fill-color);\n",
              "    }\n",
              "    90% {\n",
              "      border-color: transparent;\n",
              "      border-bottom-color: var(--fill-color);\n",
              "    }\n",
              "  }\n",
              "</style>\n",
              "\n",
              "      <script>\n",
              "        async function quickchart(key) {\n",
              "          const quickchartButtonEl =\n",
              "            document.querySelector('#' + key + ' button');\n",
              "          quickchartButtonEl.disabled = true;  // To prevent multiple clicks.\n",
              "          quickchartButtonEl.classList.add('colab-df-spinner');\n",
              "          try {\n",
              "            const charts = await google.colab.kernel.invokeFunction(\n",
              "                'suggestCharts', [key], {});\n",
              "          } catch (error) {\n",
              "            console.error('Error during call to suggestCharts:', error);\n",
              "          }\n",
              "          quickchartButtonEl.classList.remove('colab-df-spinner');\n",
              "          quickchartButtonEl.classList.add('colab-df-quickchart-complete');\n",
              "        }\n",
              "        (() => {\n",
              "          let quickchartButtonEl =\n",
              "            document.querySelector('#df-890de5b7-ab08-4f6f-b55a-4e861110c6b8 button');\n",
              "          quickchartButtonEl.style.display =\n",
              "            google.colab.kernel.accessAllowed ? 'block' : 'none';\n",
              "        })();\n",
              "      </script>\n",
              "    </div>\n",
              "\n",
              "    </div>\n",
              "  </div>\n"
            ],
            "application/vnd.google.colaboratory.intrinsic+json": {
              "type": "dataframe",
              "variable_name": "train_data",
              "summary": "{\n  \"name\": \"train_data\",\n  \"rows\": 7000,\n  \"fields\": [\n    {\n      \"column\": \"id\",\n      \"properties\": {\n        \"dtype\": \"number\",\n        \"std\": 2020,\n        \"min\": 0,\n        \"max\": 6999,\n        \"num_unique_values\": 7000,\n        \"samples\": [\n          6500,\n          2944,\n          2024\n        ],\n        \"semantic_type\": \"\",\n        \"description\": \"\"\n      }\n    },\n    {\n      \"column\": \"image_url\",\n      \"properties\": {\n        \"dtype\": \"string\",\n        \"num_unique_values\": 7000,\n        \"samples\": [\n          \"https://preview.redd.it/v1efucmn3uc61.jpg?width=640&crop=smart&auto=webp&s=520d5a7ad8451e0af16d02686fe7a379f7d6a338\",\n          \"https://encrypted-tbn0.gstatic.com/images?q=tbn:ANd9GcShhroFEIh6V-lpdbgvviuOAAMCgKSKCmyerQ&usqp=CAU\",\n          \"https://encrypted-tbn0.gstatic.com/images?q=tbn:ANd9GcSHieHYs3PupXSfRdZeZvV4CQv1RGzNqJTxPg&usqp=CAU\"\n        ],\n        \"semantic_type\": \"\",\n        \"description\": \"\"\n      }\n    },\n    {\n      \"column\": \"humour\",\n      \"properties\": {\n        \"dtype\": \"category\",\n        \"num_unique_values\": 4,\n        \"samples\": [\n          \"funny\",\n          \"hilarious\",\n          \"very_funny\"\n        ],\n        \"semantic_type\": \"\",\n        \"description\": \"\"\n      }\n    },\n    {\n      \"column\": \"sarcastic\",\n      \"properties\": {\n        \"dtype\": \"category\",\n        \"num_unique_values\": 4,\n        \"samples\": [\n          \"general\",\n          \"very_twisted\",\n          \"twisted_meaning\"\n        ],\n        \"semantic_type\": \"\",\n        \"description\": \"\"\n      }\n    },\n    {\n      \"column\": \"offensive\",\n      \"properties\": {\n        \"dtype\": \"category\",\n        \"num_unique_values\": 4,\n        \"samples\": [\n          \"slight\",\n          \"hateful_offensive\",\n          \"not_offensive\"\n        ],\n        \"semantic_type\": \"\",\n        \"description\": \"\"\n      }\n    },\n    {\n      \"column\": \"motivational\",\n      \"properties\": {\n        \"dtype\": \"category\",\n        \"num_unique_values\": 2,\n        \"samples\": [\n          \"motivational\",\n          \"not_motivational\"\n        ],\n        \"semantic_type\": \"\",\n        \"description\": \"\"\n      }\n    },\n    {\n      \"column\": \"overall\",\n      \"properties\": {\n        \"dtype\": \"category\",\n        \"num_unique_values\": 5,\n        \"samples\": [\n          \"positive\",\n          \"very_positive\"\n        ],\n        \"semantic_type\": \"\",\n        \"description\": \"\"\n      }\n    },\n    {\n      \"column\": \"ocr\",\n      \"properties\": {\n        \"dtype\": \"string\",\n        \"num_unique_values\": 6939,\n        \"samples\": [\n          \"*Math Exam*\\nMy friend: 3/50\\nMe: 5/50\",\n          \"Be kind to others. You just never know\\nwhat someone is going through.\\nI'm okay\\nHORNY\\nHORNY\\nHORNY\\nHORNY\"\n        ],\n        \"semantic_type\": \"\",\n        \"description\": \"\"\n      }\n    },\n    {\n      \"column\": \"cleaned_ocr\",\n      \"properties\": {\n        \"dtype\": \"string\",\n        \"num_unique_values\": 6891,\n        \"samples\": [\n          \"kid sir hafte srk raha hai chennai express promote karne iska matlab samje daya srk nayi movie rahi hai chennai express kya sir\",\n          \"michael vaughan michaelvaughan early think australia beat india tour formats convincingly ausvind amnov twitter iphone wasim jaffer\\u24d2 wasimaffer ausvind\"\n        ],\n        \"semantic_type\": \"\",\n        \"description\": \"\"\n      }\n    },\n    {\n      \"column\": \"label\",\n      \"properties\": {\n        \"dtype\": \"number\",\n        \"std\": 0,\n        \"min\": 0,\n        \"max\": 1,\n        \"num_unique_values\": 2,\n        \"samples\": [\n          1,\n          0\n        ],\n        \"semantic_type\": \"\",\n        \"description\": \"\"\n      }\n    }\n  ]\n}"
            }
          },
          "metadata": {},
          "execution_count": 81
        }
      ]
    },
    {
      "cell_type": "code",
      "source": [
        "val_data['label'] = val_data.apply(label_hateful, axis=1)\n",
        "val_data.head()"
      ],
      "metadata": {
        "colab": {
          "base_uri": "https://localhost:8080/",
          "height": 590
        },
        "id": "tFIgEHBeE9p8",
        "outputId": "94d607ff-8b90-487e-f026-cd16a5adfc17"
      },
      "execution_count": null,
      "outputs": [
        {
          "output_type": "execute_result",
          "data": {
            "text/plain": [
              "   id                                          image_url      humour  \\\n",
              "0   0  https://encrypted-tbn0.gstatic.com/images?q=tb...       funny   \n",
              "1   1  https://encrypted-tbn0.gstatic.com/images?q=tb...  very_funny   \n",
              "2   2  https://encrypted-tbn0.gstatic.com/images?q=tb...       funny   \n",
              "3   3  https://encrypted-tbn0.gstatic.com/images?q=tb...       funny   \n",
              "4   4  https://encrypted-tbn0.gstatic.com/images?q=tb...  very_funny   \n",
              "\n",
              "         sarcastic      offensive      motivational        overall  \\\n",
              "0  twisted_meaning  not_offensive  not_motivational        neutral   \n",
              "1          general         slight  not_motivational       negative   \n",
              "2          general         slight  not_motivational  very_negative   \n",
              "3          general         slight  not_motivational       negative   \n",
              "4          general         slight  not_motivational        neutral   \n",
              "\n",
              "                                                 ocr  \\\n",
              "0  RVCJ\\nwww.EVCI.COM\\nTum paas aaye yun muskuray...   \n",
              "1  rukjao Maqbeol,\\nbabuji ko tum nalt muaracay-\\...   \n",
              "2  champak appreciating Jetha\\nfor following lock...   \n",
              "3  Noor Malik@ItsNoor 22h\\nWhen you realize k\\nNa...   \n",
              "4  noop\\nαποταθεωρία\\nNehe: ita gis having 5 boyf...   \n",
              "\n",
              "                                         cleaned_ocr  label  \n",
              "0  rvcj tum paas aaye yun muskuraye beta phir bhi...      0  \n",
              "1  rukjao maqbeol babuji tum nalt muaracay hum ma...      1  \n",
              "2  champak appreciating jetha following lockdown ...      1  \n",
              "3       noor malikitsnoor realize car hai dost pawri      1  \n",
              "4  noop αποταθεωρία nehe ita gis having boyfhends...      1  "
            ],
            "text/html": [
              "\n",
              "  <div id=\"df-aa088cd0-b7c6-4c58-b331-dece31af34e7\" class=\"colab-df-container\">\n",
              "    <div>\n",
              "<style scoped>\n",
              "    .dataframe tbody tr th:only-of-type {\n",
              "        vertical-align: middle;\n",
              "    }\n",
              "\n",
              "    .dataframe tbody tr th {\n",
              "        vertical-align: top;\n",
              "    }\n",
              "\n",
              "    .dataframe thead th {\n",
              "        text-align: right;\n",
              "    }\n",
              "</style>\n",
              "<table border=\"1\" class=\"dataframe\">\n",
              "  <thead>\n",
              "    <tr style=\"text-align: right;\">\n",
              "      <th></th>\n",
              "      <th>id</th>\n",
              "      <th>image_url</th>\n",
              "      <th>humour</th>\n",
              "      <th>sarcastic</th>\n",
              "      <th>offensive</th>\n",
              "      <th>motivational</th>\n",
              "      <th>overall</th>\n",
              "      <th>ocr</th>\n",
              "      <th>cleaned_ocr</th>\n",
              "      <th>label</th>\n",
              "    </tr>\n",
              "  </thead>\n",
              "  <tbody>\n",
              "    <tr>\n",
              "      <th>0</th>\n",
              "      <td>0</td>\n",
              "      <td>https://encrypted-tbn0.gstatic.com/images?q=tb...</td>\n",
              "      <td>funny</td>\n",
              "      <td>twisted_meaning</td>\n",
              "      <td>not_offensive</td>\n",
              "      <td>not_motivational</td>\n",
              "      <td>neutral</td>\n",
              "      <td>RVCJ\\nwww.EVCI.COM\\nTum paas aaye yun muskuray...</td>\n",
              "      <td>rvcj tum paas aaye yun muskuraye beta phir bhi...</td>\n",
              "      <td>0</td>\n",
              "    </tr>\n",
              "    <tr>\n",
              "      <th>1</th>\n",
              "      <td>1</td>\n",
              "      <td>https://encrypted-tbn0.gstatic.com/images?q=tb...</td>\n",
              "      <td>very_funny</td>\n",
              "      <td>general</td>\n",
              "      <td>slight</td>\n",
              "      <td>not_motivational</td>\n",
              "      <td>negative</td>\n",
              "      <td>rukjao Maqbeol,\\nbabuji ko tum nalt muaracay-\\...</td>\n",
              "      <td>rukjao maqbeol babuji tum nalt muaracay hum ma...</td>\n",
              "      <td>1</td>\n",
              "    </tr>\n",
              "    <tr>\n",
              "      <th>2</th>\n",
              "      <td>2</td>\n",
              "      <td>https://encrypted-tbn0.gstatic.com/images?q=tb...</td>\n",
              "      <td>funny</td>\n",
              "      <td>general</td>\n",
              "      <td>slight</td>\n",
              "      <td>not_motivational</td>\n",
              "      <td>very_negative</td>\n",
              "      <td>champak appreciating Jetha\\nfor following lock...</td>\n",
              "      <td>champak appreciating jetha following lockdown ...</td>\n",
              "      <td>1</td>\n",
              "    </tr>\n",
              "    <tr>\n",
              "      <th>3</th>\n",
              "      <td>3</td>\n",
              "      <td>https://encrypted-tbn0.gstatic.com/images?q=tb...</td>\n",
              "      <td>funny</td>\n",
              "      <td>general</td>\n",
              "      <td>slight</td>\n",
              "      <td>not_motivational</td>\n",
              "      <td>negative</td>\n",
              "      <td>Noor Malik@ItsNoor 22h\\nWhen you realize k\\nNa...</td>\n",
              "      <td>noor malikitsnoor realize car hai dost pawri</td>\n",
              "      <td>1</td>\n",
              "    </tr>\n",
              "    <tr>\n",
              "      <th>4</th>\n",
              "      <td>4</td>\n",
              "      <td>https://encrypted-tbn0.gstatic.com/images?q=tb...</td>\n",
              "      <td>very_funny</td>\n",
              "      <td>general</td>\n",
              "      <td>slight</td>\n",
              "      <td>not_motivational</td>\n",
              "      <td>neutral</td>\n",
              "      <td>noop\\nαποταθεωρία\\nNehe: ita gis having 5 boyf...</td>\n",
              "      <td>noop αποταθεωρία nehe ita gis having boyfhends...</td>\n",
              "      <td>1</td>\n",
              "    </tr>\n",
              "  </tbody>\n",
              "</table>\n",
              "</div>\n",
              "    <div class=\"colab-df-buttons\">\n",
              "\n",
              "  <div class=\"colab-df-container\">\n",
              "    <button class=\"colab-df-convert\" onclick=\"convertToInteractive('df-aa088cd0-b7c6-4c58-b331-dece31af34e7')\"\n",
              "            title=\"Convert this dataframe to an interactive table.\"\n",
              "            style=\"display:none;\">\n",
              "\n",
              "  <svg xmlns=\"http://www.w3.org/2000/svg\" height=\"24px\" viewBox=\"0 -960 960 960\">\n",
              "    <path d=\"M120-120v-720h720v720H120Zm60-500h600v-160H180v160Zm220 220h160v-160H400v160Zm0 220h160v-160H400v160ZM180-400h160v-160H180v160Zm440 0h160v-160H620v160ZM180-180h160v-160H180v160Zm440 0h160v-160H620v160Z\"/>\n",
              "  </svg>\n",
              "    </button>\n",
              "\n",
              "  <style>\n",
              "    .colab-df-container {\n",
              "      display:flex;\n",
              "      gap: 12px;\n",
              "    }\n",
              "\n",
              "    .colab-df-convert {\n",
              "      background-color: #E8F0FE;\n",
              "      border: none;\n",
              "      border-radius: 50%;\n",
              "      cursor: pointer;\n",
              "      display: none;\n",
              "      fill: #1967D2;\n",
              "      height: 32px;\n",
              "      padding: 0 0 0 0;\n",
              "      width: 32px;\n",
              "    }\n",
              "\n",
              "    .colab-df-convert:hover {\n",
              "      background-color: #E2EBFA;\n",
              "      box-shadow: 0px 1px 2px rgba(60, 64, 67, 0.3), 0px 1px 3px 1px rgba(60, 64, 67, 0.15);\n",
              "      fill: #174EA6;\n",
              "    }\n",
              "\n",
              "    .colab-df-buttons div {\n",
              "      margin-bottom: 4px;\n",
              "    }\n",
              "\n",
              "    [theme=dark] .colab-df-convert {\n",
              "      background-color: #3B4455;\n",
              "      fill: #D2E3FC;\n",
              "    }\n",
              "\n",
              "    [theme=dark] .colab-df-convert:hover {\n",
              "      background-color: #434B5C;\n",
              "      box-shadow: 0px 1px 3px 1px rgba(0, 0, 0, 0.15);\n",
              "      filter: drop-shadow(0px 1px 2px rgba(0, 0, 0, 0.3));\n",
              "      fill: #FFFFFF;\n",
              "    }\n",
              "  </style>\n",
              "\n",
              "    <script>\n",
              "      const buttonEl =\n",
              "        document.querySelector('#df-aa088cd0-b7c6-4c58-b331-dece31af34e7 button.colab-df-convert');\n",
              "      buttonEl.style.display =\n",
              "        google.colab.kernel.accessAllowed ? 'block' : 'none';\n",
              "\n",
              "      async function convertToInteractive(key) {\n",
              "        const element = document.querySelector('#df-aa088cd0-b7c6-4c58-b331-dece31af34e7');\n",
              "        const dataTable =\n",
              "          await google.colab.kernel.invokeFunction('convertToInteractive',\n",
              "                                                    [key], {});\n",
              "        if (!dataTable) return;\n",
              "\n",
              "        const docLinkHtml = 'Like what you see? Visit the ' +\n",
              "          '<a target=\"_blank\" href=https://colab.research.google.com/notebooks/data_table.ipynb>data table notebook</a>'\n",
              "          + ' to learn more about interactive tables.';\n",
              "        element.innerHTML = '';\n",
              "        dataTable['output_type'] = 'display_data';\n",
              "        await google.colab.output.renderOutput(dataTable, element);\n",
              "        const docLink = document.createElement('div');\n",
              "        docLink.innerHTML = docLinkHtml;\n",
              "        element.appendChild(docLink);\n",
              "      }\n",
              "    </script>\n",
              "  </div>\n",
              "\n",
              "\n",
              "    <div id=\"df-0b545e0e-9579-499a-bf2f-6226022ea0cd\">\n",
              "      <button class=\"colab-df-quickchart\" onclick=\"quickchart('df-0b545e0e-9579-499a-bf2f-6226022ea0cd')\"\n",
              "                title=\"Suggest charts\"\n",
              "                style=\"display:none;\">\n",
              "\n",
              "<svg xmlns=\"http://www.w3.org/2000/svg\" height=\"24px\"viewBox=\"0 0 24 24\"\n",
              "     width=\"24px\">\n",
              "    <g>\n",
              "        <path d=\"M19 3H5c-1.1 0-2 .9-2 2v14c0 1.1.9 2 2 2h14c1.1 0 2-.9 2-2V5c0-1.1-.9-2-2-2zM9 17H7v-7h2v7zm4 0h-2V7h2v10zm4 0h-2v-4h2v4z\"/>\n",
              "    </g>\n",
              "</svg>\n",
              "      </button>\n",
              "\n",
              "<style>\n",
              "  .colab-df-quickchart {\n",
              "      --bg-color: #E8F0FE;\n",
              "      --fill-color: #1967D2;\n",
              "      --hover-bg-color: #E2EBFA;\n",
              "      --hover-fill-color: #174EA6;\n",
              "      --disabled-fill-color: #AAA;\n",
              "      --disabled-bg-color: #DDD;\n",
              "  }\n",
              "\n",
              "  [theme=dark] .colab-df-quickchart {\n",
              "      --bg-color: #3B4455;\n",
              "      --fill-color: #D2E3FC;\n",
              "      --hover-bg-color: #434B5C;\n",
              "      --hover-fill-color: #FFFFFF;\n",
              "      --disabled-bg-color: #3B4455;\n",
              "      --disabled-fill-color: #666;\n",
              "  }\n",
              "\n",
              "  .colab-df-quickchart {\n",
              "    background-color: var(--bg-color);\n",
              "    border: none;\n",
              "    border-radius: 50%;\n",
              "    cursor: pointer;\n",
              "    display: none;\n",
              "    fill: var(--fill-color);\n",
              "    height: 32px;\n",
              "    padding: 0;\n",
              "    width: 32px;\n",
              "  }\n",
              "\n",
              "  .colab-df-quickchart:hover {\n",
              "    background-color: var(--hover-bg-color);\n",
              "    box-shadow: 0 1px 2px rgba(60, 64, 67, 0.3), 0 1px 3px 1px rgba(60, 64, 67, 0.15);\n",
              "    fill: var(--button-hover-fill-color);\n",
              "  }\n",
              "\n",
              "  .colab-df-quickchart-complete:disabled,\n",
              "  .colab-df-quickchart-complete:disabled:hover {\n",
              "    background-color: var(--disabled-bg-color);\n",
              "    fill: var(--disabled-fill-color);\n",
              "    box-shadow: none;\n",
              "  }\n",
              "\n",
              "  .colab-df-spinner {\n",
              "    border: 2px solid var(--fill-color);\n",
              "    border-color: transparent;\n",
              "    border-bottom-color: var(--fill-color);\n",
              "    animation:\n",
              "      spin 1s steps(1) infinite;\n",
              "  }\n",
              "\n",
              "  @keyframes spin {\n",
              "    0% {\n",
              "      border-color: transparent;\n",
              "      border-bottom-color: var(--fill-color);\n",
              "      border-left-color: var(--fill-color);\n",
              "    }\n",
              "    20% {\n",
              "      border-color: transparent;\n",
              "      border-left-color: var(--fill-color);\n",
              "      border-top-color: var(--fill-color);\n",
              "    }\n",
              "    30% {\n",
              "      border-color: transparent;\n",
              "      border-left-color: var(--fill-color);\n",
              "      border-top-color: var(--fill-color);\n",
              "      border-right-color: var(--fill-color);\n",
              "    }\n",
              "    40% {\n",
              "      border-color: transparent;\n",
              "      border-right-color: var(--fill-color);\n",
              "      border-top-color: var(--fill-color);\n",
              "    }\n",
              "    60% {\n",
              "      border-color: transparent;\n",
              "      border-right-color: var(--fill-color);\n",
              "    }\n",
              "    80% {\n",
              "      border-color: transparent;\n",
              "      border-right-color: var(--fill-color);\n",
              "      border-bottom-color: var(--fill-color);\n",
              "    }\n",
              "    90% {\n",
              "      border-color: transparent;\n",
              "      border-bottom-color: var(--fill-color);\n",
              "    }\n",
              "  }\n",
              "</style>\n",
              "\n",
              "      <script>\n",
              "        async function quickchart(key) {\n",
              "          const quickchartButtonEl =\n",
              "            document.querySelector('#' + key + ' button');\n",
              "          quickchartButtonEl.disabled = true;  // To prevent multiple clicks.\n",
              "          quickchartButtonEl.classList.add('colab-df-spinner');\n",
              "          try {\n",
              "            const charts = await google.colab.kernel.invokeFunction(\n",
              "                'suggestCharts', [key], {});\n",
              "          } catch (error) {\n",
              "            console.error('Error during call to suggestCharts:', error);\n",
              "          }\n",
              "          quickchartButtonEl.classList.remove('colab-df-spinner');\n",
              "          quickchartButtonEl.classList.add('colab-df-quickchart-complete');\n",
              "        }\n",
              "        (() => {\n",
              "          let quickchartButtonEl =\n",
              "            document.querySelector('#df-0b545e0e-9579-499a-bf2f-6226022ea0cd button');\n",
              "          quickchartButtonEl.style.display =\n",
              "            google.colab.kernel.accessAllowed ? 'block' : 'none';\n",
              "        })();\n",
              "      </script>\n",
              "    </div>\n",
              "\n",
              "    </div>\n",
              "  </div>\n"
            ],
            "application/vnd.google.colaboratory.intrinsic+json": {
              "type": "dataframe",
              "variable_name": "val_data",
              "summary": "{\n  \"name\": \"val_data\",\n  \"rows\": 1500,\n  \"fields\": [\n    {\n      \"column\": \"id\",\n      \"properties\": {\n        \"dtype\": \"number\",\n        \"std\": 433,\n        \"min\": 0,\n        \"max\": 1499,\n        \"num_unique_values\": 1500,\n        \"samples\": [\n          1116,\n          1368,\n          422\n        ],\n        \"semantic_type\": \"\",\n        \"description\": \"\"\n      }\n    },\n    {\n      \"column\": \"image_url\",\n      \"properties\": {\n        \"dtype\": \"string\",\n        \"num_unique_values\": 1500,\n        \"samples\": [\n          \"https://encrypted-tbn0.gstatic.com/images?q=tbn:ANd9GcS4Oa22-EOE8hTVh1gI5D_uguhbrRXWFRQv9Q&usqp=CAU\",\n          \"https://encrypted-tbn0.gstatic.com/images?q=tbn:ANd9GcQLLl-2xdmocoYxEoYIx0aenr2I3yCfRkWc0Q&usqp=CAU\",\n          \"https://encrypted-tbn0.gstatic.com/images?q=tbn:ANd9GcQnpvfEiru3tozX4vPmyYT0nMFJlxDzQiazFg&usqp=CAU\"\n        ],\n        \"semantic_type\": \"\",\n        \"description\": \"\"\n      }\n    },\n    {\n      \"column\": \"humour\",\n      \"properties\": {\n        \"dtype\": \"category\",\n        \"num_unique_values\": 4,\n        \"samples\": [\n          \"very_funny\",\n          \"hilarious\",\n          \"funny\"\n        ],\n        \"semantic_type\": \"\",\n        \"description\": \"\"\n      }\n    },\n    {\n      \"column\": \"sarcastic\",\n      \"properties\": {\n        \"dtype\": \"category\",\n        \"num_unique_values\": 4,\n        \"samples\": [\n          \"general\",\n          \"very_twisted\",\n          \"twisted_meaning\"\n        ],\n        \"semantic_type\": \"\",\n        \"description\": \"\"\n      }\n    },\n    {\n      \"column\": \"offensive\",\n      \"properties\": {\n        \"dtype\": \"category\",\n        \"num_unique_values\": 4,\n        \"samples\": [\n          \"slight\",\n          \"hateful_offensive\",\n          \"not_offensive\"\n        ],\n        \"semantic_type\": \"\",\n        \"description\": \"\"\n      }\n    },\n    {\n      \"column\": \"motivational\",\n      \"properties\": {\n        \"dtype\": \"category\",\n        \"num_unique_values\": 2,\n        \"samples\": [\n          \"motivational\",\n          \"not_motivational\"\n        ],\n        \"semantic_type\": \"\",\n        \"description\": \"\"\n      }\n    },\n    {\n      \"column\": \"overall\",\n      \"properties\": {\n        \"dtype\": \"category\",\n        \"num_unique_values\": 5,\n        \"samples\": [\n          \"negative\",\n          \"very_positive\"\n        ],\n        \"semantic_type\": \"\",\n        \"description\": \"\"\n      }\n    },\n    {\n      \"column\": \"ocr\",\n      \"properties\": {\n        \"dtype\": \"string\",\n        \"num_unique_values\": 1478,\n        \"samples\": [\n          \"greches pour seamong\\nM\\nBahut galat hua re deva\",\n          \"Priyanka @lpriyanka\\n12h\\nBhau chand pe gaya.. itna to banta hai...\\n91\\n27\\n\\u2661 1\\nVK\\n@Chanakya\\nOnly some people know that Bunty renamed Parle to Parle-G in\\nhonor of Gaitonde Bhai reaching Chand\\nKaushik @kk8795 12h\\nReplying to @Netflixindia\\nCC: @Samy sayz @mithunkoppal\\nG ka jadoo\"\n        ],\n        \"semantic_type\": \"\",\n        \"description\": \"\"\n      }\n    },\n    {\n      \"column\": \"cleaned_ocr\",\n      \"properties\": {\n        \"dtype\": \"string\",\n        \"num_unique_values\": 1471,\n        \"samples\": [\n          \"sir iska answer batao shuruwat dialogue kyu pela tha aavive saath milkar khelte hai main kaise bata sakta\",\n          \"tmkoc shooting new episodes aae band kar band kar\"\n        ],\n        \"semantic_type\": \"\",\n        \"description\": \"\"\n      }\n    },\n    {\n      \"column\": \"label\",\n      \"properties\": {\n        \"dtype\": \"number\",\n        \"std\": 0,\n        \"min\": 0,\n        \"max\": 1,\n        \"num_unique_values\": 2,\n        \"samples\": [\n          1,\n          0\n        ],\n        \"semantic_type\": \"\",\n        \"description\": \"\"\n      }\n    }\n  ]\n}"
            }
          },
          "metadata": {},
          "execution_count": 82
        }
      ]
    },
    {
      "cell_type": "code",
      "source": [
        "print(train_data['label'].value_counts())"
      ],
      "metadata": {
        "colab": {
          "base_uri": "https://localhost:8080/"
        },
        "id": "evYXJzs1ea4Z",
        "outputId": "80a37adf-7bf0-4521-8c43-5dbeaaf41fac"
      },
      "execution_count": null,
      "outputs": [
        {
          "output_type": "stream",
          "name": "stdout",
          "text": [
            "label\n",
            "0    4183\n",
            "1    2817\n",
            "Name: count, dtype: int64\n"
          ]
        }
      ]
    },
    {
      "cell_type": "code",
      "source": [
        "print(val_data['label'].value_counts())"
      ],
      "metadata": {
        "colab": {
          "base_uri": "https://localhost:8080/"
        },
        "id": "sH8_jrwq4fHT",
        "outputId": "69cb16b6-52ee-4932-e558-89f670b7e016"
      },
      "execution_count": null,
      "outputs": [
        {
          "output_type": "stream",
          "name": "stdout",
          "text": [
            "label\n",
            "1    863\n",
            "0    637\n",
            "Name: count, dtype: int64\n"
          ]
        }
      ]
    },
    {
      "cell_type": "code",
      "source": [
        "print(train_data.columns)"
      ],
      "metadata": {
        "colab": {
          "base_uri": "https://localhost:8080/"
        },
        "id": "G0N_bJZ4cbIG",
        "outputId": "e11dcddf-fbd1-40bb-e947-f1d6e566b17e"
      },
      "execution_count": null,
      "outputs": [
        {
          "output_type": "stream",
          "name": "stdout",
          "text": [
            "Index(['id', 'image_url', 'humour', 'sarcastic', 'offensive', 'motivational',\n",
            "       'overall', 'ocr', 'cleaned_ocr', 'label'],\n",
            "      dtype='object')\n"
          ]
        }
      ]
    },
    {
      "cell_type": "code",
      "source": [
        "#Heatmap of tran.csv\n",
        "# Count of each label\n",
        "label_counts = train_data['label'].value_counts().sort_index()\n",
        "\n",
        "# Create a dataframe for seaborn\n",
        "label_df = pd.DataFrame(label_counts).reset_index()\n",
        "label_df.columns = ['Label', 'Count']\n",
        "label_df['Label'] = label_df['Label'].map({0: 'Non-Hateful', 1: 'Hateful'})\n",
        "\n",
        "# Plot the heatmap\n",
        "plt.figure(figsize=(6, 4))\n",
        "sns.heatmap(label_df[['Count']].T, annot=label_df['Count'].values.reshape(1, -1),\n",
        "            fmt='d', cmap=\"Reds\", cbar=False, xticklabels=label_df['Label'].values)\n",
        "\n",
        "plt.title('Class Imbalance Heatmap (Memotion 3.0)')\n",
        "plt.yticks(rotation=0)\n",
        "plt.show()\n"
      ],
      "metadata": {
        "colab": {
          "base_uri": "https://localhost:8080/",
          "height": 391
        },
        "id": "VUYfgfLJss1k",
        "outputId": "d89b67e1-0b47-4bfd-ab03-a728a4d14d17"
      },
      "execution_count": null,
      "outputs": [
        {
          "output_type": "display_data",
          "data": {
            "text/plain": [
              "<Figure size 600x400 with 1 Axes>"
            ],
            "image/png": "[encoded data removed]"
          },
          "metadata": {}
        }
      ]
    },
    {
      "cell_type": "markdown",
      "source": [
        "## Train data"
      ],
      "metadata": {
        "id": "_GvvF4ajaZAf"
      }
    },
    {
      "cell_type": "code",
      "source": [
        "sns.countplot(data=train_data, x='label')\n",
        "plt.xticks([0, 1], ['Non-Hateful', 'Hateful'])\n",
        "plt.title('Class Distribution in Memotion 3.0')\n",
        "plt.xlabel('Label')\n",
        "plt.ylabel('Count')\n",
        "plt.show()\n"
      ],
      "metadata": {
        "colab": {
          "base_uri": "https://localhost:8080/",
          "height": 472
        },
        "id": "LaxGxipZss7N",
        "outputId": "0468d326-c2ef-4ea3-bc6f-a9e751a6fdfa"
      },
      "execution_count": null,
      "outputs": [
        {
          "output_type": "display_data",
          "data": {
            "text/plain": [
              "<Figure size 640x480 with 1 Axes>"
            ],
            "image/png": "[encoded data removed]"
          },
          "metadata": {}
        }
      ]
    },
    {
      "cell_type": "markdown",
      "source": [
        "## Train data evaluation and metrics on LR, SVM"
      ],
      "metadata": {
        "id": "V5wO54LOaijG"
      }
    },
    {
      "cell_type": "code",
      "source": [
        "from sklearn.linear_model import LogisticRegression\n",
        "from sklearn.model_selection import GridSearchCV, StratifiedKFold\n",
        "\n",
        "#alpha = 0.5\n",
        "alpha = 0.55\n",
        "X_train_combined = np.hstack([\n",
        "    alpha * X_text_train_pca,\n",
        "    (1 - alpha) * train_image_pca\n",
        "])\n",
        "X_val_combined = np.hstack([\n",
        "    alpha * X_text_val_pca,\n",
        "    (1 - alpha) * val_image_pca\n",
        "])\n",
        "\n",
        "param_grid = {\n",
        "    'C': [0.1, 0.5, 1, 5],\n",
        "    'penalty': ['l1', 'l2'],                 # Try both L1 and L2\n",
        "    'solver': ['liblinear'],                # 'liblinear' supports both l1 and l2\n",
        "    'class_weight': ['balanced']\n",
        "}\n",
        "\n",
        "model = LogisticRegression(max_iter=1000)  # You can increase this if convergence warning appears\n",
        "\n",
        "# StratifiedKFold maintains label distribution\n",
        "kfold = StratifiedKFold(n_splits=5, shuffle=True, random_state=42)\n",
        "\n",
        "grid_search = GridSearchCV(estimator=model, param_grid=param_grid, cv=kfold,\n",
        "                           scoring='roc_auc', n_jobs=-1, verbose=1)\n",
        "grid_search.fit(X_train_combined, train_data['label'])\n",
        "\n",
        "print(\"Best ROC-AUC:\", grid_search.best_score_)\n",
        "print(\"Best Parameters:\", grid_search.best_params_)\n"
      ],
      "metadata": {
        "colab": {
          "base_uri": "https://localhost:8080/"
        },
        "id": "0arBH6yc-Z7m",
        "outputId": "b3e8b71a-b37e-40c6-e5e6-2180cd94c9a5"
      },
      "execution_count": null,
      "outputs": [
        {
          "output_type": "stream",
          "name": "stdout",
          "text": [
            "Fitting 5 folds for each of 8 candidates, totalling 40 fits\n",
            "Best ROC-AUC: 0.6245631811117108\n",
            "Best Parameters: {'C': 0.1, 'class_weight': 'balanced', 'penalty': 'l1', 'solver': 'liblinear'}\n"
          ]
        }
      ]
    },
    {
      "cell_type": "code",
      "source": [
        "from sklearn.linear_model import LogisticRegression\n",
        "from sklearn.metrics import accuracy_score, roc_auc_score, classification_report\n",
        "\n",
        "#Best hyperparameters: {'C': 5, 'class_weight': 'balanced', 'penalty': 'l2', 'solver': 'liblinear'}\n",
        "# 1. Rebuild combined validation features using best alpha\n",
        "best_alpha = 0.55\n",
        "X_val_combined = np.hstack([\n",
        "    best_alpha * X_text_val_pca,\n",
        "    (1 - best_alpha) * val_image_pca\n",
        "])\n",
        "\n",
        "# 2. Rebuild combined training features (use PCA text if used above)\n",
        "X_train_combined = np.hstack([\n",
        "    best_alpha * X_text_train_pca,\n",
        "    (1 - best_alpha) * train_image_pca\n",
        "])\n",
        "\n",
        "# 3. Re-train the Logistic Regression model on full training set using best params\n",
        "final_model = LogisticRegression(\n",
        "    C=best_params['C'],\n",
        "    penalty=best_params['penalty'],\n",
        "    solver=best_params['solver'],\n",
        "    class_weight=best_params['class_weight'],\n",
        "    max_iter=1000\n",
        ")\n",
        "final_model.fit(X_train_combined, train_data['label'])\n",
        "\n",
        "# 4. Predict on validation set\n",
        "val_preds = final_model.predict(X_val_combined)\n",
        "val_probs = final_model.predict_proba(X_val_combined)[:, 1]\n",
        "\n",
        "# 5. Evaluate\n",
        "print(\"Validation Accuracy:\", accuracy_score(val_data['label'], val_preds))\n",
        "print(\"Validation ROC-AUC:\", roc_auc_score(val_data['label'], val_probs))\n",
        "print(\"\\nClassification Report:\")\n",
        "print(classification_report(val_data['label'], val_preds))\n"
      ],
      "metadata": {
        "colab": {
          "base_uri": "https://localhost:8080/"
        },
        "id": "qvQ8wBVBbe4D",
        "outputId": "d093825f-c3ea-4123-c1ac-476f5900ee45"
      },
      "execution_count": null,
      "outputs": [
        {
          "output_type": "stream",
          "name": "stdout",
          "text": [
            "Validation Accuracy: 0.5053333333333333\n",
            "Validation ROC-AUC: 0.5367334205274944\n",
            "\n",
            "Classification Report:\n",
            "              precision    recall  f1-score   support\n",
            "\n",
            "           0       0.44      0.61      0.51       637\n",
            "           1       0.60      0.43      0.50       863\n",
            "\n",
            "    accuracy                           0.51      1500\n",
            "   macro avg       0.52      0.52      0.51      1500\n",
            "weighted avg       0.53      0.51      0.50      1500\n",
            "\n"
          ]
        }
      ]
    },
    {
      "cell_type": "code",
      "source": [
        "train_data['label']"
      ],
      "metadata": {
        "colab": {
          "base_uri": "https://localhost:8080/",
          "height": 458
        },
        "id": "43y0RxQ1mlyX",
        "outputId": "5f191de3-ba61-4881-e61c-a7f879a03d00"
      },
      "execution_count": null,
      "outputs": [
        {
          "output_type": "execute_result",
          "data": {
            "text/plain": [
              "0       0\n",
              "1       1\n",
              "2       0\n",
              "3       0\n",
              "4       1\n",
              "       ..\n",
              "6995    1\n",
              "6996    1\n",
              "6997    0\n",
              "6998    1\n",
              "6999    1\n",
              "Name: label, Length: 7000, dtype: int64"
            ],
            "text/html": [
              "<div>\n",
              "<style scoped>\n",
              "    .dataframe tbody tr th:only-of-type {\n",
              "        vertical-align: middle;\n",
              "    }\n",
              "\n",
              "    .dataframe tbody tr th {\n",
              "        vertical-align: top;\n",
              "    }\n",
              "\n",
              "    .dataframe thead th {\n",
              "        text-align: right;\n",
              "    }\n",
              "</style>\n",
              "<table border=\"1\" class=\"dataframe\">\n",
              "  <thead>\n",
              "    <tr style=\"text-align: right;\">\n",
              "      <th></th>\n",
              "      <th>label</th>\n",
              "    </tr>\n",
              "  </thead>\n",
              "  <tbody>\n",
              "    <tr>\n",
              "      <th>0</th>\n",
              "      <td>0</td>\n",
              "    </tr>\n",
              "    <tr>\n",
              "      <th>1</th>\n",
              "      <td>1</td>\n",
              "    </tr>\n",
              "    <tr>\n",
              "      <th>2</th>\n",
              "      <td>0</td>\n",
              "    </tr>\n",
              "    <tr>\n",
              "      <th>3</th>\n",
              "      <td>0</td>\n",
              "    </tr>\n",
              "    <tr>\n",
              "      <th>4</th>\n",
              "      <td>1</td>\n",
              "    </tr>\n",
              "    <tr>\n",
              "      <th>...</th>\n",
              "      <td>...</td>\n",
              "    </tr>\n",
              "    <tr>\n",
              "      <th>6995</th>\n",
              "      <td>1</td>\n",
              "    </tr>\n",
              "    <tr>\n",
              "      <th>6996</th>\n",
              "      <td>1</td>\n",
              "    </tr>\n",
              "    <tr>\n",
              "      <th>6997</th>\n",
              "      <td>0</td>\n",
              "    </tr>\n",
              "    <tr>\n",
              "      <th>6998</th>\n",
              "      <td>1</td>\n",
              "    </tr>\n",
              "    <tr>\n",
              "      <th>6999</th>\n",
              "      <td>1</td>\n",
              "    </tr>\n",
              "  </tbody>\n",
              "</table>\n",
              "<p>7000 rows × 1 columns</p>\n",
              "</div><br><label><b>dtype:</b> int64</label>"
            ]
          },
          "metadata": {},
          "execution_count": 24
        }
      ]
    },
    {
      "cell_type": "code",
      "source": [
        "from sklearn.svm import SVC\n",
        "from sklearn.model_selection import GridSearchCV, StratifiedKFold\n",
        "from sklearn.svm import SVC, LinearSVC\n",
        "from sklearn.calibration import CalibratedClassifierCV\n",
        "from sklearn.metrics import roc_auc_score, accuracy_score\n",
        "import joblib\n",
        "\n",
        "# Combine fused features\n",
        "X_val_combined = np.hstack([\n",
        "    alpha * X_text_val_pca,\n",
        "    (1 - alpha) * val_image_pca\n",
        "])\n",
        "\n",
        "X_train_combined = np.hstack([\n",
        "    alpha * X_text_train_pca,\n",
        "    (1 - alpha) * train_image_pca\n",
        "])\n",
        "\n",
        "\n",
        "\n",
        "base_svc = LinearSVC(C=1.0, class_weight='balanced', max_iter=10000)\n",
        "calibrated_svc = CalibratedClassifierCV(estimator=base_svc, cv=5)\n",
        "calibrated_svc.fit(X_train_combined, train_data['label'])\n",
        "\n",
        "# Predictions and probabilities on training data\n",
        "train_preds = calibrated_svc.predict(X_train_combined)\n",
        "train_probs = calibrated_svc.predict_proba(X_train_combined)[:, 1]\n",
        "\n",
        "# Metrics\n",
        "train_auc = roc_auc_score(train_data['label'], train_probs)\n",
        "train_acc = accuracy_score(train_data['label'], train_preds)\n",
        "\n",
        "print(f\"📊 Calibrated LinearSVC (Train) ROC-AUC: {train_auc:.4f}\")\n",
        "print(f\"📊 Calibrated LinearSVC (Train) Accuracy: {train_acc:.4f}\")\n",
        "\n",
        "\n",
        "# Optional save:\n",
        "joblib.dump(calibrated_svc, \"calibrated_svc_model.pkl\")\n",
        "\n",
        "\n",
        "\n"
      ],
      "metadata": {
        "colab": {
          "base_uri": "https://localhost:8080/"
        },
        "id": "LXYNGylzzHpF",
        "outputId": "145b5239-1aa5-4f65-c059-7348709393c6"
      },
      "execution_count": null,
      "outputs": [
        {
          "output_type": "stream",
          "name": "stdout",
          "text": [
            "📊 Calibrated LinearSVC (Train) ROC-AUC: 0.7035\n",
            "📊 Calibrated LinearSVC (Train) Accuracy: 0.6509\n"
          ]
        },
        {
          "output_type": "execute_result",
          "data": {
            "text/plain": [
              "['calibrated_svc_model.pkl']"
            ]
          },
          "metadata": {},
          "execution_count": 142
        }
      ]
    },
    {
      "cell_type": "code",
      "source": [
        "from sklearn.svm import LinearSVC\n",
        "from sklearn.model_selection import GridSearchCV, KFold\n",
        "\n",
        "# Define hyperparameters to search\n",
        "param_grid_svm = {\n",
        "    'C': [0.1, 1, 5, 10, 20]  # You can tune this range\n",
        "}\n",
        "\n",
        "# Model setup\n",
        "svm_model = LinearSVC(max_iter=5000)\n",
        "kfold = KFold(n_splits=15, shuffle=True, random_state=42)\n",
        "\n",
        "# Grid search\n",
        "grid_svm = GridSearchCV(\n",
        "    estimator=svm_model,\n",
        "    param_grid=param_grid_svm,\n",
        "    cv=kfold,\n",
        "    scoring='accuracy',\n",
        "    n_jobs=-1,\n",
        "    verbose=1\n",
        ")\n",
        "\n",
        "#Train\n",
        "grid_svm.fit(X_train_combined, train_data['label'])\n",
        "\n",
        "#  Best results\n",
        "print(f\"Best SVM Score: {grid_svm.best_score_:.4f}\")\n",
        "print(f\"Best SVM Params: {grid_svm.best_params_}\")\n"
      ],
      "metadata": {
        "colab": {
          "base_uri": "https://localhost:8080/"
        },
        "id": "4uFaIVmzjlBv",
        "outputId": "79ceaa31-2f1f-45ba-cbc4-e116d8d35220"
      },
      "execution_count": null,
      "outputs": [
        {
          "output_type": "stream",
          "name": "stdout",
          "text": [
            "Fitting 15 folds for each of 5 candidates, totalling 75 fits\n",
            "📊 Best SVM Score: 0.6200\n",
            "🔧 Best SVM Params: {'C': 0.1}\n"
          ]
        }
      ]
    },
    {
      "cell_type": "markdown",
      "source": [
        "## Predict on validation dataset"
      ],
      "metadata": {
        "id": "z5sQCcgZaq_5"
      }
    },
    {
      "cell_type": "code",
      "source": [
        "# Grab the best model from grid search\n",
        "best_svm = grid_svm.best_estimator_\n",
        "\n",
        "# Predict labels\n",
        "val_preds = best_svm.predict(X_val_combined)\n",
        "\n",
        "# Get margin scores for ROC-AUC\n",
        "val_scores = best_svm.decision_function(X_val_combined)\n",
        "\n",
        "# Metrics\n",
        "val_acc = accuracy_score(val_data['label'], val_preds)\n",
        "val_f1 = f1_score(val_data['label'], val_preds)\n",
        "val_auc = roc_auc_score(val_data['label'], val_scores)\n",
        "\n",
        "# Detailed report\n",
        "print(classification_report(val_data['label'], val_preds))\n",
        "print(f\"Validation Accuracy: {val_acc:.4f}\")\n",
        "print(f\"Validation F1 Score: {val_f1:.4f}\")\n",
        "print(f\"Validation ROC-AUC: {val_auc:.4f}\")\n",
        "\n",
        "# Optional save:\n",
        "joblib.dump(best_svm, \"best_svc_model.pkl\")"
      ],
      "metadata": {
        "colab": {
          "base_uri": "https://localhost:8080/"
        },
        "id": "d60JRHEEkBQ-",
        "outputId": "6f17648a-d6a7-44e0-db1a-e36a7f500f7a"
      },
      "execution_count": null,
      "outputs": [
        {
          "output_type": "stream",
          "name": "stdout",
          "text": [
            "              precision    recall  f1-score   support\n",
            "\n",
            "           0       0.44      0.87      0.58       637\n",
            "           1       0.66      0.19      0.29       863\n",
            "\n",
            "    accuracy                           0.48      1500\n",
            "   macro avg       0.55      0.53      0.44      1500\n",
            "weighted avg       0.56      0.48      0.42      1500\n",
            "\n",
            "✅ Validation Accuracy: 0.4760\n",
            "✅ Validation F1 Score: 0.2919\n",
            "📈 Validation ROC-AUC: 0.5389\n"
          ]
        },
        {
          "output_type": "execute_result",
          "data": {
            "text/plain": [
              "['best_svc_model.pkl']"
            ]
          },
          "metadata": {},
          "execution_count": 173
        }
      ]
    },
    {
      "cell_type": "code",
      "source": [
        "from sklearn.ensemble import RandomForestClassifier\n",
        "from sklearn.model_selection import GridSearchCV, KFold\n",
        "\n",
        "from sklearn.ensemble import RandomForestClassifier\n",
        "from sklearn.model_selection import RandomizedSearchCV, StratifiedKFold\n",
        "from scipy.stats import randint\n",
        "\n",
        "#  Hyperparameter distributions (can be sampled randomly)\n",
        "param_dist_rf = {\n",
        "    'n_estimators': randint(100, 500),        # e.g. 100–500 trees\n",
        "    'max_depth': [None, 10, 25, 50],\n",
        "    'min_samples_split': [2, 5, 10],\n",
        "    'class_weight': ['balanced']\n",
        "}\n",
        "\n",
        "#  Model\n",
        "rf_model = RandomForestClassifier(random_state=42)\n",
        "\n",
        "#  Stratified cross-validation\n",
        "skf = StratifiedKFold(n_splits=10, shuffle=True, random_state=42)\n",
        "\n",
        "# Randomized Search (n_iter = how many combinations to try)\n",
        "random_search_rf = RandomizedSearchCV(\n",
        "    estimator=rf_model,\n",
        "    param_distributions=param_dist_rf,\n",
        "    n_iter=10,                   # Try 20 random combinations\n",
        "    scoring='roc_auc',\n",
        "    cv=skf,\n",
        "    n_jobs=-1,\n",
        "    verbose=2,\n",
        "    random_state=42\n",
        ")\n",
        "\n",
        "#  Train\n",
        "random_search_rf.fit(X_train_combined, train_data['label'])\n",
        "\n",
        "#  Best results\n",
        "print(f\" Best RF ROC-AUC: {random_search_rf.best_score_:.4f}\")\n",
        "print(f\" Best RF Parameters: {random_search_rf.best_params_}\")\n"
      ],
      "metadata": {
        "colab": {
          "base_uri": "https://localhost:8080/"
        },
        "id": "w5cQNuBCn9Ue",
        "outputId": "789ba8a2-21fd-4648-d6a1-757247f4ccd6"
      },
      "execution_count": null,
      "outputs": [
        {
          "output_type": "stream",
          "name": "stdout",
          "text": [
            "Fitting 10 folds for each of 10 candidates, totalling 100 fits\n",
            "📊 Best RF ROC-AUC: 0.6459\n",
            "🔧 Best RF Parameters: {'class_weight': 'balanced', 'max_depth': 10, 'min_samples_split': 2, 'n_estimators': 260}\n"
          ]
        }
      ]
    },
    {
      "cell_type": "code",
      "source": [
        "# Fitting 10 folds for each of 10 candidates, totalling 100 fits\n",
        "\n",
        "#Best RF Parameters: {'class_weight': 'balanced', 'max_depth': 10, 'min_samples_split': 2, 'n_estimators': 260}\n",
        "\n",
        "from sklearn.metrics import roc_auc_score, accuracy_score\n",
        "\n",
        "#  Get predicted probabilities and class labels\n",
        "val_probs_rf = best_rf.predict_proba(X_val_combined)[:, 1]\n",
        "val_preds_rf = best_rf.predict(X_val_combined)  # predicted class labels (0 or 1)\n",
        "\n",
        "#  Compute ROC-AUC\n",
        "val_auc_rf = roc_auc_score(val_data['label'], val_probs_rf)\n",
        "\n",
        "#  Compute Accuracy\n",
        "val_acc_rf = accuracy_score(val_data['label'], val_preds_rf)\n",
        "\n",
        "print(f\" ROC-AUC on Validation Set: {val_auc_rf:.4f}\")\n",
        "print(f\" Accuracy on Validation Set: {val_acc_rf:.4f}\")\n",
        "\n"
      ],
      "metadata": {
        "colab": {
          "base_uri": "https://localhost:8080/"
        },
        "id": "gIsBcfibmg-H",
        "outputId": "ebff47dc-094e-4d55-e1d2-2a67538789eb"
      },
      "execution_count": null,
      "outputs": [
        {
          "output_type": "stream",
          "name": "stdout",
          "text": [
            "✅ ROC-AUC on Validation Set: 0.5271\n",
            "✅ Accuracy on Validation Set: 0.4867\n"
          ]
        }
      ]
    },
    {
      "cell_type": "code",
      "source": [
        "\n",
        "\n",
        "import joblib\n",
        "joblib.dump(best_rf, '/content/drive/MyDrive/Memotion3/ResNETimage/best_random_forest_model.pkl')\n"
      ],
      "metadata": {
        "colab": {
          "base_uri": "https://localhost:8080/"
        },
        "id": "F15MNls1lour",
        "outputId": "197678db-bcf9-4836-d3f0-f530724e2d8e"
      },
      "execution_count": null,
      "outputs": [
        {
          "output_type": "execute_result",
          "data": {
            "text/plain": [
              "['/content/drive/MyDrive/Memotion3/ResNETimage/best_random_forest_model.pkl']"
            ]
          },
          "metadata": {},
          "execution_count": 101
        }
      ]
    },
    {
      "cell_type": "code",
      "source": [
        "from sklearn.metrics import roc_curve, auc"
      ],
      "metadata": {
        "id": "eVlZPgMBM231"
      },
      "execution_count": null,
      "outputs": []
    },
    {
      "cell_type": "code",
      "execution_count": null,
      "metadata": {
        "id": "zsjQNXQjPnOg"
      },
      "outputs": [],
      "source": [
        "models = {}\n",
        "models['LR'] = LogisticRegression(C=5,solver= 'saga')\n",
        "from sklearn.svm import SVC\n",
        "\n",
        "models = {}\n",
        "models['SVM'] = SVC(\n",
        "    C=1,\n",
        "    kernel='rbf',        # You can change this to 'rbf', 'poly', or others\n",
        "    probability=True,       # Enables predict_proba (useful for ROC-AUC)\n",
        "    max_iter=5000           # Controls convergence speed\n",
        ")\n",
        "\n",
        "models['CART'] = RandomForestClassifier(max_depth=15,max_features='sqrt',n_estimators=10)\n",
        "\n"
      ]
    },
    {
      "cell_type": "markdown",
      "source": [
        "## Fused image features with text"
      ],
      "metadata": {
        "id": "dswOdgz0nEGO"
      }
    },
    {
      "cell_type": "code",
      "source": [
        "from sklearn.linear_model import LogisticRegression\n",
        "from sklearn.metrics import roc_curve, auc\n",
        "import matplotlib.pyplot as plt\n",
        "\n",
        "#LR_model = LogisticRegression(C=5,solver = 'saga',class_weight='balanced')\n",
        "LR_model = LogisticRegression(C=1, penalty='l1', solver='liblinear', class_weight='balanced')\n",
        "LR_model.fit(X_train_combined, train_data['label'])\n",
        "LR_predictions = LR_model.predict(X_train_combined)\n",
        "LR_y_score = LR_model.decision_function(X_train_combined)\n",
        "\n",
        "lr_fpr, lr_tpr, _ = roc_curve(train_data['label'], LR_y_score)\n",
        "lr_roc_auc = auc(lr_fpr, lr_tpr)\n",
        "print('Accuracy for %s is %s' % ('Logistic Regression',accuracy_score(train_data['label'], LR_predictions)))\n",
        "print('LR ROC_AUC is %s' %(lr_roc_auc))"
      ],
      "metadata": {
        "colab": {
          "base_uri": "https://localhost:8080/"
        },
        "id": "TvK0qXW3m1zT",
        "outputId": "2216236c-4ca2-49e6-f0e6-66ee89151440"
      },
      "execution_count": null,
      "outputs": [
        {
          "output_type": "stream",
          "name": "stdout",
          "text": [
            "Accuracy for Logistic Regression is 0.6464285714285715\n",
            "LR ROC_AUC is 0.7044397887862115\n"
          ]
        }
      ]
    },
    {
      "cell_type": "markdown",
      "source": [
        "### AUC curves for Train data"
      ],
      "metadata": {
        "id": "i4dwdXVia05i"
      }
    },
    {
      "cell_type": "code",
      "source": [
        "from sklearn.linear_model import LogisticRegression\n",
        "from sklearn.metrics import roc_curve, auc\n",
        "import matplotlib.pyplot as plt\n",
        "\n",
        "# ✅ Train LR on fused features\n",
        "LR_model = LogisticRegression(\n",
        "    C=1, solver='liblinear', class_weight='balanced', max_iter=10000\n",
        ")\n",
        "LR_model.fit(X_train_combined, train_data['label'])\n",
        "\n",
        "# Decision scores for ROC\n",
        "LR_scores = LR_model.decision_function(X_train_combined)\n",
        "\n",
        "# ROC computation\n",
        "lr_fpr, lr_tpr, _ = roc_curve(train_data['label'], LR_scores)\n",
        "lr_roc_auc = auc(lr_fpr, lr_tpr)\n",
        "\n",
        "# Plot ROC Curve\n",
        "plt.plot(lr_fpr, lr_tpr, label=f\"Logistic Regression (AUC = {lr_roc_auc:.2f})\", color='orange')\n",
        "plt.xlabel(\"False Positive Rate\")\n",
        "plt.ylabel(\"True Positive Rate\")\n",
        "plt.title(\"ROC Curve - Logistic Regression on Fused Features\")\n",
        "plt.legend()\n",
        "plt.grid()\n",
        "plt.show()\n"
      ],
      "metadata": {
        "colab": {
          "base_uri": "https://localhost:8080/",
          "height": 472
        },
        "id": "D-liudnvoly-",
        "outputId": "83e2a47f-509b-4e49-ebd7-93925536294a"
      },
      "execution_count": null,
      "outputs": [
        {
          "output_type": "display_data",
          "data": {
            "text/plain": [
              "<Figure size 640x480 with 1 Axes>"
            ],
            "image/png": "[encoded data removed]"
          },
          "metadata": {}
        }
      ]
    },
    {
      "cell_type": "code",
      "source": [
        "from sklearn.svm import SVC\n",
        "from sklearn.metrics import accuracy_score, roc_curve, auc\n",
        "import matplotlib.pyplot as plt\n",
        "\n",
        "\n",
        "\n",
        "#Best SVM Params: {'C': 0.001, 'class_weight': 'balanced', 'loss': 'hinge'}\n",
        "#  Reinitialize SVM for fused features with probability=True if not already done\n",
        "SVM_model = SVC(\n",
        "    C=1,\n",
        "    kernel='linear',\n",
        "    class_weight='balanced',\n",
        "    #probability=True,\n",
        "    random_state=42\n",
        ")\n",
        "\n",
        "#  Fit on fused training features\n",
        "SVM_model.fit(X_train_combined, train_data['label'])\n",
        "\n",
        "#  Fit on fused training features\n",
        "#SVM_model.fit(X_train_combined, train_data['label'])\n",
        "\n",
        "#  Predict + get decision scores for ROC-AUC\n",
        "SVM_predictions = SVM_model.predict(X_train_combined)\n",
        "SVM_scores = SVM_model.decision_function(X_train_combined)\n",
        "\n",
        "#  Compute ROC curve + AUC\n",
        "svm_fpr, svm_tpr, _ = roc_curve(train_data['label'], SVM_scores)\n",
        "svm_roc_auc = auc(svm_fpr, svm_tpr)\n",
        "\n",
        "#  Print results\n",
        "print(f\"Accuracy for SVM is {accuracy_score(train_data['label'], SVM_predictions):.4f}\")\n",
        "print(f\"SVM ROC_AUC is {svm_roc_auc:.4f}\")\n",
        "\n",
        "\n"
      ],
      "metadata": {
        "colab": {
          "base_uri": "https://localhost:8080/"
        },
        "id": "C0kXu6KBqbiu",
        "outputId": "f8fd4bd2-6f6a-4d22-bef5-2fdfeb1eeb6a"
      },
      "execution_count": null,
      "outputs": [
        {
          "output_type": "stream",
          "name": "stdout",
          "text": [
            "Accuracy for SVM is 0.6503\n",
            "SVM ROC_AUC is 0.7046\n"
          ]
        }
      ]
    },
    {
      "cell_type": "markdown",
      "source": [
        "## SVM with image features"
      ],
      "metadata": {
        "id": "M9eWNaKVnStz"
      }
    },
    {
      "cell_type": "code",
      "source": [
        "# Plot ROC Curve\n",
        "plt.plot(svm_fpr, svm_tpr, label=f\"SVM (AUC = {svm_roc_auc:.2f})\", color='purple')\n",
        "plt.xlabel(\"False Positive Rate\")\n",
        "plt.ylabel(\"True Positive Rate\")\n",
        "plt.title(\"ROC Curve - SVM on Fused Features\")\n",
        "plt.legend()\n",
        "plt.grid()\n",
        "plt.show()"
      ],
      "metadata": {
        "colab": {
          "base_uri": "https://localhost:8080/",
          "height": 472
        },
        "id": "Jt8cP1VNnoR1",
        "outputId": "e252acae-ac42-497c-ff26-bb8e60b01b2d"
      },
      "execution_count": null,
      "outputs": [
        {
          "output_type": "display_data",
          "data": {
            "text/plain": [
              "<Figure size 640x480 with 1 Axes>"
            ],
            "image/png": "[encoded data removed]"
          },
          "metadata": {}
        }
      ]
    },
    {
      "cell_type": "markdown",
      "source": [
        "## RF with the image features fused"
      ],
      "metadata": {
        "id": "rx_qHxu1o97x"
      }
    },
    {
      "cell_type": "code",
      "source": [
        "from sklearn.ensemble import RandomForestClassifier\n",
        "from sklearn.metrics import accuracy_score, roc_curve, auc\n",
        "import matplotlib.pyplot as plt\n",
        "\n",
        "#  Reinitialize RF for fused features\n",
        "RF_model = RandomForestClassifier(\n",
        "    n_estimators=150,\n",
        "    max_depth=9,\n",
        "    max_features='sqrt',\n",
        "    class_weight='balanced',\n",
        "    random_state=42\n",
        ")\n",
        "\n",
        "\n",
        "#  Fit on fused features\n",
        "RF_model.fit(X_train_combined, train_data['label'])\n",
        "\n",
        "#  Predict + probability scores for ROC-AUC\n",
        "RF_predictions = RF_model.predict(X_train_combined)\n",
        "RF_probs = RF_model.predict_proba(X_train_combined)[:, 1]  # Get prob for class 1\n",
        "\n",
        "#  ROC Curve + AUC\n",
        "rf_fpr, rf_tpr, _ = roc_curve(train_data['label'], RF_probs)\n",
        "rf_roc_auc = auc(rf_fpr, rf_tpr)\n",
        "\n",
        "#  Print results\n",
        "print(f\"Accuracy for RF is {accuracy_score(train_data['label'], RF_predictions):.4f}\")\n",
        "print(f\"RF ROC_AUC is {rf_roc_auc:.4f}\")\n",
        "\n"
      ],
      "metadata": {
        "colab": {
          "base_uri": "https://localhost:8080/"
        },
        "id": "5BBjAuU_nzvk",
        "outputId": "f17b42e7-26a8-4422-e8da-f1a8dc67dfa8"
      },
      "execution_count": null,
      "outputs": [
        {
          "output_type": "stream",
          "name": "stdout",
          "text": [
            "Accuracy for RF is 0.9344\n",
            "RF ROC_AUC is 0.9797\n"
          ]
        }
      ]
    },
    {
      "cell_type": "code",
      "source": [
        "#  Plot ROC\n",
        "plt.plot(rf_fpr, rf_tpr, label=f\"Random Forest (AUC = {rf_roc_auc:.2f})\", color='green')\n",
        "plt.xlabel(\"False Positive Rate\")\n",
        "plt.ylabel(\"True Positive Rate\")\n",
        "plt.title(\"ROC Curve - Random Forest on Fused Features\")\n",
        "plt.legend()\n",
        "plt.grid()\n",
        "plt.show()"
      ],
      "metadata": {
        "colab": {
          "base_uri": "https://localhost:8080/",
          "height": 472
        },
        "id": "PqOLXGQcnl8r",
        "outputId": "486768e9-82fe-492c-ef1b-b7d589615e26"
      },
      "execution_count": null,
      "outputs": [
        {
          "output_type": "display_data",
          "data": {
            "text/plain": [
              "<Figure size 640x480 with 1 Axes>"
            ],
            "image/png": "[encoded data removed]"
          },
          "metadata": {}
        }
      ]
    },
    {
      "cell_type": "code",
      "source": [
        "from sklearn.metrics import auc\n",
        "lw = 2\n",
        "fig=plt.figure(figsize=(10,10))\n",
        "\n",
        "ax1=fig.add_subplot(231)\n",
        "ax1.plot(lr_fpr, lr_tpr, color='darkorange',\n",
        "         lw=lw, label='ROC curve (area = %0.2f)' % lr_roc_auc)\n",
        "ax1.plot([0, 1], [0, 1], color='navy', lw=lw, linestyle='--')\n",
        "plt.xlim([0.0, 1.0])\n",
        "plt.ylim([0.0, 1.05])\n",
        "plt.xlabel('False Positive Rate')\n",
        "plt.ylabel('True Positive Rate')\n",
        "plt.title('ROC for LR with TF-IDF')\n",
        "plt.legend(loc=\"lower right\")\n",
        "\n",
        "\n",
        "ax2=fig.add_subplot(232)\n",
        "ax2.plot(svm_fpr, svm_tpr, color='darkorange',\n",
        "         lw=lw, label='ROC curve (area = %0.2f)' % svm_roc_auc)\n",
        "ax2.plot([0, 1], [0, 1], color='navy', lw=lw, linestyle='--')\n",
        "plt.xlim([0.0, 1.0])\n",
        "plt.ylim([0.0, 1.05])\n",
        "plt.xlabel('False Positive Rate')\n",
        "plt.ylabel('True Positive Rate')\n",
        "plt.title('ROC for SVM with TF-IDF')\n",
        "plt.legend(loc=\"lower right\")\n",
        "\n",
        "\n",
        "ax3=fig.add_subplot(233)\n",
        "ax3.plot(rf_fpr, rf_tpr, color='darkorange',\n",
        "         lw=lw, label='ROC curve (area = %0.2f)' % rf_roc_auc)\n",
        "ax3.plot([0, 1], [0, 1], color='navy', lw=lw, linestyle='--')\n",
        "plt.xlim([0.0, 1.0])\n",
        "plt.ylim([0.0, 1.05])\n",
        "plt.xlabel('False Positive Rate')\n",
        "plt.ylabel('True Positive Rate')\n",
        "plt.title('ROC for RF with TF-IDF')\n",
        "plt.legend(loc=\"lower right\")\n",
        "\n",
        "\n"
      ],
      "metadata": {
        "id": "IzMu8lufTkm2",
        "colab": {
          "base_uri": "https://localhost:8080/",
          "height": 469
        },
        "outputId": "8e742fde-c717-4d86-f320-9a26f607ba31"
      },
      "execution_count": null,
      "outputs": [
        {
          "output_type": "execute_result",
          "data": {
            "text/plain": [
              "<matplotlib.legend.Legend at 0x7dbc5c642150>"
            ]
          },
          "metadata": {},
          "execution_count": 114
        },
        {
          "output_type": "display_data",
          "data": {
            "text/plain": [
              "<Figure size 1000x1000 with 3 Axes>"
            ],
            "image/png": "[encoded data removed]"
          },
          "metadata": {}
        }
      ]
    },
    {
      "cell_type": "markdown",
      "source": [
        "## Compute recall, F1 and precision with fused features"
      ],
      "metadata": {
        "id": "6vCoWNWhk9v8"
      }
    },
    {
      "cell_type": "code",
      "source": [
        "from sklearn.metrics import precision_score, recall_score, f1_score, classification_report\n",
        "\n",
        "best_model = grid_svm.best_estimator_\n",
        "preds = best_model.predict(X_train_combined)\n",
        "\n",
        "models = {\n",
        "    'Logistic Regression': LR_model,\n",
        "    'Random Forest': RF_model\n",
        "}\n",
        "\n",
        "for name, model in models.items():\n",
        "    print(f\"\\n Evaluating {name} with combined features \")\n",
        "\n",
        "    preds = model.predict(X_train_combined)  # Or X_test_counts_tf if you're evaluating test data\n",
        "\n",
        "    precision = precision_score(train_data['label'], preds, average='binary')  # change to 'macro' or 'weighted' if multiclass\n",
        "    recall = recall_score(train_data['label'], preds, average='binary')\n",
        "    f1 = f1_score(train_data['label'], preds, average='binary')\n",
        "\n",
        "    print(f\" Precision: {precision:.4f}\")\n",
        "    print(f\" Recall:    {recall:.4f}\")\n",
        "    print(f\" F1 Score:  {f1:.4f}\")\n",
        "\n",
        "    print(\"📊 Full Classification Report:\")\n",
        "    print(classification_report(train_data['label'], preds))\n"
      ],
      "metadata": {
        "colab": {
          "base_uri": "https://localhost:8080/"
        },
        "id": "x8cMd4RKfwF8",
        "outputId": "04127f50-0942-4949-8b7c-6e68c984192c"
      },
      "execution_count": null,
      "outputs": [
        {
          "output_type": "stream",
          "name": "stdout",
          "text": [
            "\n",
            "📌 Evaluating Logistic Regression with combined features \n",
            "🔹 Precision: 0.5517\n",
            "🔹 Recall:    0.6312\n",
            "🔹 F1 Score:  0.5887\n",
            "📊 Full Classification Report:\n",
            "              precision    recall  f1-score   support\n",
            "\n",
            "           0       0.72      0.65      0.69      4183\n",
            "           1       0.55      0.63      0.59      2817\n",
            "\n",
            "    accuracy                           0.65      7000\n",
            "   macro avg       0.64      0.64      0.64      7000\n",
            "weighted avg       0.66      0.65      0.65      7000\n",
            "\n",
            "\n",
            "📌 Evaluating Random Forest with combined features \n",
            "🔹 Precision: 0.6577\n",
            "🔹 Recall:    0.6567\n",
            "🔹 F1 Score:  0.6572\n",
            "📊 Full Classification Report:\n",
            "              precision    recall  f1-score   support\n",
            "\n",
            "           0       0.77      0.77      0.77      4183\n",
            "           1       0.66      0.66      0.66      2817\n",
            "\n",
            "    accuracy                           0.72      7000\n",
            "   macro avg       0.71      0.71      0.71      7000\n",
            "weighted avg       0.72      0.72      0.72      7000\n",
            "\n"
          ]
        }
      ]
    },
    {
      "cell_type": "code",
      "source": [
        "from sklearn.metrics import precision_score, recall_score, f1_score, classification_report\n",
        "\n",
        "# If you've already run:\n",
        "# SVM_predictions = SVM_model.predict(X_train_combined)\n",
        "\n",
        "precision = precision_score(train_data['label'], SVM_predictions)\n",
        "recall = recall_score(train_data['label'], SVM_predictions)\n",
        "f1 = f1_score(train_data['label'], SVM_predictions)\n",
        "\n",
        "print(f\"🔹 Precision (train): {precision:.4f}\")\n",
        "print(f\"🔹 Recall (train):    {recall:.4f}\")\n",
        "print(f\"🔹 F1 Score (train):  {f1:.4f}\")\n",
        "\n",
        "# Optional: Full breakdown\n",
        "print(\"\\n📊 Classification Report on Train:\")\n",
        "print(classification_report(train_data['label'], SVM_predictions))\n"
      ],
      "metadata": {
        "colab": {
          "base_uri": "https://localhost:8080/"
        },
        "id": "zc8JK8Xcqusl",
        "outputId": "9d290a0b-a109-44b6-951d-3eaea0f0a127"
      },
      "execution_count": null,
      "outputs": [
        {
          "output_type": "stream",
          "name": "stdout",
          "text": [
            "🔹 Precision (train): 0.5543\n",
            "🔹 Recall (train):    0.6415\n",
            "🔹 F1 Score (train):  0.5947\n",
            "\n",
            "📊 Classification Report on Train:\n",
            "              precision    recall  f1-score   support\n",
            "\n",
            "           0       0.73      0.65      0.69      4183\n",
            "           1       0.55      0.64      0.59      2817\n",
            "\n",
            "    accuracy                           0.65      7000\n",
            "   macro avg       0.64      0.65      0.64      7000\n",
            "weighted avg       0.66      0.65      0.65      7000\n",
            "\n"
          ]
        }
      ]
    },
    {
      "cell_type": "code",
      "source": [
        "#define a funcation that could draw confusion matrix\n",
        "def plot_confusion_matrix(cm, labels_name, title):\n",
        "    cm = cm.astype('float') / cm.sum(axis=1)[:, np.newaxis]\n",
        "    plt.imshow(cm, interpolation='nearest')\n",
        "    plt.title(title)\n",
        "    plt.colorbar()\n",
        "    num_local = np.array(range(len(labels_name)))\n",
        "    plt.xticks(num_local, labels_name, rotation=90)\n",
        "    plt.yticks(num_local, labels_name)\n",
        "    plt.ylabel('True label')\n",
        "    plt.xlabel('Predicted label')"
      ],
      "metadata": {
        "id": "emNHB42Gf-rz"
      },
      "execution_count": null,
      "outputs": []
    },
    {
      "cell_type": "code",
      "source": [
        "from sklearn.metrics import confusion_matrix, ConfusionMatrixDisplay\n",
        "import matplotlib.pyplot as plt\n",
        "\n",
        "#  Predictions\n",
        "lr_predictions = LR_model.predict(X_train_combined)  # or X_train_counts_tf if on train data\n",
        "\n",
        "# True labels\n",
        "y_true = train_data['label']  # or train_data['label'] if you're using train set\n",
        "\n",
        "#  Confusion matrix\n",
        "LR_matrix = confusion_matrix(y_true, lr_predictions)\n",
        "\n",
        "#  Plot\n",
        "disp = ConfusionMatrixDisplay(confusion_matrix=LR_matrix, display_labels=['non-hateful','hateful'])\n",
        "disp.plot(cmap=plt.cm.Blues)\n",
        "plt.title(\"Confusion Matrix\")\n",
        "plt.show()\n"
      ],
      "metadata": {
        "id": "au_kNV8YS6bo",
        "colab": {
          "base_uri": "https://localhost:8080/",
          "height": 472
        },
        "outputId": "d2ff196b-57e4-4b89-a779-325b54be7f05"
      },
      "execution_count": null,
      "outputs": [
        {
          "output_type": "display_data",
          "data": {
            "text/plain": [
              "<Figure size 640x480 with 2 Axes>"
            ],
            "image/png": "[encoded data removed]"
          },
          "metadata": {}
        }
      ]
    },
    {
      "cell_type": "code",
      "source": [
        "from sklearn.metrics import confusion_matrix, ConfusionMatrixDisplay\n",
        "import matplotlib.pyplot as plt\n",
        "\n",
        "# Compute the confusion matrix\n",
        "cm = confusion_matrix(train_data['label'], SVM_predictions)\n",
        "\n",
        "# Display the matrix\n",
        "disp = ConfusionMatrixDisplay(confusion_matrix=cm, display_labels=['Class 0', 'Class 1'])\n",
        "disp.plot(cmap='Blues', values_format='d')\n",
        "plt.title(\"Confusion Matrix on Training Data\")\n",
        "plt.tight_layout()\n",
        "plt.show()\n"
      ],
      "metadata": {
        "colab": {
          "base_uri": "https://localhost:8080/",
          "height": 487
        },
        "id": "2FmnEfViikNq",
        "outputId": "b26a7b0a-99f5-4cf9-fa99-13cdd13661f3"
      },
      "execution_count": null,
      "outputs": [
        {
          "output_type": "display_data",
          "data": {
            "text/plain": [
              "<Figure size 640x480 with 2 Axes>"
            ],
            "image/png": "[encoded data removed]"
          },
          "metadata": {}
        }
      ]
    },
    {
      "cell_type": "code",
      "source": [
        "from sklearn.metrics import confusion_matrix, ConfusionMatrixDisplay\n",
        "import matplotlib.pyplot as plt\n",
        "\n",
        "#  Predictions\n",
        "rf_predictions = RF_model.predict(X_train_combined)  # or X_train_counts_tf if on train data\n",
        "\n",
        "#  True labels\n",
        "y_rf_true = train_data['label']  # or train_data['label'] if you're using train set\n",
        "\n",
        "#  Confusion matrix\n",
        "RF_matrix = confusion_matrix(y_rf_true, rf_predictions)\n",
        "\n",
        "#  Plot\n",
        "disp = ConfusionMatrixDisplay(confusion_matrix=RF_matrix, display_labels=['non-hateful','hateful'])\n",
        "disp.plot(cmap=plt.cm.Blues)\n",
        "plt.title(\"Confusion Matrix\")\n",
        "plt.show()\n"
      ],
      "metadata": {
        "colab": {
          "base_uri": "https://localhost:8080/",
          "height": 472
        },
        "id": "7kIZ5DwXjM1O",
        "outputId": "49e22061-661b-47f9-996e-f858f71e064b"
      },
      "execution_count": null,
      "outputs": [
        {
          "output_type": "display_data",
          "data": {
            "text/plain": [
              "<Figure size 640x480 with 2 Axes>"
            ],
            "image/png": "[encoded data removed]"
          },
          "metadata": {}
        }
      ]
    },
    {
      "cell_type": "markdown",
      "source": [
        "### Predict on Fused Test Features on val data"
      ],
      "metadata": {
        "id": "uqPd7TMaq_NX"
      }
    },
    {
      "cell_type": "code",
      "source": [
        "# Logistic Regression\n",
        "lr_val_preds = LR_model.predict(X_val_combined)\n",
        "\n",
        "# SVM\n",
        "svm_val_preds = SVM_model.predict(X_val_combined)\n",
        "\n",
        "# Random Forest\n",
        "rf_val_preds = RF_model.predict(X_val_combined)\n"
      ],
      "metadata": {
        "id": "4vhBlna8l85_"
      },
      "execution_count": null,
      "outputs": []
    },
    {
      "cell_type": "markdown",
      "source": [
        "##  Compute Metrics on fused val data"
      ],
      "metadata": {
        "id": "pirvvkjzrJfN"
      }
    },
    {
      "cell_type": "code",
      "source": [
        "from sklearn.metrics import classification_report, accuracy_score\n",
        "\n",
        "print(\" LR on Validation Set:\")\n",
        "print(classification_report(val_data['label'], lr_val_preds))\n",
        "print(\"Accuracy:\", accuracy_score(val_data['label'], lr_val_preds))\n",
        "\n",
        "print(\"\\n SVM on Validation Set:\")\n",
        "print(classification_report(val_data['label'], svm_val_preds))\n",
        "print(\"Accuracy:\", accuracy_score(val_data['label'], svm_val_preds))\n",
        "\n",
        "print(\"\\n Random Forest on Validation Set:\")\n",
        "print(classification_report(val_data['label'], rf_val_preds))\n",
        "print(\"Accuracy:\", accuracy_score(val_data['label'], rf_val_preds))\n"
      ],
      "metadata": {
        "colab": {
          "base_uri": "https://localhost:8080/"
        },
        "id": "bp6uC4EfrIw3",
        "outputId": "ccf3170d-f5c5-4a41-af6f-65e06e3955fa"
      },
      "execution_count": null,
      "outputs": [
        {
          "output_type": "stream",
          "name": "stdout",
          "text": [
            "📊 LR on Validation Set:\n",
            "              precision    recall  f1-score   support\n",
            "\n",
            "           0       0.44      0.66      0.53       637\n",
            "           1       0.60      0.38      0.46       863\n",
            "\n",
            "    accuracy                           0.50      1500\n",
            "   macro avg       0.52      0.52      0.49      1500\n",
            "weighted avg       0.53      0.50      0.49      1500\n",
            "\n",
            "Accuracy: 0.49533333333333335\n",
            "\n",
            "📊 SVM on Validation Set:\n",
            "              precision    recall  f1-score   support\n",
            "\n",
            "           0       0.44      0.65      0.52       637\n",
            "           1       0.60      0.39      0.47       863\n",
            "\n",
            "    accuracy                           0.50      1500\n",
            "   macro avg       0.52      0.52      0.50      1500\n",
            "weighted avg       0.53      0.50      0.49      1500\n",
            "\n",
            "Accuracy: 0.498\n",
            "\n",
            "📊 Random Forest on Validation Set:\n",
            "              precision    recall  f1-score   support\n",
            "\n",
            "           0       0.44      0.70      0.54       637\n",
            "           1       0.61      0.34      0.44       863\n",
            "\n",
            "    accuracy                           0.49      1500\n",
            "   macro avg       0.52      0.52      0.49      1500\n",
            "weighted avg       0.54      0.49      0.48      1500\n",
            "\n",
            "Accuracy: 0.49333333333333335\n"
          ]
        }
      ]
    },
    {
      "cell_type": "markdown",
      "source": [
        "## Compute precision, F1 and recall on val data"
      ],
      "metadata": {
        "id": "GeqSuz7XsPI5"
      }
    },
    {
      "cell_type": "code",
      "source": [
        "from sklearn.metrics import (\n",
        "    classification_report,\n",
        "    confusion_matrix,\n",
        "    precision_score,\n",
        "    recall_score,\n",
        "    f1_score,\n",
        "    roc_curve,\n",
        "    auc\n",
        ")\n",
        "import matplotlib.pyplot as plt\n",
        "\n",
        "# Example: Logistic Regression on fused validation features\n",
        "lr_val_preds = LR_model.predict(X_val_combined)\n",
        "lr_scores = LR_model.decision_function(X_val_combined)  # or predict_proba if available\n",
        "\n",
        "#  Basic Metrics\n",
        "print(\" Precision:\", precision_score(val_data['label'], lr_val_preds, average='binary'))\n",
        "print(\" Recall:   \", recall_score(val_data['label'], lr_val_preds, average='binary'))\n",
        "print(\" F1 Score: \", f1_score(val_data['label'], lr_val_preds, average='binary'))\n",
        "\n",
        "#  Full Report\n",
        "print(\"\\n📊 Classification Report using combined features:\")\n",
        "print(classification_report(val_data['label'], lr_val_preds))\n",
        "\n",
        "#  Confusion Matrix\n",
        "print(\" Confusion Matrix :\")\n",
        "print(confusion_matrix(val_data['label'], lr_val_preds))\n",
        "\n",
        "#  ROC Curve\n",
        "fpr, tpr, _ = roc_curve(val_data['label'], lr_scores)\n",
        "roc_auc = auc(fpr, tpr)\n",
        "print(f\" ROC AUC: {roc_auc:.4f}\")\n",
        "\n",
        "#  Plot ROC\n",
        "plt.plot(fpr, tpr, label=f\"LR (AUC = {roc_auc:.2f})\", color='orange')\n",
        "plt.xlabel(\"False Positive Rate\")\n",
        "plt.ylabel(\"True Positive Rate\")\n",
        "plt.title(\"ROC Curve - LR on Validation\")\n",
        "plt.legend()\n",
        "plt.grid()\n",
        "plt.show()\n"
      ],
      "metadata": {
        "id": "uAlO4lUG45KN",
        "colab": {
          "base_uri": "https://localhost:8080/",
          "height": 784
        },
        "outputId": "69987825-fc04-4620-ab44-27a92e312533"
      },
      "execution_count": null,
      "outputs": [
        {
          "output_type": "stream",
          "name": "stdout",
          "text": [
            "📌 Precision: 0.5977859778597786\n",
            "📌 Recall:    0.37543453070683663\n",
            "📌 F1 Score:  0.46120996441281137\n",
            "\n",
            "📊 Classification Report using combined features:\n",
            "              precision    recall  f1-score   support\n",
            "\n",
            "           0       0.44      0.66      0.53       637\n",
            "           1       0.60      0.38      0.46       863\n",
            "\n",
            "    accuracy                           0.50      1500\n",
            "   macro avg       0.52      0.52      0.49      1500\n",
            "weighted avg       0.53      0.50      0.49      1500\n",
            "\n",
            "📌 Confusion Matrix :\n",
            "[[419 218]\n",
            " [539 324]]\n",
            "📈 ROC AUC: 0.5296\n"
          ]
        },
        {
          "output_type": "display_data",
          "data": {
            "text/plain": [
              "<Figure size 640x480 with 1 Axes>"
            ],
            "image/png": "[encoded data removed]"
          },
          "metadata": {}
        }
      ]
    },
    {
      "cell_type": "code",
      "source": [
        "from sklearn.metrics import (\n",
        "    classification_report,\n",
        "    confusion_matrix,\n",
        "    precision_score,\n",
        "    recall_score,\n",
        "    f1_score,\n",
        "    roc_curve,\n",
        "    auc\n",
        ")\n",
        "import matplotlib.pyplot as plt\n",
        "\n",
        "#  Predict using SVM on validation set\n",
        "svm_val_preds = SVM_model.predict(X_val_combined)\n",
        "\n",
        "#  Get decision scores for ROC\n",
        "svm_scores = SVM_model.decision_function(X_val_combined)\n",
        "\n",
        "#  Basic Metrics\n",
        "print(\" Precision:\", precision_score(val_data['label'], svm_val_preds, average='binary'))\n",
        "print(\" Recall:   \", recall_score(val_data['label'], svm_val_preds, average='binary'))\n",
        "print(\" F1 Score: \", f1_score(val_data['label'], svm_val_preds, average='binary'))\n",
        "\n",
        "#  Full Report\n",
        "print(\"\\n Classification Report using combined features (SVM):\")\n",
        "print(classification_report(val_data['label'], svm_val_preds))\n",
        "\n",
        "#  Confusion Matrix\n",
        "print(\" Confusion Matrix (SVM):\")\n",
        "print(confusion_matrix(val_data['label'], svm_val_preds))\n",
        "\n",
        "#  ROC Curve\n",
        "fpr, tpr, _ = roc_curve(val_data['label'], svm_scores)\n",
        "roc_auc = auc(fpr, tpr)\n",
        "print(f\"📈 ROC AUC: {roc_auc:.4f}\")\n",
        "\n",
        "# Plot ROC\n",
        "plt.plot(fpr, tpr, label=f\"SVM (AUC = {roc_auc:.2f})\", color='purple')\n",
        "plt.xlabel(\"False Positive Rate\")\n",
        "plt.ylabel(\"True Positive Rate\")\n",
        "plt.title(\"ROC Curve - SVM on Validation\")\n",
        "plt.legend()\n",
        "plt.grid()\n",
        "plt.show()\n"
      ],
      "metadata": {
        "colab": {
          "base_uri": "https://localhost:8080/",
          "height": 784
        },
        "id": "B_UnKl4ptouS",
        "outputId": "933c598f-d097-4e3e-d2f3-1abb0dcbd346"
      },
      "execution_count": null,
      "outputs": [
        {
          "output_type": "stream",
          "name": "stdout",
          "text": [
            "📌 Precision: 0.5985663082437276\n",
            "📌 Recall:    0.3870220162224797\n",
            "📌 F1 Score:  0.47009148486981\n",
            "\n",
            "📊 Classification Report using combined features (SVM):\n",
            "              precision    recall  f1-score   support\n",
            "\n",
            "           0       0.44      0.65      0.52       637\n",
            "           1       0.60      0.39      0.47       863\n",
            "\n",
            "    accuracy                           0.50      1500\n",
            "   macro avg       0.52      0.52      0.50      1500\n",
            "weighted avg       0.53      0.50      0.49      1500\n",
            "\n",
            "📌 Confusion Matrix (SVM):\n",
            "[[413 224]\n",
            " [529 334]]\n",
            "📈 ROC AUC: 0.5308\n"
          ]
        },
        {
          "output_type": "display_data",
          "data": {
            "text/plain": [
              "<Figure size 640x480 with 1 Axes>"
            ],
            "image/png": "[encoded data removed]"
          },
          "metadata": {}
        }
      ]
    },
    {
      "cell_type": "code",
      "source": [
        "from sklearn.metrics import (\n",
        "    classification_report,\n",
        "    confusion_matrix,\n",
        "    precision_score,\n",
        "    recall_score,\n",
        "    f1_score,\n",
        "    roc_curve,\n",
        "    auc\n",
        ")\n",
        "import matplotlib.pyplot as plt\n",
        "\n",
        "#  Predict using RF on validation set\n",
        "rf_val_preds = RF_model.predict(X_val_combined)\n",
        "\n",
        "# Get probability scores for ROC-AUC\n",
        "rf_scores = RF_model.predict_proba(X_val_combined)[:, 1]  # Probability for class 1\n",
        "\n",
        "#  Basic Metrics\n",
        "print(\"Precision:\", precision_score(val_data['label'], rf_val_preds, average='binary'))\n",
        "print(\"Recall:   \", recall_score(val_data['label'], rf_val_preds, average='binary'))\n",
        "print(\"F1 Score: \", f1_score(val_data['label'], rf_val_preds, average='binary'))\n",
        "\n",
        "# 📊 Full Report\n",
        "print(\"\\n📊 Classification Report using combined features (RF):\")\n",
        "print(classification_report(val_data['label'], rf_val_preds))\n",
        "\n",
        "#  Confusion Matrix\n",
        "print(\" Confusion Matrix (RF):\")\n",
        "print(confusion_matrix(val_data['label'], rf_val_preds))\n",
        "\n",
        "#  ROC Curve\n",
        "fpr, tpr, _ = roc_curve(val_data['label'], rf_scores)\n",
        "roc_auc = auc(fpr, tpr)\n",
        "print(f\"📈 ROC AUC: {roc_auc:.4f}\")\n",
        "\n",
        "#  Plot ROC\n",
        "plt.plot(fpr, tpr, label=f\"Random Forest (AUC = {roc_auc:.2f})\", color='green')\n",
        "plt.xlabel(\"False Positive Rate\")\n",
        "plt.ylabel(\"True Positive Rate\")\n",
        "plt.title(\"ROC Curve - RF on Validation\")\n",
        "plt.legend()\n",
        "plt.grid()\n",
        "plt.show()\n"
      ],
      "metadata": {
        "colab": {
          "base_uri": "https://localhost:8080/",
          "height": 784
        },
        "id": "mE4HuBDzt32j",
        "outputId": "dc7db00d-cee7-4d19-f338-907ca653fa18"
      },
      "execution_count": null,
      "outputs": [
        {
          "output_type": "stream",
          "name": "stdout",
          "text": [
            "📌 Precision: 0.6066252587991718\n",
            "📌 Recall:    0.33951332560834296\n",
            "📌 F1 Score:  0.43536404160475484\n",
            "\n",
            "📊 Classification Report using combined features (RF):\n",
            "              precision    recall  f1-score   support\n",
            "\n",
            "           0       0.44      0.70      0.54       637\n",
            "           1       0.61      0.34      0.44       863\n",
            "\n",
            "    accuracy                           0.49      1500\n",
            "   macro avg       0.52      0.52      0.49      1500\n",
            "weighted avg       0.54      0.49      0.48      1500\n",
            "\n",
            "📌 Confusion Matrix (RF):\n",
            "[[447 190]\n",
            " [570 293]]\n",
            "📈 ROC AUC: 0.5257\n"
          ]
        },
        {
          "output_type": "display_data",
          "data": {
            "text/plain": [
              "<Figure size 640x480 with 1 Axes>"
            ],
            "image/png": "[encoded data removed]"
          },
          "metadata": {}
        }
      ]
    },
    {
      "cell_type": "code",
      "source": [
        "X_test_combined = np.hstack([\n",
        "    alpha * X_text_test_pca,\n",
        "    (1 - alpha) * test_image_pca\n",
        "])\n"
      ],
      "metadata": {
        "id": "kCi_tubIwryl"
      },
      "execution_count": null,
      "outputs": []
    },
    {
      "cell_type": "markdown",
      "source": [
        "## Predict labels on test data"
      ],
      "metadata": {
        "id": "H-vZG4WMwNSf"
      }
    },
    {
      "cell_type": "markdown",
      "source": [
        "Soft Voting (Confidence-Weighted 🔍)\n",
        "Use prediction probabilities instead of hard labels. Models with higher confidence contribute more."
      ],
      "metadata": {
        "id": "ITxMQSYjwSzG"
      }
    },
    {
      "cell_type": "code",
      "source": [
        "lr_test_probs = LR_model.predict_proba(X_test_combined)[:, 1]"
      ],
      "metadata": {
        "id": "RUFMQp5qwvTu"
      },
      "execution_count": null,
      "outputs": []
    },
    {
      "cell_type": "code",
      "source": [
        "test_data.columns"
      ],
      "metadata": {
        "colab": {
          "base_uri": "https://localhost:8080/"
        },
        "id": "VukRBYCF0O4f",
        "outputId": "192d97aa-c45f-4ac8-dfdf-aaa4493787c6"
      },
      "execution_count": null,
      "outputs": [
        {
          "output_type": "execute_result",
          "data": {
            "text/plain": [
              "Index(['id', 'image_url', 'ocr', 'cleaned_ocr'], dtype='object')"
            ]
          },
          "metadata": {},
          "execution_count": 132
        }
      ]
    },
    {
      "cell_type": "code",
      "source": [
        "# Predictions\n",
        "svm_test_preds = best_svm.predict(X_test_combined)\n",
        "\n",
        "# Scores from decision_function for ROC-AUC\n",
        "svm_test_scores = best_svm.decision_function(X_test_combined)"
      ],
      "metadata": {
        "id": "v28H3jsN2AWj"
      },
      "execution_count": null,
      "outputs": []
    },
    {
      "cell_type": "code",
      "source": [
        "from sklearn.preprocessing import MinMaxScaler\n",
        "\n",
        "# Normalize scores to [0, 1] — treat as pseudo-probabilities\n",
        "scaler = MinMaxScaler()\n",
        "svm_test_probs = scaler.fit_transform(svm_test_scores.reshape(-1, 1)).flatten()\n"
      ],
      "metadata": {
        "id": "P5lOHA8Rs6zv"
      },
      "execution_count": null,
      "outputs": []
    },
    {
      "cell_type": "code",
      "source": [
        "rf_test_probs = RF_model.predict_proba(X_test_combined)[:, 1]"
      ],
      "metadata": {
        "id": "6BcOUsWBzrDJ"
      },
      "execution_count": null,
      "outputs": []
    },
    {
      "cell_type": "code",
      "source": [
        "avg_probs = (lr_test_probs + svm_test_probs + rf_test_probs) / 3\n",
        "final_labels = (avg_probs >= 0.5).astype(int)\n"
      ],
      "metadata": {
        "id": "1HvIgiYqzxUt"
      },
      "execution_count": null,
      "outputs": []
    },
    {
      "cell_type": "markdown",
      "source": [
        "## Generating labels based on ensemble technque and saving in csv"
      ],
      "metadata": {
        "id": "IQnTzuLA2TDL"
      }
    },
    {
      "cell_type": "code",
      "source": [
        "import pandas as pd\n",
        "\n",
        "# Step 1: Create DataFrame with raw test info\n",
        "results_df = test_data.copy()\n",
        "\n",
        "# Step 2: Add your final ensemble labels\n",
        "results_df['ensemble_prediction'] = final_labels\n",
        "\n",
        "# Step 3: (Optional) Add model confidence\n",
        "results_df['confidence'] = avg_probs\n",
        "\n",
        "# Step 4: Save to CSV\n",
        "results_df.to_csv(\"Hate_speech_label_predictions_using_ML_0.5.csv\", index=False)\n"
      ],
      "metadata": {
        "id": "a3oVOCIf2SCR"
      },
      "execution_count": null,
      "outputs": []
    },
    {
      "cell_type": "code",
      "source": [],
      "metadata": {
        "id": "IDSMeMqBcrpH"
      },
      "execution_count": null,
      "outputs": []
    }
  ],
  "metadata": {
    "colab": {
      "provenance": []
    },
    "kernelspec": {
      "display_name": "Python 3",
      "name": "python3"
    },
    "language_info": {
      "name": "python"
    }
  },
  "nbformat": 4,
  "nbformat_minor": 0
}